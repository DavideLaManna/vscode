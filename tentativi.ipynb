{
 "cells": [
  {
   "cell_type": "markdown",
   "metadata": {},
   "source": [
    "# da qui in poi creo un knowledge graph from scratch"
   ]
  },
  {
   "cell_type": "code",
   "execution_count": 1,
   "metadata": {},
   "outputs": [
    {
     "ename": "ValueError",
     "evalue": "Cannot resolve address efe380df.databases.neo4j.io:7687",
     "output_type": "error",
     "traceback": [
      "\u001b[31m---------------------------------------------------------------------------\u001b[39m",
      "\u001b[31mgaierror\u001b[39m                                  Traceback (most recent call last)",
      "\u001b[36mFile \u001b[39m\u001b[32m~/Desktop/AINEXXO/vscode/kg_qa/lib/python3.11/site-packages/neo4j/_async_compat/network/_util.py:144\u001b[39m, in \u001b[36mNetworkUtil._dns_resolver\u001b[39m\u001b[34m(address, family)\u001b[39m\n\u001b[32m    143\u001b[39m \u001b[38;5;28;01mtry\u001b[39;00m:\n\u001b[32m--> \u001b[39m\u001b[32m144\u001b[39m     info = \u001b[43mNetworkUtil\u001b[49m\u001b[43m.\u001b[49m\u001b[43mget_address_info\u001b[49m\u001b[43m(\u001b[49m\n\u001b[32m    145\u001b[39m \u001b[43m        \u001b[49m\u001b[43maddress\u001b[49m\u001b[43m.\u001b[49m\u001b[43mhost\u001b[49m\u001b[43m,\u001b[49m\n\u001b[32m    146\u001b[39m \u001b[43m        \u001b[49m\u001b[43maddress\u001b[49m\u001b[43m.\u001b[49m\u001b[43mport\u001b[49m\u001b[43m,\u001b[49m\n\u001b[32m    147\u001b[39m \u001b[43m        \u001b[49m\u001b[43mfamily\u001b[49m\u001b[43m=\u001b[49m\u001b[43mfamily\u001b[49m\u001b[43m,\u001b[49m\n\u001b[32m    148\u001b[39m \u001b[43m        \u001b[49m\u001b[38;5;28;43mtype\u001b[39;49m\u001b[43m=\u001b[49m\u001b[43msocket\u001b[49m\u001b[43m.\u001b[49m\u001b[43mSOCK_STREAM\u001b[49m\u001b[43m,\u001b[49m\n\u001b[32m    149\u001b[39m \u001b[43m    \u001b[49m\u001b[43m)\u001b[49m\n\u001b[32m    150\u001b[39m \u001b[38;5;28;01mexcept\u001b[39;00m \u001b[38;5;167;01mOSError\u001b[39;00m \u001b[38;5;28;01mas\u001b[39;00m e:\n",
      "\u001b[36mFile \u001b[39m\u001b[32m~/Desktop/AINEXXO/vscode/kg_qa/lib/python3.11/site-packages/neo4j/_async_compat/network/_util.py:130\u001b[39m, in \u001b[36mNetworkUtil.get_address_info\u001b[39m\u001b[34m(host, port, family, type, proto, flags)\u001b[39m\n\u001b[32m    128\u001b[39m \u001b[38;5;129m@staticmethod\u001b[39m\n\u001b[32m    129\u001b[39m \u001b[38;5;28;01mdef\u001b[39;00m\u001b[38;5;250m \u001b[39m\u001b[34mget_address_info\u001b[39m(host, port, *, family=\u001b[32m0\u001b[39m, \u001b[38;5;28mtype\u001b[39m=\u001b[32m0\u001b[39m, proto=\u001b[32m0\u001b[39m, flags=\u001b[32m0\u001b[39m):\n\u001b[32m--> \u001b[39m\u001b[32m130\u001b[39m     \u001b[38;5;28;01mreturn\u001b[39;00m \u001b[43msocket\u001b[49m\u001b[43m.\u001b[49m\u001b[43mgetaddrinfo\u001b[49m\u001b[43m(\u001b[49m\u001b[43mhost\u001b[49m\u001b[43m,\u001b[49m\u001b[43m \u001b[49m\u001b[43mport\u001b[49m\u001b[43m,\u001b[49m\u001b[43m \u001b[49m\u001b[43mfamily\u001b[49m\u001b[43m,\u001b[49m\u001b[43m \u001b[49m\u001b[38;5;28;43mtype\u001b[39;49m\u001b[43m,\u001b[49m\u001b[43m \u001b[49m\u001b[43mproto\u001b[49m\u001b[43m,\u001b[49m\u001b[43m \u001b[49m\u001b[43mflags\u001b[49m\u001b[43m)\u001b[49m\n",
      "\u001b[36mFile \u001b[39m\u001b[32m/opt/homebrew/Cellar/python@3.11/3.11.11/Frameworks/Python.framework/Versions/3.11/lib/python3.11/socket.py:974\u001b[39m, in \u001b[36mgetaddrinfo\u001b[39m\u001b[34m(host, port, family, type, proto, flags)\u001b[39m\n\u001b[32m    973\u001b[39m addrlist = []\n\u001b[32m--> \u001b[39m\u001b[32m974\u001b[39m \u001b[38;5;28;01mfor\u001b[39;00m res \u001b[38;5;129;01min\u001b[39;00m \u001b[43m_socket\u001b[49m\u001b[43m.\u001b[49m\u001b[43mgetaddrinfo\u001b[49m\u001b[43m(\u001b[49m\u001b[43mhost\u001b[49m\u001b[43m,\u001b[49m\u001b[43m \u001b[49m\u001b[43mport\u001b[49m\u001b[43m,\u001b[49m\u001b[43m \u001b[49m\u001b[43mfamily\u001b[49m\u001b[43m,\u001b[49m\u001b[43m \u001b[49m\u001b[38;5;28;43mtype\u001b[39;49m\u001b[43m,\u001b[49m\u001b[43m \u001b[49m\u001b[43mproto\u001b[49m\u001b[43m,\u001b[49m\u001b[43m \u001b[49m\u001b[43mflags\u001b[49m\u001b[43m)\u001b[49m:\n\u001b[32m    975\u001b[39m     af, socktype, proto, canonname, sa = res\n",
      "\u001b[31mgaierror\u001b[39m: [Errno 8] nodename nor servname provided, or not known",
      "\nThe above exception was the direct cause of the following exception:\n",
      "\u001b[31mValueError\u001b[39m                                Traceback (most recent call last)",
      "\u001b[36mCell\u001b[39m\u001b[36m \u001b[39m\u001b[32mIn[1]\u001b[39m\u001b[32m, line 32\u001b[39m\n\u001b[32m     30\u001b[39m \u001b[38;5;66;03m# Esegui tutte le query\u001b[39;00m\n\u001b[32m     31\u001b[39m \u001b[38;5;28;01mfor\u001b[39;00m query \u001b[38;5;129;01min\u001b[39;00m queries:\n\u001b[32m---> \u001b[39m\u001b[32m32\u001b[39m     \u001b[43mrun_query\u001b[49m\u001b[43m(\u001b[49m\u001b[43mquery\u001b[49m\u001b[43m)\u001b[49m\n\u001b[32m     34\u001b[39m \u001b[38;5;28mprint\u001b[39m(\u001b[33m\"\u001b[39m\u001b[33mKnowledge Graph creato con successo!\u001b[39m\u001b[33m\"\u001b[39m)\n",
      "\u001b[36mCell\u001b[39m\u001b[36m \u001b[39m\u001b[32mIn[1]\u001b[39m\u001b[32m, line 13\u001b[39m, in \u001b[36mrun_query\u001b[39m\u001b[34m(query)\u001b[39m\n\u001b[32m     11\u001b[39m \u001b[38;5;28;01mwith\u001b[39;00m GraphDatabase.driver(URI, auth=(USERNAME, PASSWORD)) \u001b[38;5;28;01mas\u001b[39;00m driver:\n\u001b[32m     12\u001b[39m     \u001b[38;5;28;01mwith\u001b[39;00m driver.session() \u001b[38;5;28;01mas\u001b[39;00m session:\n\u001b[32m---> \u001b[39m\u001b[32m13\u001b[39m         \u001b[43msession\u001b[49m\u001b[43m.\u001b[49m\u001b[43mrun\u001b[49m\u001b[43m(\u001b[49m\u001b[43mquery\u001b[49m\u001b[43m)\u001b[49m\n",
      "\u001b[36mFile \u001b[39m\u001b[32m~/Desktop/AINEXXO/vscode/kg_qa/lib/python3.11/site-packages/neo4j/_sync/work/session.py:313\u001b[39m, in \u001b[36mSession.run\u001b[39m\u001b[34m(self, query, parameters, **kwargs)\u001b[39m\n\u001b[32m    310\u001b[39m     \u001b[38;5;28mself\u001b[39m._auto_result._buffer_all()\n\u001b[32m    312\u001b[39m \u001b[38;5;28;01mif\u001b[39;00m \u001b[38;5;129;01mnot\u001b[39;00m \u001b[38;5;28mself\u001b[39m._connection:\n\u001b[32m--> \u001b[39m\u001b[32m313\u001b[39m     \u001b[38;5;28;43mself\u001b[39;49m\u001b[43m.\u001b[49m\u001b[43m_connect\u001b[49m\u001b[43m(\u001b[49m\u001b[38;5;28;43mself\u001b[39;49m\u001b[43m.\u001b[49m\u001b[43m_config\u001b[49m\u001b[43m.\u001b[49m\u001b[43mdefault_access_mode\u001b[49m\u001b[43m)\u001b[49m\n\u001b[32m    314\u001b[39m     \u001b[38;5;28;01massert\u001b[39;00m \u001b[38;5;28mself\u001b[39m._connection \u001b[38;5;129;01mis\u001b[39;00m \u001b[38;5;129;01mnot\u001b[39;00m \u001b[38;5;28;01mNone\u001b[39;00m\n\u001b[32m    315\u001b[39m cx = \u001b[38;5;28mself\u001b[39m._connection\n",
      "\u001b[36mFile \u001b[39m\u001b[32m~/Desktop/AINEXXO/vscode/kg_qa/lib/python3.11/site-packages/neo4j/_sync/work/session.py:136\u001b[39m, in \u001b[36mSession._connect\u001b[39m\u001b[34m(self, access_mode, **acquire_kwargs)\u001b[39m\n\u001b[32m    134\u001b[39m     access_mode = \u001b[38;5;28mself\u001b[39m._config.default_access_mode\n\u001b[32m    135\u001b[39m \u001b[38;5;28;01mtry\u001b[39;00m:\n\u001b[32m--> \u001b[39m\u001b[32m136\u001b[39m     \u001b[38;5;28;43msuper\u001b[39;49m\u001b[43m(\u001b[49m\u001b[43m)\u001b[49m\u001b[43m.\u001b[49m\u001b[43m_connect\u001b[49m\u001b[43m(\u001b[49m\n\u001b[32m    137\u001b[39m \u001b[43m        \u001b[49m\u001b[43maccess_mode\u001b[49m\u001b[43m,\u001b[49m\u001b[43m \u001b[49m\u001b[43mauth\u001b[49m\u001b[43m=\u001b[49m\u001b[38;5;28;43mself\u001b[39;49m\u001b[43m.\u001b[49m\u001b[43m_config\u001b[49m\u001b[43m.\u001b[49m\u001b[43mauth\u001b[49m\u001b[43m,\u001b[49m\u001b[43m \u001b[49m\u001b[43m*\u001b[49m\u001b[43m*\u001b[49m\u001b[43macquire_kwargs\u001b[49m\n\u001b[32m    138\u001b[39m \u001b[43m    \u001b[49m\u001b[43m)\u001b[49m\n\u001b[32m    139\u001b[39m \u001b[38;5;28;01mexcept\u001b[39;00m asyncio.CancelledError:\n\u001b[32m    140\u001b[39m     \u001b[38;5;28mself\u001b[39m._handle_cancellation(message=\u001b[33m\"\u001b[39m\u001b[33m_connect\u001b[39m\u001b[33m\"\u001b[39m)\n",
      "\u001b[36mFile \u001b[39m\u001b[32m~/Desktop/AINEXXO/vscode/kg_qa/lib/python3.11/site-packages/neo4j/_sync/work/workspace.py:186\u001b[39m, in \u001b[36mWorkspace._connect\u001b[39m\u001b[34m(self, access_mode, auth, **acquire_kwargs)\u001b[39m\n\u001b[32m    183\u001b[39m     \u001b[38;5;28mself\u001b[39m._disconnect()\n\u001b[32m    185\u001b[39m ssr_enabled = \u001b[38;5;28mself\u001b[39m._pool.ssr_enabled\n\u001b[32m--> \u001b[39m\u001b[32m186\u001b[39m target_db = \u001b[38;5;28;43mself\u001b[39;49m\u001b[43m.\u001b[49m\u001b[43m_get_routing_target_database\u001b[49m\u001b[43m(\u001b[49m\n\u001b[32m    187\u001b[39m \u001b[43m    \u001b[49m\u001b[43macquire_auth\u001b[49m\u001b[43m,\u001b[49m\u001b[43m \u001b[49m\u001b[43mssr_enabled\u001b[49m\u001b[43m=\u001b[49m\u001b[43mssr_enabled\u001b[49m\n\u001b[32m    188\u001b[39m \u001b[43m\u001b[49m\u001b[43m)\u001b[49m\n\u001b[32m    189\u001b[39m acquire_kwargs_ = {\n\u001b[32m    190\u001b[39m     \u001b[33m\"\u001b[39m\u001b[33maccess_mode\u001b[39m\u001b[33m\"\u001b[39m: access_mode,\n\u001b[32m    191\u001b[39m     \u001b[33m\"\u001b[39m\u001b[33mtimeout\u001b[39m\u001b[33m\"\u001b[39m: acquisition_timeout,\n\u001b[32m   (...)\u001b[39m\u001b[32m    196\u001b[39m     \u001b[33m\"\u001b[39m\u001b[33mdatabase_callback\u001b[39m\u001b[33m\"\u001b[39m: \u001b[38;5;28mself\u001b[39m._make_db_resolution_callback(),\n\u001b[32m    197\u001b[39m }\n\u001b[32m    198\u001b[39m acquire_kwargs_.update(acquire_kwargs)\n",
      "\u001b[36mFile \u001b[39m\u001b[32m~/Desktop/AINEXXO/vscode/kg_qa/lib/python3.11/site-packages/neo4j/_sync/work/workspace.py:260\u001b[39m, in \u001b[36mWorkspace._get_routing_target_database\u001b[39m\u001b[34m(self, acquire_auth, ssr_enabled)\u001b[39m\n\u001b[32m    258\u001b[39m acquisition_timeout = \u001b[38;5;28mself\u001b[39m._config.connection_acquisition_timeout\n\u001b[32m    259\u001b[39m log.debug(\u001b[33m\"\u001b[39m\u001b[33m[#0000]  _: <WORKSPACE> resolve home database\u001b[39m\u001b[33m\"\u001b[39m)\n\u001b[32m--> \u001b[39m\u001b[32m260\u001b[39m \u001b[38;5;28;43mself\u001b[39;49m\u001b[43m.\u001b[49m\u001b[43m_pool\u001b[49m\u001b[43m.\u001b[49m\u001b[43mupdate_routing_table\u001b[49m\u001b[43m(\u001b[49m\n\u001b[32m    261\u001b[39m \u001b[43m    \u001b[49m\u001b[43mdatabase\u001b[49m\u001b[43m=\u001b[49m\u001b[38;5;28;43mself\u001b[39;49m\u001b[43m.\u001b[49m\u001b[43m_config\u001b[49m\u001b[43m.\u001b[49m\u001b[43mdatabase\u001b[49m\u001b[43m,\u001b[49m\n\u001b[32m    262\u001b[39m \u001b[43m    \u001b[49m\u001b[43mimp_user\u001b[49m\u001b[43m=\u001b[49m\u001b[38;5;28;43mself\u001b[39;49m\u001b[43m.\u001b[49m\u001b[43m_config\u001b[49m\u001b[43m.\u001b[49m\u001b[43mimpersonated_user\u001b[49m\u001b[43m,\u001b[49m\n\u001b[32m    263\u001b[39m \u001b[43m    \u001b[49m\u001b[43mbookmarks\u001b[49m\u001b[43m=\u001b[49m\u001b[38;5;28;43mself\u001b[39;49m\u001b[43m.\u001b[49m\u001b[43m_get_bookmarks\u001b[49m\u001b[43m(\u001b[49m\u001b[43m)\u001b[49m\u001b[43m,\u001b[49m\n\u001b[32m    264\u001b[39m \u001b[43m    \u001b[49m\u001b[43mauth\u001b[49m\u001b[43m=\u001b[49m\u001b[43macquire_auth\u001b[49m\u001b[43m,\u001b[49m\n\u001b[32m    265\u001b[39m \u001b[43m    \u001b[49m\u001b[43macquisition_timeout\u001b[49m\u001b[43m=\u001b[49m\u001b[43macquisition_timeout\u001b[49m\u001b[43m,\u001b[49m\n\u001b[32m    266\u001b[39m \u001b[43m    \u001b[49m\u001b[43mdatabase_callback\u001b[49m\u001b[43m=\u001b[49m\u001b[38;5;28;43mself\u001b[39;49m\u001b[43m.\u001b[49m\u001b[43m_make_db_resolution_callback\u001b[49m\u001b[43m(\u001b[49m\u001b[43m)\u001b[49m\u001b[43m,\u001b[49m\n\u001b[32m    267\u001b[39m \u001b[43m\u001b[49m\u001b[43m)\u001b[49m\n\u001b[32m    268\u001b[39m \u001b[38;5;28;01mreturn\u001b[39;00m AcquisitionDatabase(\u001b[38;5;28mself\u001b[39m._config.database)\n",
      "\u001b[36mFile \u001b[39m\u001b[32m~/Desktop/AINEXXO/vscode/kg_qa/lib/python3.11/site-packages/neo4j/_sync/io/_pool.py:971\u001b[39m, in \u001b[36mNeo4jPool.update_routing_table\u001b[39m\u001b[34m(self, database, imp_user, bookmarks, auth, acquisition_timeout, database_callback)\u001b[39m\n\u001b[32m    964\u001b[39m     existing_routers = {\u001b[38;5;28mself\u001b[39m.address}\n\u001b[32m    965\u001b[39m     prefer_initial_routing_address = \u001b[38;5;28;01mTrue\u001b[39;00m\n\u001b[32m    967\u001b[39m \u001b[38;5;28;01mif\u001b[39;00m (\n\u001b[32m    968\u001b[39m     prefer_initial_routing_address\n\u001b[32m    969\u001b[39m     \u001b[38;5;129;01mand\u001b[39;00m\n\u001b[32m    970\u001b[39m     \u001b[38;5;66;03m# TODO: Test this state\u001b[39;00m\n\u001b[32m--> \u001b[39m\u001b[32m971\u001b[39m     \u001b[38;5;28;43mself\u001b[39;49m\u001b[43m.\u001b[49m\u001b[43m_update_routing_table_from\u001b[49m\u001b[43m(\u001b[49m\n\u001b[32m    972\u001b[39m \u001b[43m        \u001b[49m\u001b[38;5;28;43mself\u001b[39;49m\u001b[43m.\u001b[49m\u001b[43maddress\u001b[49m\u001b[43m,\u001b[49m\n\u001b[32m    973\u001b[39m \u001b[43m        \u001b[49m\u001b[43mdatabase\u001b[49m\u001b[43m=\u001b[49m\u001b[43mdatabase\u001b[49m\u001b[43m,\u001b[49m\n\u001b[32m    974\u001b[39m \u001b[43m        \u001b[49m\u001b[43mimp_user\u001b[49m\u001b[43m=\u001b[49m\u001b[43mimp_user\u001b[49m\u001b[43m,\u001b[49m\n\u001b[32m    975\u001b[39m \u001b[43m        \u001b[49m\u001b[43mbookmarks\u001b[49m\u001b[43m=\u001b[49m\u001b[43mbookmarks\u001b[49m\u001b[43m,\u001b[49m\n\u001b[32m    976\u001b[39m \u001b[43m        \u001b[49m\u001b[43mauth\u001b[49m\u001b[43m=\u001b[49m\u001b[43mauth\u001b[49m\u001b[43m,\u001b[49m\n\u001b[32m    977\u001b[39m \u001b[43m        \u001b[49m\u001b[43macquisition_timeout\u001b[49m\u001b[43m=\u001b[49m\u001b[43macquisition_timeout\u001b[49m\u001b[43m,\u001b[49m\n\u001b[32m    978\u001b[39m \u001b[43m        \u001b[49m\u001b[43mdatabase_callback\u001b[49m\u001b[43m=\u001b[49m\u001b[43mdatabase_callback\u001b[49m\u001b[43m,\u001b[49m\n\u001b[32m    979\u001b[39m \u001b[43m    \u001b[49m\u001b[43m)\u001b[49m\n\u001b[32m    980\u001b[39m ):\n\u001b[32m    981\u001b[39m     \u001b[38;5;66;03m# Why is only the first initial routing address used?\u001b[39;00m\n\u001b[32m    982\u001b[39m     \u001b[38;5;28;01mreturn\u001b[39;00m\n\u001b[32m    983\u001b[39m \u001b[38;5;28;01mif\u001b[39;00m \u001b[38;5;28mself\u001b[39m._update_routing_table_from(\n\u001b[32m    984\u001b[39m     *(existing_routers - {\u001b[38;5;28mself\u001b[39m.address}),\n\u001b[32m    985\u001b[39m     database=database,\n\u001b[32m   (...)\u001b[39m\u001b[32m    990\u001b[39m     database_callback=database_callback,\n\u001b[32m    991\u001b[39m ):\n",
      "\u001b[36mFile \u001b[39m\u001b[32m~/Desktop/AINEXXO/vscode/kg_qa/lib/python3.11/site-packages/neo4j/_sync/io/_pool.py:899\u001b[39m, in \u001b[36mNeo4jPool._update_routing_table_from\u001b[39m\u001b[34m(self, database, imp_user, bookmarks, auth, acquisition_timeout, database_callback, *routers)\u001b[39m\n\u001b[32m    891\u001b[39m     log.debug(\n\u001b[32m    892\u001b[39m         (\n\u001b[32m    893\u001b[39m             \u001b[33m\"\u001b[39m\u001b[33m[#0000]  _: <POOL> \u001b[39m\u001b[33m\"\u001b[39m\n\u001b[32m   (...)\u001b[39m\u001b[32m    896\u001b[39m         \u001b[33m\"\u001b[39m\u001b[33m, \u001b[39m\u001b[33m\"\u001b[39m.join(\u001b[38;5;28mmap\u001b[39m(\u001b[38;5;28mrepr\u001b[39m, routers)),\n\u001b[32m    897\u001b[39m     )\n\u001b[32m    898\u001b[39m \u001b[38;5;28;01mfor\u001b[39;00m router \u001b[38;5;129;01min\u001b[39;00m routers:\n\u001b[32m--> \u001b[39m\u001b[32m899\u001b[39m \u001b[43m    \u001b[49m\u001b[38;5;28;43;01mfor\u001b[39;49;00m\u001b[43m \u001b[49m\u001b[43maddress\u001b[49m\u001b[43m \u001b[49m\u001b[38;5;129;43;01min\u001b[39;49;00m\u001b[43m \u001b[49m\u001b[43mNetworkUtil\u001b[49m\u001b[43m.\u001b[49m\u001b[43mresolve_address\u001b[49m\u001b[43m(\u001b[49m\n\u001b[32m    900\u001b[39m \u001b[43m        \u001b[49m\u001b[43mrouter\u001b[49m\u001b[43m,\u001b[49m\u001b[43m \u001b[49m\u001b[43mresolver\u001b[49m\u001b[43m=\u001b[49m\u001b[38;5;28;43mself\u001b[39;49m\u001b[43m.\u001b[49m\u001b[43mpool_config\u001b[49m\u001b[43m.\u001b[49m\u001b[43mresolver\u001b[49m\n\u001b[32m    901\u001b[39m \u001b[43m    \u001b[49m\u001b[43m)\u001b[49m\u001b[43m:\u001b[49m\n\u001b[32m    902\u001b[39m \u001b[43m        \u001b[49m\u001b[43mnew_routing_table\u001b[49m\u001b[43m \u001b[49m\u001b[43m=\u001b[49m\u001b[43m \u001b[49m\u001b[38;5;28;43mself\u001b[39;49m\u001b[43m.\u001b[49m\u001b[43mfetch_routing_table\u001b[49m\u001b[43m(\u001b[49m\n\u001b[32m    903\u001b[39m \u001b[43m            \u001b[49m\u001b[43maddress\u001b[49m\u001b[43m=\u001b[49m\u001b[43maddress\u001b[49m\u001b[43m,\u001b[49m\n\u001b[32m    904\u001b[39m \u001b[43m            \u001b[49m\u001b[43macquisition_timeout\u001b[49m\u001b[43m=\u001b[49m\u001b[43macquisition_timeout\u001b[49m\u001b[43m,\u001b[49m\n\u001b[32m   (...)\u001b[39m\u001b[32m    908\u001b[39m \u001b[43m            \u001b[49m\u001b[43mauth\u001b[49m\u001b[43m=\u001b[49m\u001b[43mauth\u001b[49m\u001b[43m,\u001b[49m\n\u001b[32m    909\u001b[39m \u001b[43m        \u001b[49m\u001b[43m)\u001b[49m\n\u001b[32m    910\u001b[39m \u001b[43m        \u001b[49m\u001b[38;5;28;43;01mif\u001b[39;49;00m\u001b[43m \u001b[49m\u001b[43mnew_routing_table\u001b[49m\u001b[43m \u001b[49m\u001b[38;5;129;43;01mis\u001b[39;49;00m\u001b[43m \u001b[49m\u001b[38;5;129;43;01mnot\u001b[39;49;00m\u001b[43m \u001b[49m\u001b[38;5;28;43;01mNone\u001b[39;49;00m\u001b[43m:\u001b[49m\n",
      "\u001b[36mFile \u001b[39m\u001b[32m~/Desktop/AINEXXO/vscode/kg_qa/lib/python3.11/site-packages/neo4j/_async_compat/network/_util.py:196\u001b[39m, in \u001b[36mNetworkUtil.resolve_address\u001b[39m\u001b[34m(address, family, resolver)\u001b[39m\n\u001b[32m    194\u001b[39m             \u001b[38;5;28;01myield\u001b[39;00m address_dns_resolved\n\u001b[32m    195\u001b[39m \u001b[38;5;28;01melse\u001b[39;00m:\n\u001b[32m--> \u001b[39m\u001b[32m196\u001b[39m     \u001b[38;5;28;01mfor\u001b[39;00m address_dns_resolved \u001b[38;5;129;01min\u001b[39;00m \u001b[43mNetworkUtil\u001b[49m\u001b[43m.\u001b[49m\u001b[43m_dns_resolver\u001b[49m\u001b[43m(\u001b[49m\n\u001b[32m    197\u001b[39m \u001b[43m        \u001b[49m\u001b[43maddress\u001b[49m\u001b[43m,\u001b[49m\u001b[43m \u001b[49m\u001b[43mfamily\u001b[49m\u001b[43m=\u001b[49m\u001b[43mfamily\u001b[49m\n\u001b[32m    198\u001b[39m \u001b[43m    \u001b[49m\u001b[43m)\u001b[49m:\n\u001b[32m    199\u001b[39m         log.debug(\n\u001b[32m    200\u001b[39m             \u001b[33m\"\u001b[39m\u001b[33m[#0000]  _: <RESOLVE> dns resolver out: \u001b[39m\u001b[38;5;132;01m%s\u001b[39;00m\u001b[33m\"\u001b[39m,\n\u001b[32m    201\u001b[39m             address_dns_resolved,\n\u001b[32m    202\u001b[39m         )\n\u001b[32m    203\u001b[39m         \u001b[38;5;28;01myield\u001b[39;00m address_dns_resolved\n",
      "\u001b[36mFile \u001b[39m\u001b[32m~/Desktop/AINEXXO/vscode/kg_qa/lib/python3.11/site-packages/neo4j/_async_compat/network/_util.py:151\u001b[39m, in \u001b[36mNetworkUtil._dns_resolver\u001b[39m\u001b[34m(address, family)\u001b[39m\n\u001b[32m    144\u001b[39m     info = NetworkUtil.get_address_info(\n\u001b[32m    145\u001b[39m         address.host,\n\u001b[32m    146\u001b[39m         address.port,\n\u001b[32m    147\u001b[39m         family=family,\n\u001b[32m    148\u001b[39m         \u001b[38;5;28mtype\u001b[39m=socket.SOCK_STREAM,\n\u001b[32m    149\u001b[39m     )\n\u001b[32m    150\u001b[39m \u001b[38;5;28;01mexcept\u001b[39;00m \u001b[38;5;167;01mOSError\u001b[39;00m \u001b[38;5;28;01mas\u001b[39;00m e:\n\u001b[32m--> \u001b[39m\u001b[32m151\u001b[39m     \u001b[38;5;28;01mraise\u001b[39;00m \u001b[38;5;167;01mValueError\u001b[39;00m(\u001b[33mf\u001b[39m\u001b[33m\"\u001b[39m\u001b[33mCannot resolve address \u001b[39m\u001b[38;5;132;01m{\u001b[39;00maddress\u001b[38;5;132;01m}\u001b[39;00m\u001b[33m\"\u001b[39m) \u001b[38;5;28;01mfrom\u001b[39;00m\u001b[38;5;250m \u001b[39m\u001b[34;01me\u001b[39;00m\n\u001b[32m    152\u001b[39m \u001b[38;5;28;01mreturn\u001b[39;00m _resolved_addresses_from_info(info, address._host_name)\n",
      "\u001b[31mValueError\u001b[39m: Cannot resolve address efe380df.databases.neo4j.io:7687"
     ]
    }
   ],
   "source": [
    "from neo4j import GraphDatabase\n",
    "\n",
    "# Connessione a Neo4j (modifica i dettagli se necessario)\n",
    "URI = \"neo4j+s://efe380df.databases.neo4j.io\"  # Cambia se usi Neo4j in cloud\n",
    "USERNAME = \"neo4j\"\n",
    "PASSWORD = \"epyvyKxwn67vNG3it7mQ3ij2Wm2FLDT21eAJhhH607Q\"\n",
    "\n",
    "\n",
    "# Funzione per eseguire query\n",
    "def run_query(query):\n",
    "    with GraphDatabase.driver(URI, auth=(USERNAME, PASSWORD)) as driver:\n",
    "        with driver.session() as session:\n",
    "            session.run(query)\n",
    "\n",
    "# Creazione del Knowledge Graph\n",
    "queries = [\n",
    "    \"CREATE (:Persona {nome: 'Davide'})\",\n",
    "    \"CREATE (:Persona {nome: 'Alice'})\",\n",
    "    \"CREATE (:Persona {nome: 'Luca'})\",\n",
    "    \"CREATE (:Città {nome: 'Milano'})\",\n",
    "    \"CREATE (:Città {nome: 'Roma'})\",\n",
    "    \"MATCH (d:Persona {nome: 'Davide'}), (m:Città {nome: 'Milano'}) CREATE (d)-[:VIVE_IN]->(m);\",\n",
    "    \"MATCH (a:Persona {nome: 'Alice'}), (r:Città {nome: 'Roma'}) CREATE (a)-[:VIVE_IN]->(r);\",\n",
    "    \"MATCH (l:Persona {nome: 'Luca'}), (m:Città {nome: 'Milano'}) CREATE (l)-[:VIVE_IN]->(m);\",\n",
    "    \"MATCH (d:Persona {nome: 'Davide'}), (a:Persona {nome: 'Alice'}) CREATE (d)-[:CONOSCE]->(a);\",\n",
    "    \"MATCH (a:Persona {nome: 'Alice'}), (l:Persona {nome: 'Luca'}) CREATE (a)-[:CONOSCE]->(l);\",\n",
    "    \"MATCH (d:Persona {nome: 'Davide'}), (l:Persona {nome: 'Luca'}) CREATE (d)-[:CONOSCE]->(l);\"\n",
    "]\n",
    "\n",
    "# Esegui tutte le query\n",
    "for query in queries:\n",
    "    run_query(query)\n",
    "\n",
    "print(\"Knowledge Graph creato con successo!\")\n"
   ]
  },
  {
   "cell_type": "code",
   "execution_count": null,
   "metadata": {},
   "outputs": [
    {
     "data": {
      "image/png": "[encoded data removed]",
      "text/plain": [
       "<Figure size 800x600 with 1 Axes>"
      ]
     },
     "metadata": {},
     "output_type": "display_data"
    }
   ],
   "source": [
    "import networkx as nx\n",
    "import matplotlib.pyplot as plt\n",
    "from neo4j import GraphDatabase\n",
    "\n",
    "\n",
    "\n",
    "# Funzione per ottenere i nodi e relazioni\n",
    "def get_graph():\n",
    "    G = nx.Graph()\n",
    "    with GraphDatabase.driver(URI, auth=(USERNAME, PASSWORD)) as driver:\n",
    "        with driver.session() as session:\n",
    "            # Query per ottenere i nodi e le relazioni\n",
    "            result = session.run(\"MATCH (a)-[r]->(b) RETURN a.nome AS from, type(r) AS relation, b.nome AS to\")\n",
    "\n",
    "            for record in result:\n",
    "                nodo_a = record[\"from\"]\n",
    "                nodo_b = record[\"to\"]\n",
    "                relazione = record[\"relation\"]\n",
    "                \n",
    "                # Verifica che i nodi non siano None\n",
    "                if nodo_a and nodo_b:\n",
    "                    G.add_edge(nodo_a, nodo_b, label=relazione)\n",
    "\n",
    "    return G\n",
    "\n",
    "# Disegna il grafo con NetworkX e Matplotlib\n",
    "def draw_graph():\n",
    "    G = get_graph()\n",
    "    pos = nx.spring_layout(G)  # Disposizione automatica\n",
    "    plt.figure(figsize=(8,6))\n",
    "    \n",
    "    nx.draw(G, pos, with_labels=True, node_color='skyblue', edge_color='gray', node_size=3000, font_size=10)\n",
    "    \n",
    "    # Disegna le etichette degli archi\n",
    "    edge_labels = {(u, v): d['label'] for u, v, d in G.edges(data=True)}\n",
    "    nx.draw_networkx_edge_labels(G, pos, edge_labels=edge_labels, font_size=8)\n",
    "    \n",
    "    plt.title(\"Knowledge Graph Visualization\")\n",
    "    plt.show()\n",
    "\n",
    "# Esegui la funzione\n",
    "draw_graph()\n"
   ]
  },
  {
   "cell_type": "markdown",
   "metadata": {},
   "source": [
    "# da qui in poi creo un knowledge graph con langchain"
   ]
  },
  {
   "cell_type": "code",
   "execution_count": 1,
   "metadata": {},
   "outputs": [
    {
     "name": "stdout",
     "output_type": "stream",
     "text": [
      "✅ Tutte le variabili d'ambiente sono state caricate correttamente!\n",
      "🔹 OPENAI_API_KEY: OK\n",
      "🔹 TOGETHER_API_KEY: OK\n",
      "🔹 NEO4J_URI: neo4j+s://8ce26383.databases.neo4j.io\n",
      "🔹 NEO4J_USERNAME: neo4j\n",
      "🔹 NEO4J_PASSWORD: OK\n"
     ]
    },
    {
     "name": "stderr",
     "output_type": "stream",
     "text": [
      "/var/folders/bx/13v8fyy9619c2s895y535c9c0000gn/T/ipykernel_83977/1925632094.py:46: LangChainDeprecationWarning: The class `Neo4jGraph` was deprecated in LangChain 0.3.8 and will be removed in 1.0. An updated version of the class exists in the :class:`~langchain-neo4j package and should be used instead. To use it run `pip install -U :class:`~langchain-neo4j` and import as `from :class:`~langchain_neo4j import Neo4jGraph``.\n",
      "  enhanced_graph = Neo4jGraph(url=neo4j_uri, username=neo4j_username, password=neo4j_password)\n"
     ]
    },
    {
     "name": "stdout",
     "output_type": "stream",
     "text": [
      "✅ Connessione a Neo4j riuscita!\n"
     ]
    }
   ],
   "source": [
    "import os\n",
    "from dotenv import load_dotenv\n",
    "from langchain_community.graphs import Neo4jGraph  # Import corretto per Neo4jGraph\n",
    "\n",
    "# Carica le variabili d'ambiente dal file .env\n",
    "load_dotenv()\n",
    "\n",
    "# Definizione delle variabili richieste\n",
    "REQUIRED_ENV_VARS = [\n",
    "    \"OPENAI_API_KEY\",\n",
    "    \"TOGETHER_API_KEY\",\n",
    "    \"NEO4J_URI\",\n",
    "    \"NEO4J_USERNAME\",\n",
    "    \"NEO4J_PASSWORD\"\n",
    "]\n",
    "\n",
    "# Verifica che tutte le variabili siano presenti\n",
    "missing_vars = [var for var in REQUIRED_ENV_VARS if os.getenv(var) is None]\n",
    "\n",
    "if missing_vars:\n",
    "    raise ValueError(f\"❌ Le seguenti variabili d'ambiente sono mancanti nel file .env: {', '.join(missing_vars)}\")\n",
    "\n",
    "# Imposta esplicitamente le variabili d'ambiente nel sistema (opzionale)\n",
    "for var in REQUIRED_ENV_VARS:\n",
    "    os.environ[var] = os.getenv(var)\n",
    "\n",
    "# Stampa di debug (puoi rimuoverla)\n",
    "print(\"✅ Tutte le variabili d'ambiente sono state caricate correttamente!\")\n",
    "\n",
    "# Recupera le variabili d'ambiente per l'uso\n",
    "openai_api_key = os.getenv(\"OPENAI_API_KEY\")\n",
    "together_api_key = os.getenv(\"TOGETHER_API_KEY\")\n",
    "neo4j_uri = os.getenv(\"NEO4J_URI\")\n",
    "neo4j_username = os.getenv(\"NEO4J_USERNAME\")\n",
    "neo4j_password = os.getenv(\"NEO4J_PASSWORD\")\n",
    "\n",
    "# Stampa per confermare che le variabili sono caricate (senza mostrare chiavi sensibili)\n",
    "print(f\"🔹 OPENAI_API_KEY: {'OK' if openai_api_key else 'MANCANTE'}\")\n",
    "print(f\"🔹 TOGETHER_API_KEY: {'OK' if together_api_key else 'MANCANTE'}\")\n",
    "print(f\"🔹 NEO4J_URI: {neo4j_uri}\")\n",
    "print(f\"🔹 NEO4J_USERNAME: {neo4j_username}\")\n",
    "print(f\"🔹 NEO4J_PASSWORD: {'OK' if neo4j_password else 'MANCANTE'}\")\n",
    "\n",
    "# Configura la connessione a Neo4j\n",
    "try:\n",
    "    enhanced_graph = Neo4jGraph(url=neo4j_uri, username=neo4j_username, password=neo4j_password)\n",
    "    print(\"✅ Connessione a Neo4j riuscita!\")\n",
    "except Exception as e:\n",
    "    print(f\"❌ Errore nella connessione a Neo4j: {e}\")\n",
    "    raise\n",
    "\n",
    "# Alternativa: Creazione di un'altra istanza del grafo, se necessario\n",
    "graph = Neo4jGraph(url=neo4j_uri, username=neo4j_username, password=neo4j_password)\n"
   ]
  },
  {
   "cell_type": "code",
   "execution_count": 4,
   "metadata": {},
   "outputs": [
    {
     "name": "stdout",
     "output_type": "stream",
     "text": [
      "Node properties:\n",
      "Movie {id: STRING, released: DATE, title: STRING, imdbRating: FLOAT}\n",
      "Person {name: STRING}\n",
      "Genre {name: STRING}\n",
      "Relationship properties:\n",
      "\n",
      "The relationships:\n",
      "(:Movie)-[:IN_GENRE]->(:Genre)\n",
      "(:Person)-[:DIRECTED]->(:Movie)\n",
      "(:Person)-[:ACTED_IN]->(:Movie)\n"
     ]
    }
   ],
   "source": [
    "from langchain_neo4j import Neo4jGraph\n",
    "\n",
    "graph = Neo4jGraph()\n",
    "\n",
    "# Import movie information\n",
    "\n",
    "movies_query = \"\"\"\n",
    "LOAD CSV WITH HEADERS FROM \n",
    "'https://raw.githubusercontent.com/tomasonjo/blog-datasets/main/movies/movies_small.csv'\n",
    "AS row\n",
    "MERGE (m:Movie {id:row.movieId})\n",
    "SET m.released = date(row.released),\n",
    "    m.title = row.title,\n",
    "    m.imdbRating = toFloat(row.imdbRating)\n",
    "FOREACH (director in split(row.director, '|') | \n",
    "    MERGE (p:Person {name:trim(director)})\n",
    "    MERGE (p)-[:DIRECTED]->(m))\n",
    "FOREACH (actor in split(row.actors, '|') | \n",
    "    MERGE (p:Person {name:trim(actor)})\n",
    "    MERGE (p)-[:ACTED_IN]->(m))\n",
    "FOREACH (genre in split(row.genres, '|') | \n",
    "    MERGE (g:Genre {name:trim(genre)})\n",
    "    MERGE (m)-[:IN_GENRE]->(g))\n",
    "\"\"\"\n",
    "\n",
    "graph.query(movies_query)\n",
    "print(graph.schema)"
   ]
  },
  {
   "cell_type": "code",
   "execution_count": null,
   "metadata": {},
   "outputs": [
    {
     "name": "stdout",
     "output_type": "stream",
     "text": [
      "\n",
      "\n",
      "\u001b[1m> Entering new GraphCypherQAChain chain...\u001b[0m\n",
      "Generated Cypher:\n",
      "\u001b[32;1m\u001b[1;3mMATCH (p:Person)-[:ACTED_IN]->(m:Movie {title: \"Casino\"}) RETURN p.name\u001b[0m\n",
      "Full Context:\n",
      "\u001b[32;1m\u001b[1;3m[{'p.name': 'Robert De Niro'}, {'p.name': 'Joe Pesci'}, {'p.name': 'Sharon Stone'}, {'p.name': 'James Woods'}]\u001b[0m\n",
      "\n",
      "\u001b[1m> Finished chain.\u001b[0m\n",
      "{'query': 'What was the cast of the Casino?', 'result': 'The cast of *Casino* includes Robert De Niro, Joe Pesci, Sharon Stone, and James Woods.'}\n"
     ]
    }
   ],
   "source": [
    "from langchain_neo4j import GraphCypherQAChain\n",
    "from langchain_together import ChatTogether\n",
    "import together\n",
    "\n",
    "\n",
    "\n",
    "# Configura Together AI con la API Key presa da .env\n",
    "together.api_key = together_api_key\n",
    "# Modello AI supportato da Together AI\n",
    "llm = ChatTogether(model=\"deepseek-ai/DeepSeek-V3\", temperature=0)\n",
    "\n",
    "# Creazione della catena di interrogazione\n",
    "chain = GraphCypherQAChain.from_llm(\n",
    "    graph=enhanced_graph, llm=llm, verbose=True, allow_dangerous_requests=True\n",
    ")\n",
    "\n",
    "# Esegui la query\n",
    "response = chain.invoke({\"query\": \"What was the cast of the Casino?\"})\n",
    "print(response)\n"
   ]
  },
  {
   "cell_type": "markdown",
   "metadata": {},
   "source": [
    "# Knowledge Graph Construction and Querying with Deepseek-R1 7B vs Mistral 7B on Neo4j (non funziona)\n"
   ]
  },
  {
   "cell_type": "code",
   "execution_count": 7,
   "metadata": {},
   "outputs": [
    {
     "name": "stderr",
     "output_type": "stream",
     "text": [
      "/Users/david/Desktop/AINEXXO/vscode/kg_qa/lib/python3.11/site-packages/tqdm/auto.py:21: TqdmWarning: IProgress not found. Please update jupyter and ipywidgets. See https://ipywidgets.readthedocs.io/en/stable/user_install.html\n",
      "  from .autonotebook import tqdm as notebook_tqdm\n"
     ]
    }
   ],
   "source": [
    "from llama_index.core import (\n",
    "    PropertyGraphIndex,\n",
    "    SimpleDirectoryReader,\n",
    "    StorageContext,\n",
    "    Settings,\n",
    ")\n",
    "from llama_index.llms.llama_cpp import LlamaCPP   # version 0.4.0\n",
    "from llama_index.embeddings.huggingface import HuggingFaceEmbedding\n",
    "from llama_index.graph_stores.neo4j import Neo4jPropertyGraphStore"
   ]
  },
  {
   "cell_type": "code",
   "execution_count": 5,
   "metadata": {},
   "outputs": [
    {
     "name": "stdout",
     "output_type": "stream",
     "text": [
      "model='smollm:135m' created_at='2025-03-17T09:31:31.904412Z' done=True done_reason='stop' total_duration=25576386792 load_duration=25744375 prompt_eval_count=18 prompt_eval_duration=40000000 eval_count=2759 eval_duration=25509000000 response='The cast of \"Casino\" is a fictional character created by the author, Robert E. Howard, who wrote it in 1965 as part of his novel, \"A Streetcar Named Desire.\" The play follows the story of Blanchet and her sister, Blanchet and her brother, Blanchet and his friend, Blanchet\\'s sister, and their tumultuous relationship with the townspeople.\\n\\nHere are some key aspects of the cast of \"Casino\":\\n\\n1. **Blanchet and her sister**: Blanchet is a complex and nuanced character in the play, torn between her desire for independence and her need for connection with others. She\\'s a passionate and independent woman who struggles to maintain her relationships with her brother and friends.\\n2. **Blanchet\\'s sister Blanchet and her brother Blanchet**: Blanchet is a close friend of Blanchet and her brother, and their relationship is marked by mutual attraction and affection. They share a deep emotional bond that can be both romantic and platonic.\\n3. **The townspeople of Casino**: The cast includes a range of characters from the town of Casino, including Blanchet\\'s sister, Blanchet, and her brother, Blanchet\\'s friend, Blanchet\\'s sister, and Blanchet\\'s friend, Blanchet\\'s friend, and Blanchet\\'s friend.\\n4. **The townspeople of Casino**: The cast includes a range of characters from the town of Casino, including Blanchet, Blanchet\\'s sister, Blanchet, and Blanchet\\'s friend, Blanchet\\'s sister, Blanchet, and Blanchet\\'s friend, Blanchet\\'s friend, and Blanchet\\'s friend.\\n5. **The townspeople of Casino**: The cast includes a range of characters from the town of Casino, including Blanchet, Blanchet\\'s sister, Blanchet, and Blanchet\\'s friend, Blanchet, and Blanchet\\'s friend, Blanchet\\'s friend, and Blanchet\\'s friend, Blanchet\\'s friend, and Blanchet\\'s friend, Blanchet\\'s friend, and Blanchet\\'s friend, Blanchet\\'s friend, and Blanchet\\'s friend, Blanchet\\'s friend, and Blanchet\\'s friend, Blanchet\\'s friend, and Blanchet\\'s friend, Blanchet\\'s friend, and Blanchet\\'s friend, Blanchet\\'s friend, and Blanchet\\'s friend, Blanchet\\'s friend, and Blanchet\\'s friend, Blanchet\\'s friend, and Blanchet\\'s friend, Blanchet\\'s friend, and Blanchet\\'s friend, Blanchet\\'s friend, and Blanchet\\'s friend, Blanchet\\'s friend, and Blanchet\\'s friend, Blanchet\\'s friend, and Blanchet\\'s friend, Blanchet\\'s friend, and Blanchet\\'s friend, Blanchet\\'s friend, and Blanchet\\'s friend, Blanchet\\'s friend, and Blanchet\\'s friend, Blanchet\\'s friend, and Blanchet\\'s friend, Blanchet\\'s friend, and Blanchet\\'s friend, Blanchet\\'s friend, and Blanchet\\'s friend, Blanchet\\'s friend, and Blanchet\\'s friend, Blanchet\\'s friend, and Blanchet\\'s friend, Blanchet\\'s friend, and Blanchet\\'s friend, Blanchet\\'s friend, and Blanchet\\'s friend, Blanchet\\'s friend, and Blanchet\\'s friend, Blanchet\\'s friend, and Blanchet\\'s friend, Blanchet\\'s friend, and Blanchet\\'s friend, Blanchet\\'s friend, and Blanchet\\'s friend, Blanchet\\'s friend, and Blanchet\\'s friend, Blanchet\\'s friend, and Blanchet\\'s friend, Blanchet\\'s friend, and Blanchet\\'s friend, Blanchet\\'s friend, and Blanchet\\'s friend, Blanchet\\'s friend, and Blanchet\\'s friend, Blanchet\\'s friend, and Blanchet\\'s friend, Blanchet\\'s friend, and Blanchet\\'s friend, Blanchet\\'s friend, and Blanchet\\'s friend, Blanchet\\'s friend, and Blanchet\\'s friend, Blanchet\\'s friend, and Blanchet\\'s friend, Blanchet\\'s friend, and Blanchet\\'s friend, Blanchet\\'s friend, and Blanchet\\'s friend, Blanchet\\'s friend, and Blanchet\\'s friend, Blanchet\\'s friend, and Blanchet\\'s friend, Blanchet\\'s friend, and Blanchet\\'s friend, Blanchet\\'s friend, and Blanchet\\'s friend, Blanchet\\'s friend, and Blanchet\\'s friend, Blanchet\\'s friend, and Blanchet\\'s friend, Blanchet\\'s friend, and Blanchet\\'s friend, Blanchet\\'s friend, and Blanchet\\'s friend, Blanchet\\'s friend, and Blanchet\\'s friend, Blanchet\\'s friend, and Blanchet\\'s friend, Blanchet\\'s friend, and Blanchet\\'s friend, Blanchet\\'s friend, and Blanchet\\'s friend, Blanchet\\'s friend, and Blanchet\\'s friend, Blanchet\\'s friend, and Blanchet\\'s friend, Blanchet\\'s friend, and Blanchet\\'s friend, Blanchet\\'s friend, and Blanchet\\'s friend, Blanchet\\'s friend, and Blanchet\\'s friend, Blanchet\\'s friend, and Blanchet\\'s friend, Blanchet\\'s friend, and Blanchet\\'s friend, Blanchet\\'s friend, and Blanchet\\'s friend, Blanchet\\'s friend, and Blanchet\\'s friend, Blanchet\\'s friend, and Blanchet\\'s friend, Blanchet\\'s friend, and Blanchet\\'s friend, Blanchet\\'s friend, and Blanchet\\'s friend, Blanchet\\'s friend, and Blanchet\\'s friend, Blanchet\\'s friend, and Blanchet\\'s friend, Blanchet\\'s friend, and Blanchet\\'s friend, Blanchet\\'s friend, and Blanchet\\'s friend, Blanchet\\'s friend, and Blanchet\\'s friend, Blanchet\\'s friend, and Blanchet\\'s friend, Blanchet\\'s friend, and Blanchet\\'s friend, Blanchet\\'s friend, and Blanchet\\'s friend, Blanchet\\'s friend, and Blanchet\\'s friend, Blanchet\\'s friend, and Blanchet\\'s friend, Blanchet\\'s friend, and Blanchet\\'s friend, Blanchet\\'s friend, and Blanchet\\'s friend, Blanchet\\'s friend, and Blanchet\\'s friend, Blanchet\\'s friend, and Blanchet\\'s friend, Blanchet\\'s friend, and Blanchet\\'s friend, Blanchet\\'s friend, and Blanchet\\'s friend, Blanchet\\'s friend, and Blanchet\\'s friend, Blanchet\\'s friend, and Blanchet\\'s friend, Blanchet\\'s friend, and Blanchet\\'s friend, Blanchet\\'s friend, and Blanchet\\'s friend, Blanchet\\'s friend, and Blanchet\\'s friend, Blanchet\\'s friend, and Blanchet\\'s friend, Blanchet\\'s friend, and Blanchet\\'s friend, Blanchet\\'s friend, and Blanchet\\'s friend, Blanchet\\'s friend, and Blanchet\\'s friend, Blanchet\\'s friend, and Blanchet\\'s friend, Blanchet\\'s friend, and Blanchet\\'s friend, Blanchet\\'s friend, and Blanchet\\'s friend, Blanchet\\'s friend, and Blanchet\\'s friend, Blanchet\\'s friend, and Blanchet\\'s friend, Blanchet\\'s friend, and Blanchet\\'s friend, Blanchet\\'s friend, and Blanchet\\'s friend, Blanchet\\'s friend, and Blanchet\\'s friend, Blanchet\\'s friend, and Blanchet\\'s friend, Blanchet\\'s friend, and Blanchet\\'s friend, Blanchet\\'s friend, and Blanchet\\'s friend, Blanchet\\'s friend, and Blanchet\\'s friend, Blanchet\\'s friend, and Blanchet\\'s friend, Blanchet\\'s friend, and Blanchet\\'s friend, Blanchet\\'s friend, and Blanchet\\'s friend, Blanchet\\'s friend, and Blanchet\\'s friend, Blanchet\\'s friend, and Blanchet\\'s friend, Blanchet\\'s friend, and Blanchet\\'s friend, Blanchet\\'s friend, and Blanchet\\'s friend, Blanchet\\'s friend, and Blanchet\\'s friend, Blanchet\\'s friend, and Blanchet\\'s friend, Blanchet\\'s friend, and Blanchet\\'s friend, Blanchet\\'s friend, and Blanchet\\'s friend, Blanchet\\'s friend, and Blanchet\\'s friend, Blanchet\\'s friend, and Blanchet\\'s friend, Blanchet\\'s friend, and Blanchet\\'s friend, Blanchet\\'s friend, and Blanchet\\'s friend, Blanchet\\'s friend, and Blanchet\\'s friend, Blanchet\\'s friend, and Blanchet\\'s friend, Blanchet\\'s friend, and Blanchet\\'s friend, Blanchet\\'s friend, and Blanchet\\'s friend, Blanchet\\'s friend, and Blanchet\\'s friend, Blanchet\\'s friend, and Blanchet\\'s friend, Blanchet\\'s friend, and Blanchet\\'s friend, Blanchet\\'s friend, and Blanchet\\'s friend, Blanchet\\'s friend, Blanchet\\'s friend, and Blanchet\\'s friend, Blanchet\\'s friend, Blanchet\\'s friend, and Blanchet\\'s friend, Blanchet\\'s friend, and Blanchet\\'s friend, Blanchet\\'s friend, and Blanchet\\'s friend, Blanchet\\'s friend, and Blanchet\\'s friend, Blanchet\\'s friend, and Blanchet\\'s friend, Blanchet\\'s friend, and Blanchet\\'s friend, Blanchet\\'s friend, and Blanchet\\'s friend, Blanchet\\'s friend, and Blanchet\\'s friend, Blanchet\\'s friend, and Blanchet\\'s friend, Blanchet\\'s friend, and Blanchet\\'s friend, Blanchet\\'s friend, and Blanchet\\'s friend, Blanchet\\'s friend, and Blanchet\\'s friend, Blanchet\\'s friend, and Blanchet\\'s friend, Blanchet\\'s friend, and Blanchet\\'s friend, Blanchet\\'s friend, and Blanchet\\'s friend, Blanchet\\'s friend, and Blanchet\\'s friend, Blanchet\\'s friend, and Blanchet\\'s friend, Blanchet\\'s friend, and Blanchet\\'s friend, Blanchet\\'s friend, and Blanchet\\'s friend, Blanchet\\'s friend, and Blanchet\\'s friend, Blanchet\\'s friend, and Blanchet\\'s friend, Blanchet\\'s friend, and Blanchet\\'s friend, Blanchet\\'s friend, and Blanchet\\'s friend, Blanchet\\'s friend, and Blanchet\\'s friend, Blanchet\\'s friend, and Blanchet\\'s friend, Blanchet\\'s friend, and Blanchet\\'s friend, Blanchet\\'s friend, and Blanchet\\'s friend, Blanchet\\'s friend, and Blanchet\\'s friend, Blanchet\\'s friend, and Blanchet\\'s friend, Blanchet\\'s friend, and Blanchet\\'s friend, Blanchet\\'s friend, and Blanchet\\'s friend, Blanchet\\'s friend, and Blanchet\\'s friend, Blanchet\\'s friend, and Blanchet\\'s friend, Blanchet\\'s friend, and Blanchet\\'s friend, Blanchet\\'s friend, and Blanchet\\'s friend, Blanchet\\'s friend, and Blanchet\\'s friend, Blanchet\\'s friend, and Blanchet\\'s friend, Blanchet\\'s friend, and Blanchet\\'s friend, Blanchet\\'s friend, and Blanchet\\'s friend, Blanchet\\'s friend, and Blanchet\\'s friend, Blanchet\\'s friend, and Blanchet\\'s friend, Blanchet\\'s friend, and Blanchet\\'s friend, Blanchet\\'s friend, and Blanchet\\'s friend, Blanchet\\'s friend, and Blanchet\\'s friend, Blanchet\\'s friend, and Blanchet\\'s friend, Blanchet\\'s friend, and Blanchet\\'s friend, Blanchet\\'s friend, and Blanchet\\'s friend, Blanchet\\'s friend, and Blanchet\\'s friend, Blanchet\\'s friend, and Blanchet\\'s friend, Blanchet\\'s friend, and Blaneau\\n\\nNote: The following is a list of the names of the friends who have been in the group for at least 10 years. Each name is followed by a comma and a space (no spaces between names).' context=[1, 4093, 198, 1780, 436, 260, 5044, 282, 260, 17709, 3335, 47, 2, 198, 1, 520, 9531, 198, 504, 5044, 282, 476, 34915, 3335, 18, 314, 253, 14840, 1843, 2312, 411, 260, 1919, 28, 6356, 414, 30, 17343, 28, 617, 4150, 357, 281, 216, 33, 41, 38, 37, 347, 599, 282, 650, 3562, 28, 476, 49, 7216, 7813, 34950, 3128, 609, 1270, 378, 1238, 5558, 260, 1977, 282, 38219, 2571, 284, 874, 10243, 28, 38219, 2571, 284, 874, 5717, 28, 38219, 2571, 284, 650, 3289, 28, 38219, 2571, 506, 10243, 28, 284, 480, 34239, 1986, 351, 260, 3102, 7567, 661, 30, 198, 198, 4590, 359, 634, 1646, 3260, 282, 260, 5044, 282, 476, 34915, 3335, 1799, 1116, 33, 30, 1903, 6353, 1148, 2571, 284, 874, 10243, 4253, 38219, 2571, 314, 253, 1784, 284, 13597, 1843, 281, 260, 1238, 28, 12204, 826, 874, 6771, 327, 6967, 284, 874, 737, 327, 3890, 351, 1449, 30, 2306, 506, 253, 14103, 284, 4791, 4166, 617, 9409, 288, 2125, 874, 3355, 351, 874, 5717, 284, 2428, 30, 198, 34, 30, 1903, 6353, 1148, 2571, 506, 10243, 38219, 2571, 284, 874, 5717, 38219, 2571, 4253, 38219, 2571, 314, 253, 2800, 3289, 282, 38219, 2571, 284, 874, 5717, 28, 284, 480, 1986, 314, 6319, 411, 8597, 16584, 284, 17417, 30, 1069, 2419, 253, 2276, 4122, 4436, 338, 416, 325, 1062, 12986, 284, 26345, 5662, 30, 198, 35, 30, 1903, 504, 3102, 7567, 661, 282, 17709, 3335, 4253, 378, 5044, 2978, 253, 1845, 282, 3870, 429, 260, 3102, 282, 17709, 3335, 28, 1285, 38219, 2571, 506, 10243, 28, 38219, 2571, 28, 284, 874, 5717, 28, 38219, 2571, 506, 3289, 28, 38219, 2571, 506, 10243, 28, 284, 38219, 2571, 506, 3289, 28, 38219, 2571, 506, 3289, 28, 284, 38219, 2571, 506, 3289, 30, 198, 36, 30, 1903, 504, 3102, 7567, 661, 282, 17709, 3335, 4253, 378, 5044, 2978, 253, 1845, 282, 3870, 429, 260, 3102, 282, 17709, 3335, 28, 1285, 38219, 2571, 28, 38219, 2571, 506, 10243, 28, 38219, 2571, 28, 284, 38219, 2571, 506, 3289, 28, 38219, 2571, 506, 10243, 28, 38219, 2571, 28, 284, 38219, 2571, 506, 3289, 28, 38219, 2571, 506, 3289, 28, 284, 38219, 2571, 506, 3289, 30, 198, 37, 30, 1903, 504, 3102, 7567, 661, 282, 17709, 3335, 4253, 378, 5044, 2978, 253, 1845, 282, 3870, 429, 260, 3102, 282, 17709, 3335, 28, 1285, 38219, 2571, 28, 38219, 2571, 506, 10243, 28, 38219, 2571, 28, 284, 38219, 2571, 506, 3289, 28, 38219, 2571, 28, 284, 38219, 2571, 506, 3289, 28, 38219, 2571, 506, 3289, 28, 284, 38219, 2571, 506, 3289, 28, 38219, 2571, 506, 3289, 28, 284, 38219, 2571, 506, 3289, 28, 38219, 2571, 506, 3289, 28, 284, 38219, 2571, 506, 3289, 28, 38219, 2571, 506, 3289, 28, 284, 38219, 2571, 506, 3289, 28, 38219, 2571, 506, 3289, 28, 284, 38219, 2571, 506, 3289, 28, 38219, 2571, 506, 3289, 28, 284, 38219, 2571, 506, 3289, 28, 38219, 2571, 506, 3289, 28, 284, 38219, 2571, 506, 3289, 28, 38219, 2571, 506, 3289, 28, 284, 38219, 2571, 506, 3289, 28, 38219, 2571, 506, 3289, 28, 284, 38219, 2571, 506, 3289, 28, 38219, 2571, 506, 3289, 28, 284, 38219, 2571, 506, 3289, 28, 38219, 2571, 506, 3289, 28, 284, 38219, 2571, 506, 3289, 28, 38219, 2571, 506, 3289, 28, 284, 38219, 2571, 506, 3289, 28, 38219, 2571, 506, 3289, 28, 284, 38219, 2571, 506, 3289, 28, 38219, 2571, 506, 3289, 28, 284, 38219, 2571, 506, 3289, 28, 38219, 2571, 506, 3289, 28, 284, 38219, 2571, 506, 3289, 28, 38219, 2571, 506, 3289, 28, 284, 38219, 2571, 506, 3289, 28, 38219, 2571, 506, 3289, 28, 284, 38219, 2571, 506, 3289, 28, 38219, 2571, 506, 3289, 28, 284, 38219, 2571, 506, 3289, 28, 38219, 2571, 506, 3289, 28, 284, 38219, 2571, 506, 3289, 28, 38219, 2571, 506, 3289, 28, 284, 38219, 2571, 506, 3289, 28, 38219, 2571, 506, 3289, 28, 284, 38219, 2571, 506, 3289, 28, 38219, 2571, 506, 3289, 28, 284, 38219, 2571, 506, 3289, 28, 38219, 2571, 506, 3289, 28, 284, 38219, 2571, 506, 3289, 28, 38219, 2571, 506, 3289, 28, 284, 38219, 2571, 506, 3289, 28, 38219, 2571, 506, 3289, 28, 284, 38219, 2571, 506, 3289, 28, 38219, 2571, 506, 3289, 28, 284, 38219, 2571, 506, 3289, 28, 38219, 2571, 506, 3289, 28, 284, 38219, 2571, 506, 3289, 28, 38219, 2571, 506, 3289, 28, 284, 38219, 2571, 506, 3289, 28, 38219, 2571, 506, 3289, 28, 284, 38219, 2571, 506, 3289, 28, 38219, 2571, 506, 3289, 28, 284, 38219, 2571, 506, 3289, 28, 38219, 2571, 506, 3289, 28, 284, 38219, 2571, 506, 3289, 28, 38219, 2571, 506, 3289, 28, 284, 38219, 2571, 506, 3289, 28, 38219, 2571, 506, 3289, 28, 284, 38219, 2571, 506, 3289, 28, 38219, 2571, 506, 3289, 28, 284, 38219, 2571, 506, 3289, 28, 38219, 2571, 506, 3289, 28, 284, 38219, 2571, 506, 3289, 28, 38219, 2571, 506, 3289, 28, 284, 38219, 2571, 506, 3289, 28, 38219, 2571, 506, 3289, 28, 284, 38219, 2571, 506, 3289, 28, 38219, 2571, 506, 3289, 28, 284, 38219, 2571, 506, 3289, 28, 38219, 2571, 506, 3289, 28, 284, 38219, 2571, 506, 3289, 28, 38219, 2571, 506, 3289, 28, 284, 38219, 2571, 506, 3289, 28, 38219, 2571, 506, 3289, 28, 284, 38219, 2571, 506, 3289, 28, 38219, 2571, 506, 3289, 28, 284, 38219, 2571, 506, 3289, 28, 38219, 2571, 506, 3289, 28, 284, 38219, 2571, 506, 3289, 28, 38219, 2571, 506, 3289, 28, 284, 38219, 2571, 506, 3289, 28, 38219, 2571, 506, 3289, 28, 284, 38219, 2571, 506, 3289, 28, 38219, 2571, 506, 3289, 28, 284, 38219, 2571, 506, 3289, 28, 38219, 2571, 506, 3289, 28, 284, 38219, 2571, 506, 3289, 28, 38219, 2571, 506, 3289, 28, 284, 38219, 2571, 506, 3289, 28, 38219, 2571, 506, 3289, 28, 284, 38219, 2571, 506, 3289, 28, 38219, 2571, 506, 3289, 28, 284, 38219, 2571, 506, 3289, 28, 38219, 2571, 506, 3289, 28, 284, 38219, 2571, 506, 3289, 28, 38219, 2571, 506, 3289, 28, 284, 38219, 2571, 506, 3289, 28, 38219, 2571, 506, 3289, 28, 284, 38219, 2571, 506, 3289, 28, 38219, 2571, 506, 3289, 28, 284, 38219, 2571, 506, 3289, 28, 38219, 2571, 506, 3289, 28, 284, 38219, 2571, 506, 3289, 28, 38219, 2571, 506, 3289, 28, 284, 38219, 2571, 506, 3289, 28, 38219, 2571, 506, 3289, 28, 284, 38219, 2571, 506, 3289, 28, 38219, 2571, 506, 3289, 28, 284, 38219, 2571, 506, 3289, 28, 38219, 2571, 506, 3289, 28, 284, 38219, 2571, 506, 3289, 28, 38219, 2571, 506, 3289, 28, 284, 38219, 2571, 506, 3289, 28, 38219, 2571, 506, 3289, 28, 284, 38219, 2571, 506, 3289, 28, 38219, 2571, 506, 3289, 28, 284, 38219, 2571, 506, 3289, 28, 38219, 2571, 506, 3289, 28, 284, 38219, 2571, 506, 3289, 28, 38219, 2571, 506, 3289, 28, 284, 38219, 2571, 506, 3289, 28, 38219, 2571, 506, 3289, 28, 284, 38219, 2571, 506, 3289, 28, 38219, 2571, 506, 3289, 28, 284, 38219, 2571, 506, 3289, 28, 38219, 2571, 506, 3289, 28, 284, 38219, 2571, 506, 3289, 28, 38219, 2571, 506, 3289, 28, 284, 38219, 2571, 506, 3289, 28, 38219, 2571, 506, 3289, 28, 284, 38219, 2571, 506, 3289, 28, 38219, 2571, 506, 3289, 28, 284, 38219, 2571, 506, 3289, 28, 38219, 2571, 506, 3289, 28, 284, 38219, 2571, 506, 3289, 28, 38219, 2571, 506, 3289, 28, 284, 38219, 2571, 506, 3289, 28, 38219, 2571, 506, 3289, 28, 284, 38219, 2571, 506, 3289, 28, 38219, 2571, 506, 3289, 28, 284, 38219, 2571, 506, 3289, 28, 38219, 2571, 506, 3289, 28, 284, 38219, 2571, 506, 3289, 28, 38219, 2571, 506, 3289, 28, 284, 38219, 2571, 506, 3289, 28, 38219, 2571, 506, 3289, 28, 284, 38219, 2571, 506, 3289, 28, 38219, 2571, 506, 3289, 28, 284, 38219, 2571, 506, 3289, 28, 38219, 2571, 506, 3289, 28, 284, 38219, 2571, 506, 3289, 28, 38219, 2571, 506, 3289, 28, 284, 38219, 2571, 506, 3289, 28, 38219, 2571, 506, 3289, 28, 284, 38219, 2571, 506, 3289, 28, 38219, 2571, 506, 3289, 28, 284, 38219, 2571, 506, 3289, 28, 38219, 2571, 506, 3289, 28, 284, 38219, 2571, 506, 3289, 28, 38219, 2571, 506, 3289, 28, 284, 38219, 2571, 506, 3289, 28, 38219, 2571, 506, 3289, 28, 284, 38219, 2571, 506, 3289, 28, 38219, 2571, 506, 3289, 28, 284, 38219, 2571, 506, 3289, 28, 38219, 2571, 506, 3289, 28, 284, 38219, 2571, 506, 3289, 28, 38219, 2571, 506, 3289, 28, 284, 38219, 2571, 506, 3289, 28, 38219, 2571, 506, 3289, 28, 284, 38219, 2571, 506, 3289, 28, 38219, 2571, 506, 3289, 28, 284, 38219, 2571, 506, 3289, 28, 38219, 2571, 506, 3289, 28, 284, 38219, 2571, 506, 3289, 28, 38219, 2571, 506, 3289, 28, 284, 38219, 2571, 506, 3289, 28, 38219, 2571, 506, 3289, 28, 284, 38219, 2571, 506, 3289, 28, 38219, 2571, 506, 3289, 28, 284, 38219, 2571, 506, 3289, 28, 38219, 2571, 506, 3289, 28, 284, 38219, 2571, 506, 3289, 28, 38219, 2571, 506, 3289, 28, 284, 38219, 2571, 506, 3289, 28, 38219, 2571, 506, 3289, 28, 284, 38219, 2571, 506, 3289, 28, 38219, 2571, 506, 3289, 28, 284, 38219, 2571, 506, 3289, 28, 38219, 2571, 506, 3289, 28, 284, 38219, 2571, 506, 3289, 28, 38219, 2571, 506, 3289, 28, 284, 38219, 2571, 506, 3289, 28, 38219, 2571, 506, 3289, 28, 284, 38219, 2571, 506, 3289, 28, 38219, 2571, 506, 3289, 28, 284, 38219, 2571, 506, 3289, 28, 38219, 2571, 506, 3289, 28, 284, 38219, 2571, 506, 3289, 28, 38219, 2571, 506, 3289, 28, 284, 38219, 2571, 506, 3289, 28, 38219, 2571, 506, 3289, 28, 284, 38219, 2571, 506, 3289, 28, 38219, 2571, 506, 3289, 28, 284, 38219, 2571, 506, 3289, 28, 38219, 2571, 506, 3289, 28, 284, 38219, 2571, 506, 3289, 28, 38219, 2571, 506, 3289, 28, 284, 38219, 2571, 506, 3289, 28, 38219, 2571, 506, 3289, 28, 284, 38219, 2571, 506, 3289, 28, 38219, 2571, 506, 3289, 28, 284, 38219, 2571, 506, 3289, 28, 38219, 2571, 506, 3289, 28, 284, 38219, 2571, 506, 3289, 28, 38219, 2571, 506, 3289, 28, 284, 38219, 2571, 506, 3289, 28, 38219, 2571, 506, 3289, 28, 284, 38219, 2571, 506, 3289, 28, 38219, 2571, 506, 3289, 28, 284, 38219, 2571, 506, 3289, 28, 38219, 2571, 506, 3289, 28, 284, 38219, 2571, 506, 3289, 28, 38219, 2571, 506, 3289, 28, 284, 38219, 2571, 506, 3289, 28, 38219, 2571, 506, 3289, 28, 284, 38219, 2571, 506, 3289, 28, 38219, 2571, 506, 3289, 28, 284, 38219, 2571, 506, 3289, 28, 38219, 2571, 506, 3289, 28, 284, 38219, 2571, 506, 3289, 28, 38219, 2571, 506, 3289, 28, 284, 38219, 2571, 506, 3289, 28, 38219, 2571, 506, 3289, 28, 284, 38219, 2571, 506, 3289, 28, 38219, 2571, 506, 3289, 28, 284, 38219, 2571, 506, 3289, 28, 38219, 2571, 506, 3289, 28, 284, 38219, 2571, 506, 3289, 28, 38219, 2571, 506, 3289, 28, 284, 38219, 2571, 506, 3289, 28, 38219, 2571, 506, 3289, 28, 38219, 2571, 506, 3289, 28, 284, 38219, 2571, 506, 3289, 28, 38219, 2571, 506, 3289, 28, 38219, 2571, 506, 3289, 28, 284, 38219, 2571, 506, 3289, 28, 38219, 2571, 506, 3289, 28, 284, 38219, 2571, 506, 3289, 28, 38219, 2571, 506, 3289, 28, 284, 38219, 2571, 506, 3289, 28, 38219, 2571, 506, 3289, 28, 284, 38219, 2571, 506, 3289, 28, 38219, 2571, 506, 3289, 28, 284, 38219, 2571, 506, 3289, 28, 38219, 2571, 506, 3289, 28, 284, 38219, 2571, 506, 3289, 28, 38219, 2571, 506, 3289, 28, 284, 38219, 2571, 506, 3289, 28, 38219, 2571, 506, 3289, 28, 284, 38219, 2571, 506, 3289, 28, 38219, 2571, 506, 3289, 28, 284, 38219, 2571, 506, 3289, 28, 38219, 2571, 506, 3289, 28, 284, 38219, 2571, 506, 3289, 28, 38219, 2571, 506, 3289, 28, 284, 38219, 2571, 506, 3289, 28, 38219, 2571, 506, 3289, 28, 284, 38219, 2571, 506, 3289, 28, 38219, 2571, 506, 3289, 28, 284, 38219, 2571, 506, 3289, 28, 38219, 2571, 506, 3289, 28, 284, 38219, 2571, 506, 3289, 28, 38219, 2571, 506, 3289, 28, 284, 38219, 2571, 506, 3289, 28, 38219, 2571, 506, 3289, 28, 284, 38219, 2571, 506, 3289, 28, 38219, 2571, 506, 3289, 28, 284, 38219, 2571, 506, 3289, 28, 38219, 2571, 506, 3289, 28, 284, 38219, 2571, 506, 3289, 28, 38219, 2571, 506, 3289, 28, 284, 38219, 2571, 506, 3289, 28, 38219, 2571, 506, 3289, 28, 284, 38219, 2571, 506, 3289, 28, 38219, 2571, 506, 3289, 28, 284, 38219, 2571, 506, 3289, 28, 38219, 2571, 506, 3289, 28, 284, 38219, 2571, 506, 3289, 28, 38219, 2571, 506, 3289, 28, 284, 38219, 2571, 506, 3289, 28, 38219, 2571, 506, 3289, 28, 284, 38219, 2571, 506, 3289, 28, 38219, 2571, 506, 3289, 28, 284, 38219, 2571, 506, 3289, 28, 38219, 2571, 506, 3289, 28, 284, 38219, 2571, 506, 3289, 28, 38219, 2571, 506, 3289, 28, 284, 38219, 2571, 506, 3289, 28, 38219, 2571, 506, 3289, 28, 284, 38219, 2571, 506, 3289, 28, 38219, 2571, 506, 3289, 28, 284, 38219, 2571, 506, 3289, 28, 38219, 2571, 506, 3289, 28, 284, 38219, 2571, 506, 3289, 28, 38219, 2571, 506, 3289, 28, 284, 38219, 2571, 506, 3289, 28, 38219, 2571, 506, 3289, 28, 284, 38219, 2571, 506, 3289, 28, 38219, 2571, 506, 3289, 28, 284, 38219, 2571, 506, 3289, 28, 38219, 2571, 506, 3289, 28, 284, 38219, 2571, 506, 3289, 28, 38219, 2571, 506, 3289, 28, 284, 38219, 2571, 506, 3289, 28, 38219, 2571, 506, 3289, 28, 284, 38219, 2571, 506, 3289, 28, 38219, 2571, 506, 3289, 28, 284, 38219, 2571, 506, 3289, 28, 38219, 2571, 506, 3289, 28, 284, 38219, 2571, 506, 3289, 28, 38219, 2571, 506, 3289, 28, 284, 38219, 2571, 506, 3289, 28, 38219, 2571, 506, 3289, 28, 284, 38219, 2571, 506, 3289, 28, 38219, 2571, 506, 3289, 28, 284, 38219, 2571, 506, 3289, 28, 38219, 2571, 506, 3289, 28, 284, 38219, 2571, 506, 3289, 28, 38219, 2571, 506, 3289, 28, 284, 38219, 2571, 506, 3289, 28, 38219, 2571, 506, 3289, 28, 284, 38219, 2571, 506, 3289, 28, 38219, 2571, 506, 3289, 28, 284, 38219, 2571, 506, 3289, 28, 38219, 2571, 506, 3289, 28, 284, 38219, 2571, 506, 3289, 28, 38219, 2571, 506, 3289, 28, 284, 38219, 2571, 506, 3289, 28, 38219, 2571, 506, 3289, 28, 284, 38219, 2571, 506, 3289, 28, 38219, 2571, 506, 3289, 28, 284, 38219, 2571, 506, 3289, 28, 38219, 2571, 506, 3289, 28, 284, 2114, 1674, 603, 198, 198, 8928, 42, 378, 1695, 314, 253, 1398, 282, 260, 3834, 282, 260, 2428, 617, 457, 719, 281, 260, 1528, 327, 418, 2124, 216, 33, 32, 929, 30, 3768, 1462, 314, 3922, 411, 253, 29746, 284, 253, 1898, 365, 4607, 5600, 826, 3834, 595]\n"
     ]
    }
   ],
   "source": [
    "from ollama import Client\n",
    "\n",
    "def generate_response(model_name=\"smollm:135m\", prompt=\"\", host=\"http://localhost:10000\"):\n",
    "    \"\"\"\n",
    "    Generates a response from the specified model using the Ollama client.\n",
    "    \n",
    "    :param model_name: Name of the model to use for generation (default: \"smollm:135m\").\n",
    "    :param prompt: The input prompt to send to the model.\n",
    "    :param host: Host address where the Ollama client is running (default: \"http://localhost:10000\").\n",
    "    :return: The generated response.\n",
    "    \"\"\"\n",
    "    client = Client(host=host)\n",
    "    response = client.generate(model=model_name, prompt=prompt)\n",
    "    return response\n",
    "\n",
    "# Example usage\n",
    "if __name__ == \"__main__\":\n",
    "    print(generate_response(prompt=\"What was the cast of the Casino?\"))\n"
   ]
  },
  {
   "cell_type": "code",
   "execution_count": 8,
   "metadata": {},
   "outputs": [
    {
     "data": {
      "text/plain": [
       "'llm = LlamaCPP(\\n    model_path=\\'altro/DeepSeek-R1-Distill-Qwen-7B-Q2_K.gguf\\',\\n    temperature=0.6,\\n    max_new_tokens=2000,\\n    context_window=4096,\\n    model_kwargs={\"n_gpu_layers\": 1},\\n    verbose=False                                                                                                                                                                                              \\n)\\nprint(llm)\\n'"
      ]
     },
     "execution_count": 8,
     "metadata": {},
     "output_type": "execute_result"
    }
   ],
   "source": [
    "'''llm = LlamaCPP(\n",
    "    model_path='altro/DeepSeek-R1-Distill-Qwen-7B-Q2_K.gguf',\n",
    "    temperature=0.6,\n",
    "    max_new_tokens=2000,\n",
    "    context_window=4096,\n",
    "    model_kwargs={\"n_gpu_layers\": 1},\n",
    "    verbose=False                                                                                                                                                                                              \n",
    ")\n",
    "print(llm)\n",
    "'''"
   ]
  },
  {
   "cell_type": "code",
   "execution_count": 9,
   "metadata": {},
   "outputs": [
    {
     "ename": "AssertionError",
     "evalue": "",
     "output_type": "error",
     "traceback": [
      "\u001b[31m---------------------------------------------------------------------------\u001b[39m",
      "\u001b[31mAssertionError\u001b[39m                            Traceback (most recent call last)",
      "\u001b[36mCell\u001b[39m\u001b[36m \u001b[39m\u001b[32mIn[9]\u001b[39m\u001b[32m, line 2\u001b[39m\n\u001b[32m      1\u001b[39m embed_model = HuggingFaceEmbedding()\n\u001b[32m----> \u001b[39m\u001b[32m2\u001b[39m \u001b[43mSettings\u001b[49m\u001b[43m.\u001b[49m\u001b[43mllm\u001b[49m = generate_response\n\u001b[32m      3\u001b[39m Settings.embed_model = embed_model\n\u001b[32m      4\u001b[39m Settings.chunk_size = \u001b[32m512\u001b[39m\n",
      "\u001b[36mFile \u001b[39m\u001b[32m~/Desktop/AINEXXO/vscode/kg_qa/lib/python3.11/site-packages/llama_index/core/settings.py:46\u001b[39m, in \u001b[36m_Settings.llm\u001b[39m\u001b[34m(self, llm)\u001b[39m\n\u001b[32m     43\u001b[39m \u001b[38;5;129m@llm\u001b[39m.setter\n\u001b[32m     44\u001b[39m \u001b[38;5;28;01mdef\u001b[39;00m\u001b[38;5;250m \u001b[39m\u001b[34mllm\u001b[39m(\u001b[38;5;28mself\u001b[39m, llm: LLMType) -> \u001b[38;5;28;01mNone\u001b[39;00m:\n\u001b[32m     45\u001b[39m \u001b[38;5;250m    \u001b[39m\u001b[33;03m\"\"\"Set the LLM.\"\"\"\u001b[39;00m\n\u001b[32m---> \u001b[39m\u001b[32m46\u001b[39m     \u001b[38;5;28mself\u001b[39m._llm = \u001b[43mresolve_llm\u001b[49m\u001b[43m(\u001b[49m\u001b[43mllm\u001b[49m\u001b[43m)\u001b[49m\n",
      "\u001b[36mFile \u001b[39m\u001b[32m~/Desktop/AINEXXO/vscode/kg_qa/lib/python3.11/site-packages/llama_index/core/llms/utils.py:102\u001b[39m, in \u001b[36mresolve_llm\u001b[39m\u001b[34m(llm, callback_manager)\u001b[39m\n\u001b[32m     99\u001b[39m     \u001b[38;5;28mprint\u001b[39m(\u001b[33m\"\u001b[39m\u001b[33mLLM is explicitly disabled. Using MockLLM.\u001b[39m\u001b[33m\"\u001b[39m)\n\u001b[32m    100\u001b[39m     llm = MockLLM()\n\u001b[32m--> \u001b[39m\u001b[32m102\u001b[39m \u001b[38;5;28;01massert\u001b[39;00m \u001b[38;5;28misinstance\u001b[39m(llm, LLM)\n\u001b[32m    104\u001b[39m llm.callback_manager = callback_manager \u001b[38;5;129;01mor\u001b[39;00m Settings.callback_manager\n\u001b[32m    106\u001b[39m \u001b[38;5;28;01mreturn\u001b[39;00m llm\n",
      "\u001b[31mAssertionError\u001b[39m: "
     ]
    }
   ],
   "source": [
    "\n",
    "embed_model = HuggingFaceEmbedding()\n",
    "Settings.llm = generate_response\n",
    "Settings.embed_model = embed_model\n",
    "Settings.chunk_size = 512"
   ]
  },
  {
   "cell_type": "code",
   "execution_count": null,
   "metadata": {},
   "outputs": [],
   "source": [
    "url = \"neo4j+s://8ce26383.databases.neo4j.io\"\n",
    "username = \"neo4j\"\n",
    "password =  \"2_p0ZNH3Z4W-sqFOWGYJjZ9F97RX462FCsUTsmhE2PE\"\n",
    "database = \"neo4j\"\n",
    "\n",
    "graph_store = Neo4jPropertyGraphStore(\n",
    "    username=username,\n",
    "    password=password,\n",
    "    url=url,\n",
    "    database=database,\n",
    ")"
   ]
  },
  {
   "cell_type": "code",
   "execution_count": null,
   "metadata": {},
   "outputs": [
    {
     "ename": "ImportError",
     "evalue": "Please install nbconvert 'pip install nbconvert' ",
     "output_type": "error",
     "traceback": [
      "\u001b[31m---------------------------------------------------------------------------\u001b[39m",
      "\u001b[31mModuleNotFoundError\u001b[39m                       Traceback (most recent call last)",
      "\u001b[36mFile \u001b[39m\u001b[32m~/Desktop/AINEXXO/vscode/kg_qa/lib/python3.11/site-packages/llama_index/readers/file/ipynb/base.py:31\u001b[39m, in \u001b[36mIPYNBReader.load_data\u001b[39m\u001b[34m(self, file, extra_info, fs)\u001b[39m\n\u001b[32m     30\u001b[39m \u001b[38;5;28;01mtry\u001b[39;00m:\n\u001b[32m---> \u001b[39m\u001b[32m31\u001b[39m     \u001b[38;5;28;01mimport\u001b[39;00m\u001b[38;5;250m \u001b[39m\u001b[34;01mnbconvert\u001b[39;00m\n\u001b[32m     32\u001b[39m \u001b[38;5;28;01mexcept\u001b[39;00m \u001b[38;5;167;01mImportError\u001b[39;00m:\n",
      "\u001b[31mModuleNotFoundError\u001b[39m: No module named 'nbconvert'",
      "\nDuring handling of the above exception, another exception occurred:\n",
      "\u001b[31mImportError\u001b[39m                               Traceback (most recent call last)",
      "\u001b[36mFile \u001b[39m\u001b[32m~/Desktop/AINEXXO/vscode/kg_qa/lib/python3.11/site-packages/llama_index/core/readers/file/base.py:562\u001b[39m, in \u001b[36mSimpleDirectoryReader.load_file\u001b[39m\u001b[34m(input_file, file_metadata, file_extractor, filename_as_id, encoding, errors, raise_on_error, fs)\u001b[39m\n\u001b[32m    561\u001b[39m         kwargs[\u001b[33m\"\u001b[39m\u001b[33mfs\u001b[39m\u001b[33m\"\u001b[39m] = fs\n\u001b[32m--> \u001b[39m\u001b[32m562\u001b[39m     docs = \u001b[43mreader\u001b[49m\u001b[43m.\u001b[49m\u001b[43mload_data\u001b[49m\u001b[43m(\u001b[49m\u001b[43minput_file\u001b[49m\u001b[43m,\u001b[49m\u001b[43m \u001b[49m\u001b[43m*\u001b[49m\u001b[43m*\u001b[49m\u001b[43mkwargs\u001b[49m\u001b[43m)\u001b[49m\n\u001b[32m    563\u001b[39m \u001b[38;5;28;01mexcept\u001b[39;00m \u001b[38;5;167;01mImportError\u001b[39;00m \u001b[38;5;28;01mas\u001b[39;00m e:\n\u001b[32m    564\u001b[39m     \u001b[38;5;66;03m# ensure that ImportError is raised so user knows\u001b[39;00m\n\u001b[32m    565\u001b[39m     \u001b[38;5;66;03m# about missing dependencies\u001b[39;00m\n",
      "\u001b[36mFile \u001b[39m\u001b[32m~/Desktop/AINEXXO/vscode/kg_qa/lib/python3.11/site-packages/llama_index/readers/file/ipynb/base.py:33\u001b[39m, in \u001b[36mIPYNBReader.load_data\u001b[39m\u001b[34m(self, file, extra_info, fs)\u001b[39m\n\u001b[32m     32\u001b[39m     \u001b[38;5;28;01mexcept\u001b[39;00m \u001b[38;5;167;01mImportError\u001b[39;00m:\n\u001b[32m---> \u001b[39m\u001b[32m33\u001b[39m         \u001b[38;5;28;01mraise\u001b[39;00m \u001b[38;5;167;01mImportError\u001b[39;00m(\u001b[33m\"\u001b[39m\u001b[33mPlease install nbconvert \u001b[39m\u001b[33m'\u001b[39m\u001b[33mpip install nbconvert\u001b[39m\u001b[33m'\u001b[39m\u001b[33m \u001b[39m\u001b[33m\"\u001b[39m)\n\u001b[32m     34\u001b[39m \u001b[38;5;28;01mif\u001b[39;00m fs:\n",
      "\u001b[31mImportError\u001b[39m: Please install nbconvert 'pip install nbconvert' ",
      "\nDuring handling of the above exception, another exception occurred:\n",
      "\u001b[31mImportError\u001b[39m                               Traceback (most recent call last)",
      "\u001b[36mCell\u001b[39m\u001b[36m \u001b[39m\u001b[32mIn[19]\u001b[39m\u001b[32m, line 4\u001b[39m\n\u001b[32m      2\u001b[39m nest_asyncio.apply()\n\u001b[32m      3\u001b[39m gstorage_context = StorageContext.from_defaults(graph_store=graph_store)                                                                                                                                       \n\u001b[32m----> \u001b[39m\u001b[32m4\u001b[39m documents = \u001b[43mSimpleDirectoryReader\u001b[49m\u001b[43m(\u001b[49m\u001b[33;43m\"\u001b[39;49m\u001b[33;43maltro/GraphRAG\u001b[39;49m\u001b[33;43m\"\u001b[39;49m\u001b[43m)\u001b[49m\u001b[43m.\u001b[49m\u001b[43mload_data\u001b[49m\u001b[43m(\u001b[49m\u001b[43m)\u001b[49m\n\u001b[32m      5\u001b[39m kg_index = PropertyGraphIndex.from_documents(\n\u001b[32m      6\u001b[39m     documents,\n\u001b[32m      7\u001b[39m     storage_context=gstorage_context,\n\u001b[32m   (...)\u001b[39m\u001b[32m     10\u001b[39m     property_graph_store=graph_store,\n\u001b[32m     11\u001b[39m )\n",
      "\u001b[36mFile \u001b[39m\u001b[32m~/Desktop/AINEXXO/vscode/kg_qa/lib/python3.11/site-packages/llama_index/core/readers/file/base.py:722\u001b[39m, in \u001b[36mSimpleDirectoryReader.load_data\u001b[39m\u001b[34m(self, show_progress, num_workers, fs)\u001b[39m\n\u001b[32m    717\u001b[39m         files_to_process = tqdm(\n\u001b[32m    718\u001b[39m             \u001b[38;5;28mself\u001b[39m.input_files, desc=\u001b[33m\"\u001b[39m\u001b[33mLoading files\u001b[39m\u001b[33m\"\u001b[39m, unit=\u001b[33m\"\u001b[39m\u001b[33mfile\u001b[39m\u001b[33m\"\u001b[39m\n\u001b[32m    719\u001b[39m         )\n\u001b[32m    720\u001b[39m     \u001b[38;5;28;01mfor\u001b[39;00m input_file \u001b[38;5;129;01min\u001b[39;00m files_to_process:\n\u001b[32m    721\u001b[39m         documents.extend(\n\u001b[32m--> \u001b[39m\u001b[32m722\u001b[39m             \u001b[43mSimpleDirectoryReader\u001b[49m\u001b[43m.\u001b[49m\u001b[43mload_file\u001b[49m\u001b[43m(\u001b[49m\n\u001b[32m    723\u001b[39m \u001b[43m                \u001b[49m\u001b[43minput_file\u001b[49m\u001b[43m=\u001b[49m\u001b[43minput_file\u001b[49m\u001b[43m,\u001b[49m\n\u001b[32m    724\u001b[39m \u001b[43m                \u001b[49m\u001b[43mfile_metadata\u001b[49m\u001b[43m=\u001b[49m\u001b[38;5;28;43mself\u001b[39;49m\u001b[43m.\u001b[49m\u001b[43mfile_metadata\u001b[49m\u001b[43m,\u001b[49m\n\u001b[32m    725\u001b[39m \u001b[43m                \u001b[49m\u001b[43mfile_extractor\u001b[49m\u001b[43m=\u001b[49m\u001b[38;5;28;43mself\u001b[39;49m\u001b[43m.\u001b[49m\u001b[43mfile_extractor\u001b[49m\u001b[43m,\u001b[49m\n\u001b[32m    726\u001b[39m \u001b[43m                \u001b[49m\u001b[43mfilename_as_id\u001b[49m\u001b[43m=\u001b[49m\u001b[38;5;28;43mself\u001b[39;49m\u001b[43m.\u001b[49m\u001b[43mfilename_as_id\u001b[49m\u001b[43m,\u001b[49m\n\u001b[32m    727\u001b[39m \u001b[43m                \u001b[49m\u001b[43mencoding\u001b[49m\u001b[43m=\u001b[49m\u001b[38;5;28;43mself\u001b[39;49m\u001b[43m.\u001b[49m\u001b[43mencoding\u001b[49m\u001b[43m,\u001b[49m\n\u001b[32m    728\u001b[39m \u001b[43m                \u001b[49m\u001b[43merrors\u001b[49m\u001b[43m=\u001b[49m\u001b[38;5;28;43mself\u001b[39;49m\u001b[43m.\u001b[49m\u001b[43merrors\u001b[49m\u001b[43m,\u001b[49m\n\u001b[32m    729\u001b[39m \u001b[43m                \u001b[49m\u001b[43mraise_on_error\u001b[49m\u001b[43m=\u001b[49m\u001b[38;5;28;43mself\u001b[39;49m\u001b[43m.\u001b[49m\u001b[43mraise_on_error\u001b[49m\u001b[43m,\u001b[49m\n\u001b[32m    730\u001b[39m \u001b[43m                \u001b[49m\u001b[43mfs\u001b[49m\u001b[43m=\u001b[49m\u001b[43mfs\u001b[49m\u001b[43m,\u001b[49m\n\u001b[32m    731\u001b[39m \u001b[43m            \u001b[49m\u001b[43m)\u001b[49m\n\u001b[32m    732\u001b[39m         )\n\u001b[32m    734\u001b[39m \u001b[38;5;28;01mreturn\u001b[39;00m \u001b[38;5;28mself\u001b[39m._exclude_metadata(documents)\n",
      "\u001b[36mFile \u001b[39m\u001b[32m~/Desktop/AINEXXO/vscode/kg_qa/lib/python3.11/site-packages/llama_index/core/readers/file/base.py:566\u001b[39m, in \u001b[36mSimpleDirectoryReader.load_file\u001b[39m\u001b[34m(input_file, file_metadata, file_extractor, filename_as_id, encoding, errors, raise_on_error, fs)\u001b[39m\n\u001b[32m    562\u001b[39m     docs = reader.load_data(input_file, **kwargs)\n\u001b[32m    563\u001b[39m \u001b[38;5;28;01mexcept\u001b[39;00m \u001b[38;5;167;01mImportError\u001b[39;00m \u001b[38;5;28;01mas\u001b[39;00m e:\n\u001b[32m    564\u001b[39m     \u001b[38;5;66;03m# ensure that ImportError is raised so user knows\u001b[39;00m\n\u001b[32m    565\u001b[39m     \u001b[38;5;66;03m# about missing dependencies\u001b[39;00m\n\u001b[32m--> \u001b[39m\u001b[32m566\u001b[39m     \u001b[38;5;28;01mraise\u001b[39;00m \u001b[38;5;167;01mImportError\u001b[39;00m(\u001b[38;5;28mstr\u001b[39m(e))\n\u001b[32m    567\u001b[39m \u001b[38;5;28;01mexcept\u001b[39;00m \u001b[38;5;167;01mException\u001b[39;00m \u001b[38;5;28;01mas\u001b[39;00m e:\n\u001b[32m    568\u001b[39m     \u001b[38;5;28;01mif\u001b[39;00m raise_on_error:\n",
      "\u001b[31mImportError\u001b[39m: Please install nbconvert 'pip install nbconvert' "
     ]
    }
   ],
   "source": [
    "import nest_asyncio\n",
    "nest_asyncio.apply()\n",
    "gstorage_context = StorageContext.from_defaults(graph_store=graph_store)                                                                                                                                       \n",
    "documents = SimpleDirectoryReader(\"altro/GraphRAG\").load_data()\n",
    "kg_index = PropertyGraphIndex.from_documents(\n",
    "    documents,\n",
    "    storage_context=gstorage_context,\n",
    "    max_triplets_per_chunk=10,\n",
    "    include_embeddings=True,\n",
    "    property_graph_store=graph_store,\n",
    ")"
   ]
  },
  {
   "cell_type": "code",
   "execution_count": null,
   "metadata": {},
   "outputs": [],
   "source": [
    "\n",
    "kg_keyword_query_engine = kg_index.as_query_engine(\n",
    "    include_text=True,\n",
    "    similarity_top_k=2,\n",
    ")\n",
    "query = 'When should simplified routing be used on SteelHeads?'\n",
    "response = kg_keyword_query_engine.query(f'<｜User｜>{query}<｜Assistant｜>')"
   ]
  },
  {
   "cell_type": "markdown",
   "metadata": {},
   "source": [
    "# nuovo tentativo\n"
   ]
  },
  {
   "cell_type": "code",
   "execution_count": 20,
   "metadata": {},
   "outputs": [
    {
     "ename": "FileNotFoundError",
     "evalue": "[Errno 2] No such file or directory: 'input.md'",
     "output_type": "error",
     "traceback": [
      "\u001b[31m---------------------------------------------------------------------------\u001b[39m",
      "\u001b[31mFileNotFoundError\u001b[39m                         Traceback (most recent call last)",
      "\u001b[36mCell\u001b[39m\u001b[36m \u001b[39m\u001b[32mIn[20]\u001b[39m\u001b[32m, line 13\u001b[39m\n\u001b[32m     10\u001b[39m         \u001b[38;5;28;01mreturn\u001b[39;00m [chunk.strip() \u001b[38;5;28;01mfor\u001b[39;00m chunk \u001b[38;5;129;01min\u001b[39;00m text.split(\u001b[38;5;28mself\u001b[39m.delimiter) \u001b[38;5;28;01mif\u001b[39;00m chunk.strip()]\n\u001b[32m     12\u001b[39m \u001b[38;5;66;03m# Apri il file in modalità lettura e leggi tutto il contenuto come stringa\u001b[39;00m\n\u001b[32m---> \u001b[39m\u001b[32m13\u001b[39m \u001b[38;5;28;01mwith\u001b[39;00m \u001b[38;5;28;43mopen\u001b[39;49m\u001b[43m(\u001b[49m\u001b[33;43m'\u001b[39;49m\u001b[33;43minput.md\u001b[39;49m\u001b[33;43m'\u001b[39;49m\u001b[43m,\u001b[49m\u001b[43m \u001b[49m\u001b[33;43m'\u001b[39;49m\u001b[33;43mr\u001b[39;49m\u001b[33;43m'\u001b[39;49m\u001b[43m,\u001b[49m\u001b[43m \u001b[49m\u001b[43mencoding\u001b[49m\u001b[43m=\u001b[49m\u001b[33;43m'\u001b[39;49m\u001b[33;43mutf-8\u001b[39;49m\u001b[33;43m'\u001b[39;49m\u001b[43m)\u001b[49m \u001b[38;5;28;01mas\u001b[39;00m file:\n\u001b[32m     14\u001b[39m     testo = file.read()\n\u001b[32m     15\u001b[39m splitter = CustomDelimiterTextSplitter(delimiter=\u001b[33m\"\u001b[39m\u001b[33m---\u001b[39m\u001b[33m\"\u001b[39m)\n",
      "\u001b[36mFile \u001b[39m\u001b[32m~/Desktop/AINEXXO/vscode/kg_qa/lib/python3.11/site-packages/IPython/core/interactiveshell.py:325\u001b[39m, in \u001b[36m_modified_open\u001b[39m\u001b[34m(file, *args, **kwargs)\u001b[39m\n\u001b[32m    318\u001b[39m \u001b[38;5;28;01mif\u001b[39;00m file \u001b[38;5;129;01min\u001b[39;00m {\u001b[32m0\u001b[39m, \u001b[32m1\u001b[39m, \u001b[32m2\u001b[39m}:\n\u001b[32m    319\u001b[39m     \u001b[38;5;28;01mraise\u001b[39;00m \u001b[38;5;167;01mValueError\u001b[39;00m(\n\u001b[32m    320\u001b[39m         \u001b[33mf\u001b[39m\u001b[33m\"\u001b[39m\u001b[33mIPython won\u001b[39m\u001b[33m'\u001b[39m\u001b[33mt let you open fd=\u001b[39m\u001b[38;5;132;01m{\u001b[39;00mfile\u001b[38;5;132;01m}\u001b[39;00m\u001b[33m by default \u001b[39m\u001b[33m\"\u001b[39m\n\u001b[32m    321\u001b[39m         \u001b[33m\"\u001b[39m\u001b[33mas it is likely to crash IPython. If you know what you are doing, \u001b[39m\u001b[33m\"\u001b[39m\n\u001b[32m    322\u001b[39m         \u001b[33m\"\u001b[39m\u001b[33myou can use builtins\u001b[39m\u001b[33m'\u001b[39m\u001b[33m open.\u001b[39m\u001b[33m\"\u001b[39m\n\u001b[32m    323\u001b[39m     )\n\u001b[32m--> \u001b[39m\u001b[32m325\u001b[39m \u001b[38;5;28;01mreturn\u001b[39;00m \u001b[43mio_open\u001b[49m\u001b[43m(\u001b[49m\u001b[43mfile\u001b[49m\u001b[43m,\u001b[49m\u001b[43m \u001b[49m\u001b[43m*\u001b[49m\u001b[43margs\u001b[49m\u001b[43m,\u001b[49m\u001b[43m \u001b[49m\u001b[43m*\u001b[49m\u001b[43m*\u001b[49m\u001b[43mkwargs\u001b[49m\u001b[43m)\u001b[49m\n",
      "\u001b[31mFileNotFoundError\u001b[39m: [Errno 2] No such file or directory: 'input.md'"
     ]
    }
   ],
   "source": [
    "from langchain.text_splitter import TextSplitter\n",
    "\n",
    "class CustomDelimiterTextSplitter(TextSplitter):\n",
    "    def __init__(self, delimiter=\"---\", **kwargs):\n",
    "        super().__init__(**kwargs)\n",
    "        self.delimiter = delimiter\n",
    "\n",
    "    def split_text(self, text: str):\n",
    "        # Dividi il testo in base al delimitatore e rimuovi spazi inutili\n",
    "        return [chunk.strip() for chunk in text.split(self.delimiter) if chunk.strip()]\n",
    "    \n",
    "# Apri il file in modalità lettura e leggi tutto il contenuto come stringa\n",
    "with open('input.md', 'r', encoding='utf-8') as file:\n",
    "    testo = file.read()\n",
    "splitter = CustomDelimiterTextSplitter(delimiter=\"---\")\n",
    "chunks = splitter.split_text(testo)\n",
    "print(chunks)\n"
   ]
  },
  {
   "cell_type": "code",
   "execution_count": 9,
   "metadata": {},
   "outputs": [
    {
     "name": "stdout",
     "output_type": "stream",
     "text": [
      "Testo estratto:\n",
      "I BTS (방탄소년단?, 防彈少年團?, Bangtan SonyeondanLR, Pangt'an SonyǒndanMR), conosciuti anche come Bangtan Boys,[5] sono un gruppo musicale K-pop sudcoreano formatosi a Seul nel 2013 e composto da RM, Jin, Suga, J-Hope, Jimin, V e Jung Kook.\n",
      "La band ha esordito il 13 giugno 2013 con il single album 2 Cool 4 Skool,[6] incentrato sui pregiudizi della società nei confronti dei giovani, e con le opere successive ha consolidato la propria reputazione di gruppo socialmente consapevole.[7][8] Nella loro musica, di stampo hip-hop, abbracciano un'ampia gamma di generi ed esplorano temi differenti, dalle ansie scolastiche alla situazione sociale, dalla salute mentale all'amor proprio.[5][9] Nel 2017 hanno introdotto il k-pop nel mercato mainstream statunitense,[10][11] diventando in seguito il primo artista sudcoreano a raggiungere sia la vetta della Billboard 200,[12] che della Billboard Hot 100.[13] Nel 2020 e nel 2021 sono stati il primo artista per numero di vendite a livello mondiale secondo la IFPI...\n"
     ]
    }
   ],
   "source": [
    "import requests\n",
    "from bs4 import BeautifulSoup\n",
    "\n",
    "def estrai_testo_da_link_wikipedia(link):\n",
    "    # Verifica che il link sia di Wikipedia\n",
    "    if \"wikipedia.org\" not in link:\n",
    "        print(\"Il link fornito non è una pagina di Wikipedia.\")\n",
    "        return None\n",
    "\n",
    "    # Effettua la richiesta HTTP per ottenere il contenuto della pagina\n",
    "    response = requests.get(link)\n",
    "\n",
    "    # Verifica che la richiesta sia andata a buon fine\n",
    "    if response.status_code != 200:\n",
    "        print(\"Impossibile accedere alla pagina. Codice di stato:\", response.status_code)\n",
    "        return None\n",
    "\n",
    "    # Analizza il contenuto HTML con BeautifulSoup\n",
    "    soup = BeautifulSoup(response.content, 'html.parser')\n",
    "\n",
    "    # Trova il contenuto principale dell'articolo di Wikipedia\n",
    "    contenuto_pagina = soup.find('div', {'class': 'mw-parser-output'})\n",
    "\n",
    "    # Estrai il testo paragrafo per paragrafo\n",
    "    testo = \"\"\n",
    "    if contenuto_pagina:\n",
    "        paragrafi = contenuto_pagina.find_all('p')\n",
    "        for paragrafo in paragrafi:\n",
    "            testo += paragrafo.get_text()\n",
    "\n",
    "    # Mostra i primi 1000 caratteri del testo\n",
    "    print(f\"Testo estratto:\\n{testo[:1000]}...\")\n",
    "\n",
    "    return testo\n",
    "\n",
    "# Esempio di utilizzo:\n",
    "link_wikipedia = \"https://it.wikipedia.org/wiki/BTS\"  # Sostituisci con il link che vuoi analizzare\n",
    "text = estrai_testo_da_link_wikipedia(link_wikipedia)\n"
   ]
  },
  {
   "cell_type": "code",
   "execution_count": 12,
   "metadata": {},
   "outputs": [
    {
     "name": "stdout",
     "output_type": "stream",
     "text": [
      "nput: 48 Vdc nom (42 to 54 Vdc). \n",
      "Current consumption @ 48 V: 30 mA with relay energized, typical. \n",
      "Power dissipation: 1.5 W with 48 V input voltage and relay energized, typical. \n",
      "Isolation (Test Voltage): Input/Output 2.5 KV. \n",
      "\n",
      "Output: voltage free SPDT relay contact.\n",
      "Terminals 13-15, open in normally energized condition, closed when relay is \n",
      "de-energized (safe state). \n",
      "Service load output (not SIL) at terminals 13-14 is normally open when relay is \n",
      "de-energized, closed in energized relay condition \n",
      "Contact material: Ag Alloy (Cd free) or AgSnO2. \n",
      "Contact rating: 10 A 250 Vac 2500 VA, 10 A 250 Vdc 300 W (resistive load). \n",
      "Contact inrush current: 16 A at 24 Vdc, 250 Vac. \n",
      "DC Load breaking capacity: \n",
      "V (V) \n",
      "Mechanical / Electrical life: 10 * 106 / 5 * 104 operation, typical. \n",
      "Operate / Release time: 15 / 5 ms typical. \n",
      "Frequency response: 10 Hz maximum. \n",
      "\n",
      "\n",
      "\n",
      "Compatibility:\n",
      "CE mark compliant, conforms to Directive: \n",
      "\n",
      "\n",
      "\n",
      "Environmental conditions:\n",
      "Operating: temperature limits - 40 to + 60 °C, relative humidity 95 %, up to 55 °C. \n",
      "Storage: temperature limits - 45 to + 80 °C. \n",
      "\n",
      "\n",
      "Approvals:\n",
      "TÜV Certificate No. C-IS-272994-01 SIL 3 conforms to IEC61508:2010 Ed.2. \n",
      "SIL 3 Functional Safety TÜV Certificate conforms to IEC61508:2010 Ed.2, for Management of Functional Safety. \n",
      "\n",
      "\n",
      "Mounting:\n",
      "T35 DIN-Rail according to EN50022 or on customized Termination Board. \n",
      "Weight: about 165 g. \n",
      "Connection: by polarized plug-in disconnect screw terminal blocks to accommodate terminations up to 2.5 mm2. \n",
      "Location: installation in Safe Area. \n",
      "Protection class: IP 20. \n",
      "Dimensions: Width 22.5 mm, Depth 123 mm, Height 120 mm. \n",
      "\n",
      "\n",
      "\n"
     ]
    }
   ],
   "source": [
    "print(\"nput: 48 Vdc nom (42 to 54 Vdc). \\nCurrent consumption @ 48 V: 30 mA with relay energized, typical. \\nPower dissipation: 1.5 W with 48 V input voltage and relay energized, typical. \\nIsolation (Test Voltage): Input/Output 2.5 KV. \\n\\nOutput: voltage free SPDT relay contact.\\nTerminals 13-15, open in normally energized condition, closed when relay is \\nde-energized (safe state). \\nService load output (not SIL) at terminals 13-14 is normally open when relay is \\nde-energized, closed in energized relay condition \\nContact material: Ag Alloy (Cd free) or AgSnO2. \\nContact rating: 10 A 250 Vac 2500 VA, 10 A 250 Vdc 300 W (resistive load). \\nContact inrush current: 16 A at 24 Vdc, 250 Vac. \\nDC Load breaking capacity: \\nV (V) \\nMechanical / Electrical life: 10 * 106 / 5 * 104 operation, typical. \\nOperate / Release time: 15 / 5 ms typical. \\nFrequency response: 10 Hz maximum. \\n\\n\\n\\nCompatibility:\\nCE mark compliant, conforms to Directive: \\n\\n\\n\\nEnvironmental conditions:\\nOperating: temperature limits - 40 to + 60 \\u00b0C, relative humidity 95 %, up to 55 \\u00b0C. \\nStorage: temperature limits - 45 to + 80 \\u00b0C. \\n\\n\\nApprovals:\\nT\\u00dcV Certificate No. C-IS-272994-01 SIL 3 conforms to IEC61508:2010 Ed.2. \\nSIL 3 Functional Safety T\\u00dcV Certificate conforms to IEC61508:2010 Ed.2, for Management of Functional Safety. \\n\\n\\nMounting:\\nT35 DIN-Rail according to EN50022 or on customized Termination Board. \\nWeight: about 165 g. \\nConnection: by polarized plug-in disconnect screw terminal blocks to accommodate terminations up to 2.5 mm2. \\nLocation: installation in Safe Area. \\nProtection class: IP 20. \\nDimensions: Width 22.5 mm, Depth 123 mm, Height 120 mm. \\n\\n\\n\")"
   ]
  },
  {
   "cell_type": "code",
   "execution_count": 7,
   "metadata": {},
   "outputs": [],
   "source": [
    "from langchain_openai import ChatOpenAI\n",
    "from langchain_neo4j import Neo4jGraph\n",
    "from langchain_experimental.graph_transformers import LLMGraphTransformer\n",
    "from langchain_core.documents import Document\n",
    "import os\n",
    "from langchain_together import ChatTogether\n",
    "import together\n",
    "from langchain_google_genai import GoogleGenerativeAI\n",
    "\n",
    "#ChatOpenAI(model=\"gpt-4o\")\n",
    "#ChatTogether(model=\"meta-llama/Llama-3.3-70B-Instruct-Turbo\", temperature=0) ,\n",
    "#ChatTogether(model=\"deepseek-ai/DeepSeek-V3\", temperature=0.5) \n",
    "#GoogleGenerativeAI(model=\"gemini-2.0-flash\",google_api_key=os.getenv(\"GOOGLE_API_KEY\"))\n",
    "# Configura Together AI con la API Key presa da .env\n",
    "together.api_key = os.getenv(\"TOGETHER_API_KEY\")\n",
    "neo4j_uri = os.getenv(\"NEO4J_URI1\")\n",
    "neo4j_username = os.getenv(\"NEO4J_USERNAME\")\n",
    "neo4j_password = os.getenv(\"NEO4J_PASSWORD1\")\n",
    "graph = Neo4jGraph(url=neo4j_uri, username=neo4j_username, password=neo4j_password)\n",
    "# Inizializzazione del trasformatore LLM con il modello GPT-4o\n",
    "llm_transformer = LLMGraphTransformer(\n",
    "    #prompt\n",
    "    llm=ChatOpenAI(model=\"gpt-4o\"),\n",
    "    allowed_nodes=[\"ProductNode\", \"FeatureNode\", \"InterfaceNode\", \"InstallationNode\", \"CertificationNode\", \"SafetyNode\", \"SafetyParametersNode\", \"OrderNode\", \"StartUpNode\", \"FieldConnectionNode\", \"OperationModeNode\", \"ConfigurationModeNode\"],\n",
    "    allowed_relationships=[\"hasFeature\", \"hasTechnicalData\", \"hasUserInterface\", \"hasSerialInterface\", \"hasInstallation\", \"hasCertification\", \"hasSafetyRequirement\", \"hasSafetyParameter\", \"hasOrderCode\", \"hasStartUpProcedure\", \"hasFieldConnection\", \"hasOperationMode\", \"hasConfigurationMode\"],\n",
    "    node_properties=[\"label\", \"name\", \"family\", \"description\", \"use\", \"field_area\", \"install_area\", \"models\", \"source_text\", \"source_embedding\", \"value\", \"unit\", \"condition\",\"parameter_name\", \"parameter_value\", \"table\", \"installation_details\", \"certification_number\", \"standards\", \"title\", \"parameters\", \"code\", \"procedure\", \"type\", \"instructions\"],\n",
    ")"
   ]
  },
  {
   "cell_type": "code",
   "execution_count": 8,
   "metadata": {},
   "outputs": [],
   "source": [
    "\n",
    "    testo = \"\"\"\n",
    "{\n",
    "    \"features\": \"FEATURES\\n1. SIL 2 / SC 3 (pending)\\n2. Input from Zone 0 / Division 1 (pending)\\n3. Installation in Zone 2 / Division 2 (pending)\\n4. Loop disconnection to ease maintenance operations\\n5. HART\\u00ae compatible\\n6. Line & Load short/open circuit programmable diagnostics\\n7. Out-of-range fault with programmable thresholds\\n8. Field fault mirroring to the DCS/PLC IO Card\\n9. High Accuracy\\n10. Three port isolation, Input/Output/Supply\\n\",\n",
    "    \"footer\": \"Functional Safety Management Certification: Functional Safety Management Certification:\\nGM International is certified to conform to IEC61508:2010 part 1 clauses 5-6 for safety related systems up to and included SIL3. In addition, GM International products have been granted I.S. certificates from the most credited Notified Bodies in the world.\\nDisclaimer: Data specified in this document are merely descriptive of the products and should be integrated with relevant technical specifications. Our products are in constant development and the information presented herein refers to the time of document issue. No statements concerning a certain condition or suitability for a certain application can be derived from our information. The information given does not release the user from the obligation of own judgment and verification. Terms & Conditions can be found at our website. For more information refer to istruction manual.\\nDTS Code: DTS1948-0\\nISM Code: ISM0617-0\\nFM Code: ISM0633-0\\nCompany: G.M. International s.r.l.\\n\",\n",
    "    \"general\": \"Language: English\\nWebsite: www.gminternational.com\\nInfo: PRELIMINARY INFORMATION\\n\",\n",
    "    \"model\": \"Family: Intrinsically Safe Isolators > Analog Output\\nName: X1-IS-AO-02\\nLong Description: The Isolating Driver X1-IS-AO-02 module is a high integrity analog output interface suitable for applications requiring SIL 2 level in safety related systems for high risk industries. It isolates and transfers a 4-20 mA signal from a controller located in Safe Area to a load in Hazardous Area. The circuit allows bi-directional communication signals, for HART\\u00ae smart positioners. Line and load open/short circuit detection is provided: the fault in the field is directly mirrored to the PLC AO card as open circuit and it is also reported on the common fault line. To ease maintenance operations, field devices can be disconnected through a two-position insertion/extraction mechanism. This product requires a dedicated Termination Board.\\nUse: INTENDED USE\\nField Area: Hazardous Area\\nInstall Area: Safe Area/Zone 2/Div. 2\\nModels: X1-IS-AO-02-S\\n\",\n",
    "    \"orders\": \"ORDERING INFORMATION\\n1. Ordering codes: X1-IS-AO-02-S: 1 channel\\n\",\n",
    "    \"gateway\": \"Title: GATEWAY\\nText: The external Gateway communicates to this model through a proprietary interface and its use is optional, unless production configuration has to be changed by the user. See Instruction Manual for the specific functions available in this model.\\n\",\n",
    "    \"technical_data\": \"TECHNICAL DATA\\n1. General: \\n    Power dissipation: 0.75 W @ 24 Vdc with 20 mA on I/P output, typical.\\n2. System Supply: 24 Vdc nom (18 to 30 Vdc).\\n    Current consumption: 30 mA @ 24 Vdc with 20 mA on I/P output, typical.\\n3. System In: Current 4 to 20 mA.\\n    Input fault impedance: 16 k\\u03a9 @ 24 Vdc (input current 1.5 mA), typical.\\n4. Field Out: Current 4 to 20 mA + HART.\\n    Maximum load: 600 \\u03a9.\\n    Response time: 5 ms.\\n5. Fault: Load short/open with settable limits on voltage, current and resistance.\\n    Fault signalling: common fault & fault mirroring on DCS/PLC IO.\\n6. Performance: \\n    Ref. Conditions: 24 V supply, 250 \\u03a9 load, 23 \\u00b1 1 \\u00b0C Tamb.\\n    Calibration accuracy: \\u2264 \\u00b120 \\u00b5A.\\n    Linearity accuracy: \\u2264 \\u00b120 \\u00b5A.\\n    Temp. influence: \\u2264 \\u00b12 \\u00b5A/\\u00b0C.\\n7. Isolation: Field Out/System In 2.5 kV; Field Out/System Supply 2.5 kV; System In/System Supply 500 V.\\n8. Environmental conditions: \\n    Operating temperature: temperature limits \\u201340 to +70 \\u00b0C.\\n    Storage temperature: temperature limits \\u201345 to +80 \\u00b0C.\\n9. Safety description: Associated apparatus and non-sparking electrical equipment.\\nUo = 26.7 V, Io = 92 mA, Po = 610 mW at terminals A-Z.\\nUm = 250 Vrms or Vdc, -40 \\u00b0C \\u2264 Ta \\u2264 70 \\u00b0C.\\n10. Mounting: On custom Termination Board.\\n    Weight: about 50 g.\\n    Dimensions: Width 10 mm, Depth 80 mm, Height 120 mm.\\n\",\n",
    "    \"user_interface\": \"USER INTERFACE\\n1. Front Panel: Two LEDs are visible on the Front Panel.\\n    Green LED: indicates the presence of power supply.\\n    Red LED: indicates the presence of a fault.\\n    Image1: PICTURES/IMG1237_R00.png\\n2. Field Connections: Field connections, located on the Termination Board, are indicated as A, B, C, and Z.\\n    A: Positive terminal.\\n\\n    Z: Negative terminal.\\n    C: Not used.\\n    B: Not used.\\n\",\n",
    "    \"serial_interface\": \"SERIAL INTERFACE\\n1. Identification Parameters: The following parameters allows the full identification of the module:\\n    Product Code: X1-IS-AO-02-S = 10242 (decimal).\\n    Model Family: IS-AO = 10 (decimal).\\n    HW Revision: A progressive positive number indicating the hardware revision.\\n    SW Revision: A progressive positive number indicating the software revision.\\n    Device Id: A progressive positive number indicating the module Serial Number.\\n2. Status Parameter: The following parameter indicates the module internal status:\\n    Module Status: <br\\\\>bit0: Device Malfunction (0: device ok, 1: device fault)\\n<br\\\\>bit1: Configuration Changed Flag (0: no change, 1: config changed)\\n3. Time Parameters: The following parameter indicates the module mission time:\\n    Mission Time: Mission time (days) since the first installation.\\n4. Configuration Parameters: The module allows the configuration of the following parameters:\\n    Load Current Fault Enable: Load current fault switch.\\n    Load Current Minimum: Load current minimum threshold (10 \\u00b5A).\\n    Load Current Maximum: Load current maximum threshold (10 \\u00b5A).\\n    Load Resistance Fault Enable: Load current fault switch.\\n    Load Resistance Minimum: Load resistance minimum threshold (\\u03a9).\\n    Load Resistance Maximum: Load resistance minimum threshold (\\u03a9).\\n    Load Voltage Fault Enable: Load voltage fault switch.\\n    Load Voltage Minimum: Load voltage minimum threshold (V).\\n    Load Voltage Maximum: Load voltage maximum threshold (V).\\n    Fault Mirror Enable: The presence of the field fault can be mirrored to the I/O Card. When activated, the module transforms into high impedance towards the system.\\n5. Monitoring Parameters: The module allows the monitoring of the following parameters:\\n    Internal Temperature: Temperature measured inside the module.\\n    Load Current: Load current (\\u00b5A).\\n    Load Voltage: Load voltage (mV).\\n    Load Resistance: Load resistance (\\u03a9).\\n    Fault Status: Current fault status.\\n    System-Side Voltage: System-side (I/O card) voltage (mV).\\n6. Modbus Addresses: The Gateway family X1-GW allows the communication to the module through MODBUS protocol. Address, type, factory values and access rights of the available parameters are reported in the following table: \\nModbus Table:\\n[\\n    {\\n        \\\"address\\\": \\\"1\\\",\\n        \\\"parameter\\\": \\\"Product Code\\\",\\n        \\\"type\\\": \\\"Uint16\\\",\\n        \\\"factory\\\": \\\"10242\\\",\\n        \\\"access\\\": \\\"R\\\"\\n    },\\n    {\\n        \\\"address\\\": \\\"2\\\",\\n        \\\"parameter\\\": \\\"Model Family\\\",\\n        \\\"type\\\": \\\"Uint8\\\",\\n        \\\"factory\\\": \\\"10\\\",\\n        \\\"access\\\": \\\"R\\\"\\n    },\\n    {\\n        \\\"address\\\": \\\"3\\\",\\n        \\\"parameter\\\": \\\"HW Revision\\\",\\n        \\\"type\\\": \\\"Uint16\\\",\\n        \\\"factory\\\": \\\"Module HW rev.\\\",\\n        \\\"access\\\": \\\"R\\\"\\n    },\\n    {\\n        \\\"address\\\": \\\"4\\\",\\n        \\\"parameter\\\": \\\"SW Revision\\\",\\n        \\\"type\\\": \\\"Uint16\\\",\\n        \\\"factory\\\": \\\"Module SW rev.\\\",\\n        \\\"access\\\": \\\"R\\\"\\n    },\\n    {\\n        \\\"address\\\": \\\"5+6\\\",\\n        \\\"parameter\\\": \\\"Device Id\\\",\\n        \\\"type\\\": \\\"Uint32\\\",\\n        \\\"factory\\\": \\\"Module S/N\\\",\\n        \\\"access\\\": \\\"R\\\"\\n    },\\n    {\\n        \\\"address\\\": \\\"8\\\",\\n        \\\"parameter\\\": \\\"Module Status\\\",\\n        \\\"type\\\": \\\"Uint8\\\",\\n        \\\"factory\\\": \\\"-\\\",\\n        \\\"access\\\": \\\"R\\\"\\n    },\\n    {\\n        \\\"address\\\": \\\"9\\\",\\n        \\\"parameter\\\": \\\"Mission Time\\\",\\n        \\\"type\\\": \\\"Uint16\\\",\\n        \\\"factory\\\": \\\"-\\\",\\n        \\\"access\\\": \\\"R\\\"\\n    },\\n    {\\n        \\\"address\\\": \\\"12\\\",\\n        \\\"parameter\\\": \\\"Load Current Fault Enable (0: OFF, 1: ON)\\\",\\n        \\\"type\\\": \\\"Uint8\\\",\\n        \\\"factory\\\": \\\"1 (ON)\\\",\\n        \\\"access\\\": \\\"RW\\\"\\n    },\\n    {\\n        \\\"address\\\": \\\"13\\\",\\n        \\\"parameter\\\": \\\"Load Current Minimum (10 \\\\u00b5A)\\\",\\n        \\\"type\\\": \\\"Uint16\\\",\\n        \\\"factory\\\": \\\"5 (= 50 \\\\u00b5A)\\\",\\n        \\\"access\\\": \\\"RW\\\"\\n    },\\n    {\\n        \\\"address\\\": \\\"14\\\",\\n        \\\"parameter\\\": \\\"Load Current Maximum (10 \\\\u00b5A)\\\",\\n        \\\"type\\\": \\\"Uint16\\\",\\n        \\\"factory\\\": \\\"2200 (= 22 mA)\\\",\\n        \\\"access\\\": \\\"RW\\\"\\n    },\\n    {\\n        \\\"address\\\": \\\"15\\\",\\n        \\\"parameter\\\": \\\"Load Resistance Fault Enable (0: OFF, 1: ON)\\\",\\n        \\\"type\\\": \\\"Uint8\\\",\\n        \\\"factory\\\": \\\"1 (ON)\\\",\\n        \\\"access\\\": \\\"RW\\\"\\n    },\\n    {\\n        \\\"address\\\": \\\"16\\\",\\n        \\\"parameter\\\": \\\"Load Resistance Minimum (\\\\u03a9)\\\",\\n        \\\"type\\\": \\\"Uint16\\\",\\n        \\\"factory\\\": \\\"0 (= 0 \\\\u03a9)\\\",\\n        \\\"access\\\": \\\"RW\\\"\\n    },\\n    {\\n        \\\"address\\\": \\\"17\\\",\\n        \\\"parameter\\\": \\\"Load Resistance Maximum (\\\\u03a9)\\\",\\n        \\\"type\\\": \\\"Uint16\\\",\\n        \\\"factory\\\": \\\"3200 (= 3.2 k\\\\u03a9)\\\",\\n        \\\"access\\\": \\\"RW\\\"\\n    },\\n    {\\n        \\\"address\\\": \\\"18\\\",\\n        \\\"parameter\\\": \\\"Load Voltage Fault Enable (0: OFF, 1: ON)\\\",\\n        \\\"type\\\": \\\"Uint8\\\",\\n        \\\"factory\\\": \\\"0 (OFF)\\\",\\n        \\\"access\\\": \\\"RW\\\"\\n    },\\n    {\\n        \\\"address\\\": \\\"19\\\",\\n        \\\"parameter\\\": \\\"Load Voltage Minimum (V)\\\",\\n        \\\"type\\\": \\\"Uint8\\\",\\n        \\\"factory\\\": \\\"0\\\",\\n        \\\"access\\\": \\\"RW\\\"\\n    },\\n    {\\n        \\\"address\\\": \\\"20\\\",\\n        \\\"parameter\\\": \\\"Load Voltage Maximum (V)\\\",\\n        \\\"type\\\": \\\"Uint8\\\",\\n        \\\"factory\\\": \\\"0\\\",\\n        \\\"access\\\": \\\"RW\\\"\\n    },\\n    {\\n        \\\"address\\\": \\\"21\\\",\\n        \\\"parameter\\\": \\\"Fault Mirror Enable (0: OFF, 1: ON)\\\",\\n        \\\"type\\\": \\\"Uint8\\\",\\n        \\\"factory\\\": \\\"1 (ON)\\\",\\n        \\\"access\\\": \\\"RW\\\"\\n    },\\n    {\\n        \\\"address\\\": \\\"84\\\",\\n        \\\"parameter\\\": \\\"Internal Temperature (\\\\u00b0C)\\\",\\n        \\\"type\\\": \\\"Sint8\\\",\\n        \\\"factory\\\": \\\"-\\\",\\n        \\\"access\\\": \\\"R\\\"\\n    },\\n    {\\n        \\\"address\\\": \\\"85\\\",\\n        \\\"parameter\\\": \\\"Load Current (\\\\u00b5A)\\\",\\n        \\\"type\\\": \\\"Uint16\\\",\\n        \\\"factory\\\": \\\"-\\\",\\n        \\\"access\\\": \\\"R\\\"\\n    },\\n    {\\n        \\\"address\\\": \\\"86\\\",\\n        \\\"parameter\\\": \\\"Load Voltage (mV)\\\",\\n        \\\"type\\\": \\\"Uint16\\\",\\n        \\\"factory\\\": \\\"-\\\",\\n        \\\"access\\\": \\\"R\\\"\\n    },\\n    {\\n        \\\"address\\\": \\\"87\\\",\\n        \\\"parameter\\\": \\\"Load Resistance (\\\\u03a9)\\\",\\n        \\\"type\\\": \\\"Uint16\\\",\\n        \\\"factory\\\": \\\"-\\\",\\n        \\\"access\\\": \\\"R\\\"\\n    },\\n    {\\n        \\\"address\\\": \\\"91\\\",\\n        \\\"parameter\\\": \\\"Fault Status (0: absent, 1: present)\\\",\\n        \\\"type\\\": \\\"Uint8\\\",\\n        \\\"factory\\\": \\\"-\\\",\\n        \\\"access\\\": \\\"R\\\"\\n    },\\n    {\\n        \\\"address\\\": \\\"93\\\",\\n        \\\"parameter\\\": \\\"System-Side Voltage (mV)\\\",\\n        \\\"type\\\": \\\"Uint16\\\",\\n        \\\"factory\\\": \\\"-\\\",\\n        \\\"access\\\": \\\"R\\\"\\n    }\\n]\\n\",\n",
    "    \"safety\": \"SAFETY INFORMATION\\n1. User responsibility: The plant operator is responsible for planning, installation, commissioning, operation, maintenance and decommissioning of the product during its entire life cycle.\\nPersonnel must have the appropriate knowledge, skills and competences to perform the related operations. Carefully read and understand the instruction manual.\\n2. Intended use: The device is intended to be used only for the function described in this manual. Ignoring these instructions will void any warranty and absolve the manufacturer from any liability.\\nRead this manual in conjunction with instruction manual of the X1 series termination board used in the application. Other documents like datasheets, manuals, drawings, declarations of conformity and certificates, when applicable, complete this document. Please visit www.gminternational.com.\\n3. Improper use: If the device is not used according to its intended use or not properly installed, this may result in the risk of damage to the unit or severe personal injury.\\n4. General requirements: The device is suitable for installation on X1 series termination boards (X1-TB-*), with any orientation over the entire ambient temperature range. Modules can be plugged and unplugged to termination boards without suffering or causing any damage.\\nThe device must be connected to SELV or PELV supplies. All circuits connected to the devices must comply with the overvoltage category II (or better) according to IEC/EN 60664-1. \\nThe enclosure provides, according to IEC/EN 60529, an IP20 minimum degree of protection (or similar to NEMA Standard 250 type 1). The equipment shall only be used in an area of at least pollution degree 2, as defined in IEC/EN 60664-1. The end user is responsible to ensure that the operating temperature of the module is not exceeded in the end use application.\\n5. Requirements as zone 2 / div. 2 electrical equipment: The device must be installed, operated and maintained only by qualified personnel, in accordance to the relevant national/international installation standards (e.g. IEC/EN60079-14 Explosive atmospheres - Part 14: Electrical installations design, selection and erection), following the established installation rules.\\nWhen installed in EU Zone 2, the unit shall be installed in an enclosure that provides a minimum ingress protection of IP54 in accordance with IEC/EN 60079-0. When installed in a Class I, Zone 2 Hazardous Location, the unit shall be mounted in a supplemental AEx or Ex enclosure that provides a degree of protection not less than IP54 in accordance with UL/CSA 60079-0. When installed in a Class I, Division 2 Hazardous Location, the unit shall be mounted in a supplemental enclosure that provides a degree of protection not less than IP54, with a door or cover accessible only by the use of a tool.\\nWarning - explosion hazard: do not connect or disconnect when energized, unless area is known to be nonhazardous. / Avertissement - risque d\\u2019explosion: ne pas brancher ni d\\u00e9brancher sous tension, \\u00e0 moins de savoir que l\\u2019emplacement n\\u2019est pas dangereux.\\n6. Requirements as intrinsically safe associated apparatus: The device must be installed, operated and maintained only by qualified personnel, in accordance to the relevant national/international installation standards (e.g. IEC/EN60079-14 Explosive atmospheres - Part 14: Electrical installations design, selection and erection), following the established installation rules.\\nThe device must not be connected to control equipment that uses or generates more than 250 Vrms or Vdc with respect to earth ground.\\nIsolation in accordance with EN/IEC 60079-11 clause 6.3.13 is provided between non-intrinsically safe circuits and intrinsically safe circuits.\\n7. Maintenance and repair: The device must be protected against dirt, dust, extreme mechanical (e.g. vibration, impact and shock) and thermal stress, and casual contacts. If enclosure needs to be cleaned use only a cloth lightly moistened by a mixture of detergent in water. Any penetration of cleaning liquid must be avoided to prevent damage to the unit. Any unauthorized modification must be avoided. \\nThe device cannot be repaired by the end user and must be returned to the manufacturer or his authorized representative. Any unauthorized modification must be avoided.\\n8. Approvals: IECEx certificate: IECEx FMG 23.0018X\\nIECEx marking: Ex ec [ia Ga] IIC T4 Gc; [Ex ia Da] IIIC; [Ex ia Ma] I\\nIECEx standards: IEC 60079-0; IEC 60079-7; IEC 60079-11\\nATEX certificate: FM23ATEX0038X\\nATEX marking: II 3(1)G Ex ec [ia Ga] IIC T4 Gc; II (1)D [Ex ia Da] IIIC; I (M1) [Ex ia Ma] I\\nATEX standards: EN 60079-0; EN 60079-7; EN 60079-11\\nUKEX certificate: FM23UKEX0039X\\nUKEX marking: II 3(1)G Ex ec [ia Ga] IIC T4 Gc; II (1)D [Ex ia Da] IIIC; I (M1) [Ex ia Ma] I\\nUKEX standards: EN 60079-0; EN 60079-7; EN 60079-11\\nFM certificate: FM23US0073X\\nFM marking: NI-AIS / I / 2 / ABCD / T4, AIS / I,II,III / 1 / ABCDEFG, I / 2 / AEx ec [ia] / IIC / T4 (TBD)\\nFM standards: Class 3600, 3610, 3810, 3611, ANSI/ISA-60079-0, ANSI/ISA-60079-11, ANSI/ISA-60079-15 (TBD)\\nFM-C certificate: FM23CA0055X\\nFM-C marking: NI-AIS / I / 2 / ABCD / T4, AIS / I,II,III / 1 / ABCDEFG, I / 2 / Ex ec [ia] / IIC / T4 (TBD)\\nFM-C standards: C22.2 No.142, C22.2 No.157, C22.2 No.213, C22.2 No. 60079-0, C22.2 No. 60079-11, C22.2 No. 60079-15 (TBD)\\n\\nOther approvals can be found on www.gminternational.com website.\\n9. Intrinsic Safety Parameters: In the system safety analysis, check the suitability of the intrinsically safe device and that its maximum allowable voltage, current, power (Ui, Ii, Pi) are not exceeded by the safety parameters (Uo, Io, Po) of the associated apparatus connected to it. Check that added connecting cable and field device capacitance and inductance do not exceed the limits (Co, Lo, Lo/Ro) given in the Associated Apparatus parameters for the effective group.\\nWhen used with separate powered intrinsically safe devices, check that maximum allowable voltage, current (Ui, Ii, Pi) of the associated apparatus are not exceeded by the safety parameters (Uo, Io, Po) of the intrinsically safe device connected to it, where applicable. Check that added connecting cable and associated apparatus capacitance and inductance do not exceed the limits (Co, Lo, Lo/Ro) given in the field device parameters for the effective group, where applicable.\\nFor installations in which both the Ci and Li of the intrinsically safe apparatus exceeds 1% of the Co and Lo parameters of the associated apparatus (excluding the cable), then 50% of Co and Lo parameters are applicable and shall not be exceeded (50% of the Co and Lo become the limits which must include the cable such that Ci device + C cable \\u2264 50% of Co and Li device + L cable \\u2264 50% of Lo). The reduced capacitance of the external circuit (including cable) shall not be greater than 1 \\u03bcF for Groups I, IIA, IIB and 600 nF for Group IIC.\\nIf the cable parameters are unknown, the following value may be used: capacitance 200 pF per meter (60 pF per foot), inductance 1 \\u00b5H per meter (0.20 \\u00b5H per foot).\\n\\n10. Application: Isolating Driver\\nTerminals: A-Z\\nI.S. Parameters: Uo = 26.7 V, Io = 92 mA, Po = 610 mW\\nCharacteristic: Linear\\n    10.1. Param Table:\\n[\\n    {\\n        \\\"group\\\": \\\"IIC\\\",\\n        \\\"co\\\": \\\"0.091\\\",\\n        \\\"lo\\\": \\\"4.2\\\",\\n        \\\"lo_ro\\\": \\\"58\\\"\\n    },\\n    {\\n        \\\"group\\\": \\\"IIB\\\",\\n        \\\"co\\\": \\\"0.718\\\",\\n        \\\"lo\\\": \\\"16.9\\\",\\n        \\\"lo_ro\\\": \\\"233\\\"\\n    },\\n    {\\n        \\\"group\\\": \\\"IIA\\\",\\n        \\\"co\\\": \\\"2.38\\\",\\n        \\\"lo\\\": \\\"33.9\\\",\\n        \\\"lo_ro\\\": \\\"466\\\"\\n    },\\n    {\\n        \\\"group\\\": \\\"I\\\",\\n        \\\"co\\\": \\\"4.24\\\",\\n        \\\"lo\\\": \\\"55.7\\\",\\n        \\\"lo_ro\\\": \\\"765\\\"\\n    },\\n    {\\n        \\\"group\\\": \\\"IIIC\\\",\\n        \\\"co\\\": \\\"0.718\\\",\\n        \\\"lo\\\": \\\"16.9\\\",\\n        \\\"lo_ro\\\": \\\"233\\\"\\n    }\\n]\\n\"\n",
    "}\n",
    " \"\"\"\n",
    "    documents = [Document(page_content=testo)]\n",
    "    # Conversione asincrona dei documenti in un formato di grafo\n",
    "    graph_documents = await llm_transformer.aconvert_to_graph_documents(documents)\n",
    "\n",
    "    # Aggiunta dei documenti trasformati al grafo\n",
    "    graph.add_graph_documents(graph_documents)"
   ]
  },
  {
   "cell_type": "code",
   "execution_count": 9,
   "metadata": {},
   "outputs": [
    {
     "name": "stdout",
     "output_type": "stream",
     "text": [
      "[GraphDocument(nodes=[Node(id='X1-Is-Ao-02', type='Productnode', properties={'family': 'Intrinsically Safe Isolators > Analog Output', 'name': 'X1-IS-AO-02', 'description': 'The Isolating Driver X1-IS-AO-02 module is a high integrity analog output interface suitable for applications requiring SIL 2 level in safety related systems for high risk industries.', 'use': 'INTENDED USE', 'field_area': 'Hazardous Area', 'install_area': 'Safe Area/Zone 2/Div. 2', 'models': 'X1-IS-AO-02-S'}), Node(id='Features', type='Featurenode', properties={'source_text': '1. SIL 2 / SC 3 (pending)\\n2. Input from Zone 0 / Division 1 (pending)\\n3. Installation in Zone 2 / Division 2 (pending)\\n4. Loop disconnection to ease maintenance operations\\n5. HART® compatible\\n6. Line & Load short/open circuit programmable diagnostics\\n7. Out-of-range fault with programmable thresholds\\n8. Field fault mirroring to the DCS/PLC IO Card\\n9. High Accuracy\\n10. Three port isolation, Input/Output/Supply'}), Node(id='Gateway', type='Featurenode', properties={'title': 'GATEWAY', 'description': 'The external Gateway communicates to this model through a proprietary interface and its use is optional, unless production configuration has to be changed by the user.'}), Node(id='Technicaldata', type='Featurenode', properties={'source_text': '1. General: \\n    Power dissipation: 0.75 W @ 24 Vdc with 20 mA on I/P output, typical.\\n2. System Supply: 24 Vdc nom (18 to 30 Vdc).\\n    Current consumption: 30 mA @ 24 Vdc with 20 mA on I/P output, typical.\\n3. System In: Current 4 to 20 mA.\\n    Input fault impedance: 16 kΩ @ 24 Vdc (input current 1.5 mA), typical.\\n4. Field Out: Current 4 to 20 mA + HART.\\n    Maximum load: 600 Ω.\\n    Response time: 5 ms.\\n5. Fault: Load short/open with settable limits on voltage, current and resistance.\\n    Fault signalling: common fault & fault mirroring on DCS/PLC IO.\\n6. Performance: \\n    Ref. Conditions: 24 V supply, 250 Ω load, 23 ± 1 °C Tamb.\\n    Calibration accuracy: ≤ ±20 µA.\\n    Linearity accuracy: ≤ ±20 µA.\\n    Temp. influence: ≤ ±2 µA/°C.\\n7. Isolation: Field Out/System In 2.5 kV; Field Out/System Supply 2.5 kV; System In/System Supply 500 V.\\n8. Environmental conditions: \\n    Operating temperature: temperature limits –40 to +70 °C.\\n    Storage temperature: temperature limits –45 to +80 °C.\\n9. Safety description: Associated apparatus and non-sparking electrical equipment.\\nUo = 26.7 V, Io = 92 mA, Po = 610 mW at terminals A-Z.\\nUm = 250 Vrms or Vdc, -40 °C ≤ Ta ≤ 70 °C.\\n10. Mounting: On custom Termination Board.\\n    Weight: about 50 g.\\n    Dimensions: Width 10 mm, Depth 80 mm, Height 120 mm.'}), Node(id='User_Interface', type='Interfacenode', properties={'source_text': '1. Front Panel: Two LEDs are visible on the Front Panel.\\n    Green LED: indicates the presence of power supply.\\n    Red LED: indicates the presence of a fault.\\n    Image1: PICTURES/IMG1237_R00.png\\n2. Field Connections: Field connections, located on the Termination Board, are indicated as A, B, C, and Z.\\n    A: Positive terminal.\\n\\n    Z: Negative terminal.\\n    C: Not used.\\n    B: Not used.'}), Node(id='Serial_Interface', type='Interfacenode', properties={'source_text': '1. Identification Parameters: The following parameters allows the full identification of the module:\\n    Product Code: X1-IS-AO-02-S = 10242 (decimal).\\n    Model Family: IS-AO = 10 (decimal).\\n    HW Revision: A progressive positive number indicating the hardware revision.\\n    SW Revision: A progressive positive number indicating the software revision.\\n    Device Id: A progressive positive number indicating the module Serial Number.\\n2. Status Parameter: The following parameter indicates the module internal status:\\n    Module Status: <br\\\\>bit0: Device Malfunction (0: device ok, 1: device fault)\\n<br\\\\>bit1: Configuration Changed Flag (0: no change, 1: config changed)\\n3. Time Parameters: The following parameter indicates the module mission time:\\n    Mission Time: Mission time (days) since the first installation.\\n4. Configuration Parameters: The module allows the configuration of the following parameters:\\n    Load Current Fault Enable: Load current fault switch.\\n    Load Current Minimum: Load current minimum threshold (10 µA).\\n    Load Current Maximum: Load current maximum threshold (10 µA).\\n    Load Resistance Fault Enable: Load current fault switch.\\n    Load Resistance Minimum: Load resistance minimum threshold (Ω).\\n    Load Resistance Maximum: Load resistance minimum threshold (Ω).\\n    Load Voltage Fault Enable: Load voltage fault switch.\\n    Load Voltage Minimum: Load voltage minimum threshold (V).\\n    Load Voltage Maximum: Load voltage maximum threshold (V).\\n    Fault Mirror Enable: The presence of the field fault can be mirrored to the I/O Card. When activated, the module transforms into high impedance towards the system.\\n5. Monitoring Parameters: The module allows the monitoring of the following parameters:\\n    Internal Temperature: Temperature measured inside the module.\\n    Load Current: Load current (µA).\\n    Load Voltage: Load voltage (mV).\\n    Load Resistance: Load resistance (Ω).\\n    Fault Status: Current fault status.\\n    System-Side Voltage: System-side (I/O card) voltage (mV).\\n6. Modbus Addresses: The Gateway family X1-GW allows the communication to the module through MODBUS protocol. Address, type, factory values and access rights of the available parameters are reported in the following table:\\n[]'}), Node(id='Installation', type='Installationnode', properties={'installation_details': 'The device must be connected to SELV or PELV supplies. All circuits connected to the devices must comply with the overvoltage category II (or better) according to IEC/EN 60664-1. The enclosure provides, according to IEC/EN 60529, an IP20 minimum degree of protection. The equipment shall only be used in an area of at least pollution degree 2, as defined in IEC/EN 60664-1.'}), Node(id='Functional Safety Management Certification', type='Certificationnode', properties={'certification_number': 'Functional Safety Management Certification', 'standards': 'IEC61508:2010 part 1 clauses 5-6 for safety related systems up to SIL3'}), Node(id='Safety_Information', type='Safetynode', properties={'source_text': '1. User responsibility: The plant operator is responsible for planning, installation, commissioning, operation, maintenance and decommissioning of the product during its entire life cycle.\\nPersonnel must have the appropriate knowledge, skills and competences to perform the related operations. Carefully read and understand the instruction manual.\\n2. Intended use: The device is intended to be used only for the function described in this manual. Ignoring these instructions will void any warranty and absolve the manufacturer from any liability.\\nRead this manual in conjunction with instruction manual of the X1 series termination board used in the application. Other documents like datasheets, manuals, drawings, declarations of conformity and certificates, when applicable, complete this document. Please visit www.gminternational.com.\\n3. Improper use: If the device is not used according to its intended use or not properly installed, this may result in the risk of damage to the unit or severe personal injury.\\n4. General requirements: The device is suitable for installation on X1 series termination boards (X1-TB-*), with any orientation over the entire ambient temperature range. Modules can be plugged and unplugged to termination boards without suffering or causing any damage.\\nThe device must be connected to SELV or PELV supplies. All circuits connected to the devices must comply with the overvoltage category II (or better) according to IEC/EN 60664-1. \\nThe enclosure provides, according to IEC/EN 60529, an IP20 minimum degree of protection. The equipment shall only be used in an area of at least pollution degree 2, as defined in IEC/EN 60664-1. The end user is responsible to ensure that the operating temperature of the module is not exceeded in the end use application.\\n5. Requirements as zone 2 / div. 2 electrical equipment: The device must be installed, operated and maintained only by qualified personnel, in accordance to the relevant national/international installation standards (e.g. IEC/EN60079-14 Explosive atmospheres - Part 14: Electrical installations design, selection and erection), following the established installation rules.\\nWhen installed in EU Zone 2, the unit shall be installed in an enclosure that provides a minimum ingress protection of IP54 in accordance with IEC/EN 60079-0. When installed in a Class I, Zone 2 Hazardous Location, the unit shall be mounted in a supplemental AEx or Ex enclosure that provides a degree of protection not less than IP54 in accordance with UL/CSA 60079-0. When installed in a Class I, Division 2 Hazardous Location, the unit shall be mounted in a supplemental enclosure that provides a degree of protection not less than IP54, with a door or cover accessible only by the use of a tool.\\nWarning - explosion hazard: do not connect or disconnect when energized, unless area is known to be nonhazardous. / Avertissement - risque d’explosion: ne pas brancher ni débrancher sous tension, à moins de savoir que l’emplacement n’est pas dangereux.\\n6. Requirements as intrinsically safe associated apparatus: The device must be installed, operated and maintained only by qualified personnel, in accordance to the relevant national/international installation standards (e.g. IEC/EN60079-14 Explosive atmospheres - Part 14: Electrical installations design, selection and erection), following the established installation rules.\\nThe device must not be connected to control equipment that uses or generates more than 250 Vrms or Vdc with respect to earth ground.\\nIsolation in accordance with EN/IEC 60079-11 clause 6.3.13 is provided between non-intrinsically safe circuits and intrinsically safe circuits.\\n7. Maintenance and repair: The device must be protected against dirt, dust, extreme mechanical (e.g. vibration, impact and shock) and thermal stress, and casual contacts. If enclosure needs to be cleaned use only a cloth lightly moistened by a mixture of detergent in water. Any penetration of cleaning liquid must be avoided to prevent damage to the unit. Any unauthorized modification must be avoided. \\nThe device cannot be repaired by the end user and must be returned to the manufacturer or his authorized representative. Any unauthorized modification must be avoided.\\n8. Approvals: IECEx certificate: IECEx FMG 23.0018X\\nIECEx marking: Ex ec [ia Ga] IIC T4 Gc; [Ex ia Da] IIIC; [Ex ia Ma] I\\nIECEx standards: IEC 60079-0; IEC 60079-7; IEC 60079-11\\nATEX certificate: FM23ATEX0038X\\nATEX marking: II 3(1)G Ex ec [ia Ga] IIC T4 Gc; II (1)D [Ex ia Da] IIIC; I (M1) [Ex ia Ma] I\\nATEX standards: EN 60079-0; EN 60079-7; EN 60079-11\\nUKEX certificate: FM23UKEX0039X\\nUKEX marking: II 3(1)G Ex ec [ia Ga] IIC T4 Gc; II (1)D [Ex ia Da] IIIC; I (M1) [Ex ia Ma] I\\nUKEX standards: EN 60079-0; EN 60079-7; EN 60079-11\\nFM certificate: FM23US0073X\\nFM marking: NI-AIS / I / 2 / ABCD / T4, AIS / I,II,III / 1 / ABCDEFG, I / 2 / AEx ec [ia] / IIC / T4 (TBD)\\nFM standards: Class 3600, 3610, 3810, 3611, ANSI/ISA-60079-0, ANSI/ISA-60079-11, ANSI/ISA-60079-15 (TBD)\\nFM-C certificate: FM23CA0055X\\nFM-C marking: NI-AIS / I / 2 / ABCD / T4, AIS / I,II,III / 1 / ABCDEFG, I / 2 / Ex ec [ia] / IIC / T4 (TBD)\\nFM-C standards: C22.2 No.142, C22.2 No.157, C22.2 No.213, C22.2 No. 60079-0, C22.2 No. 60079-11, C22.2 No. 60079-15 (TBD)'}), Node(id='Ordering_Information', type='Ordernode', properties={'source_text': 'ORDERING INFORMATION\\n1. Ordering codes: X1-IS-AO-02-S: 1 channel'}), Node(id='X1 Series Termination Board', type='Installationnode', properties={'source_text': 'The device is suitable for installation on X1 series termination boards (X1-TB-*), with any orientation over the entire ambient temperature range. Modules can be plugged and unplugged to termination boards without suffering or causing any damage.'}), Node(id='Dts1948-0', type='Certificationnode', properties={'certification_number': 'DTS Code: DTS1948-0'}), Node(id='Ism0617-0', type='Certificationnode', properties={'certification_number': 'ISM Code: ISM0617-0'}), Node(id='Ism0633-0', type='Certificationnode', properties={'certification_number': 'FM Code: ISM0633-0'})], relationships=[Relationship(source=Node(id='X1-Is-Ao-02', type='Productnode', properties={}), target=Node(id='Features', type='Featurenode', properties={}), type='HASFEATURE', properties={}), Relationship(source=Node(id='X1-Is-Ao-02', type='Productnode', properties={}), target=Node(id='Technicaldata', type='Featurenode', properties={}), type='HASTECHNICALDATA', properties={}), Relationship(source=Node(id='X1-Is-Ao-02', type='Productnode', properties={}), target=Node(id='User_Interface', type='Interfacenode', properties={}), type='HASUSERINTERFACE', properties={}), Relationship(source=Node(id='X1-Is-Ao-02', type='Productnode', properties={}), target=Node(id='Serial_Interface', type='Interfacenode', properties={}), type='HASSERIALINTERFACE', properties={}), Relationship(source=Node(id='X1-Is-Ao-02', type='Productnode', properties={}), target=Node(id='Installation', type='Installationnode', properties={}), type='HASINSTALLATION', properties={}), Relationship(source=Node(id='X1-Is-Ao-02', type='Productnode', properties={}), target=Node(id='Functional Safety Management Certification', type='Certificationnode', properties={}), type='HASCERTIFICATION', properties={}), Relationship(source=Node(id='X1-Is-Ao-02', type='Productnode', properties={}), target=Node(id='Safety_Information', type='Safetynode', properties={}), type='HASSAFETYREQUIREMENT', properties={}), Relationship(source=Node(id='X1-Is-Ao-02', type='Productnode', properties={}), target=Node(id='Ordering_Information', type='Ordernode', properties={}), type='HASORDERCODE', properties={}), Relationship(source=Node(id='X1-Is-Ao-02', type='Productnode', properties={}), target=Node(id='Gateway', type='Featurenode', properties={}), type='HASFEATURE', properties={}), Relationship(source=Node(id='X1-Is-Ao-02', type='Productnode', properties={}), target=Node(id='X1 Series Termination Board', type='Installationnode', properties={}), type='HASINSTALLATION', properties={}), Relationship(source=Node(id='X1-Is-Ao-02', type='Productnode', properties={}), target=Node(id='Dts1948-0', type='Certificationnode', properties={}), type='HASCERTIFICATION', properties={}), Relationship(source=Node(id='X1-Is-Ao-02', type='Productnode', properties={}), target=Node(id='Ism0617-0', type='Certificationnode', properties={}), type='HASCERTIFICATION', properties={}), Relationship(source=Node(id='X1-Is-Ao-02', type='Productnode', properties={}), target=Node(id='Ism0633-0', type='Certificationnode', properties={}), type='HASCERTIFICATION', properties={})], source=Document(metadata={}, page_content='\\n{\\n\"features\": \"FEATURES\\n1. SIL 2 / SC 3 (pending)\\n2. Input from Zone 0 / Division 1 (pending)\\n3. Installation in Zone 2 / Division 2 (pending)\\n4. Loop disconnection to ease maintenance operations\\n5. HART® compatible\\n6. Line & Load short/open circuit programmable diagnostics\\n7. Out-of-range fault with programmable thresholds\\n8. Field fault mirroring to the DCS/PLC IO Card\\n9. High Accuracy\\n10. Three port isolation, Input/Output/Supply\\n\",\\n\"footer\": \"Functional Safety Management Certification: Functional Safety Management Certification:\\nGM International is certified to conform to IEC61508:2010 part 1 clauses 5-6 for safety related systems up to and included SIL3. In addition, GM International products have been granted I.S. certificates from the most credited Notified Bodies in the world.\\nDisclaimer: Data specified in this document are merely descriptive of the products and should be integrated with relevant technical specifications. Our products are in constant development and the information presented herein refers to the time of document issue. No statements concerning a certain condition or suitability for a certain application can be derived from our information. The information given does not release the user from the obligation of own judgment and verification. Terms & Conditions can be found at our website. For more information refer to istruction manual.\\nDTS Code: DTS1948-0\\nISM Code: ISM0617-0\\nFM Code: ISM0633-0\\nCompany: G.M. International s.r.l.\\n\",\\n\"general\": \"Language: English\\nWebsite: www.gminternational.com\\nInfo: PRELIMINARY INFORMATION\\n\",\\n\"model\": \"Family: Intrinsically Safe Isolators > Analog Output\\nName: X1-IS-AO-02\\nLong Description: The Isolating Driver X1-IS-AO-02 module is a high integrity analog output interface suitable for applications requiring SIL 2 level in safety related systems for high risk industries. It isolates and transfers a 4-20 mA signal from a controller located in Safe Area to a load in Hazardous Area. The circuit allows bi-directional communication signals, for HART® smart positioners. Line and load open/short circuit detection is provided: the fault in the field is directly mirrored to the PLC AO card as open circuit and it is also reported on the common fault line. To ease maintenance operations, field devices can be disconnected through a two-position insertion/extraction mechanism. This product requires a dedicated Termination Board.\\nUse: INTENDED USE\\nField Area: Hazardous Area\\nInstall Area: Safe Area/Zone 2/Div. 2\\nModels: X1-IS-AO-02-S\\n\",\\n\"orders\": \"ORDERING INFORMATION\\n1. Ordering codes: X1-IS-AO-02-S: 1 channel\\n\",\\n\"gateway\": \"Title: GATEWAY\\nText: The external Gateway communicates to this model through a proprietary interface and its use is optional, unless production configuration has to be changed by the user. See Instruction Manual for the specific functions available in this model.\\n\",\\n\"technical_data\": \"TECHNICAL DATA\\n1. General: \\n    Power dissipation: 0.75 W @ 24 Vdc with 20 mA on I/P output, typical.\\n2. System Supply: 24 Vdc nom (18 to 30 Vdc).\\n    Current consumption: 30 mA @ 24 Vdc with 20 mA on I/P output, typical.\\n3. System In: Current 4 to 20 mA.\\n    Input fault impedance: 16 kΩ @ 24 Vdc (input current 1.5 mA), typical.\\n4. Field Out: Current 4 to 20 mA + HART.\\n    Maximum load: 600 Ω.\\n    Response time: 5 ms.\\n5. Fault: Load short/open with settable limits on voltage, current and resistance.\\n    Fault signalling: common fault & fault mirroring on DCS/PLC IO.\\n6. Performance: \\n    Ref. Conditions: 24 V supply, 250 Ω load, 23 ± 1 °C Tamb.\\n    Calibration accuracy: ≤ ±20 µA.\\n    Linearity accuracy: ≤ ±20 µA.\\n    Temp. influence: ≤ ±2 µA/°C.\\n7. Isolation: Field Out/System In 2.5 kV; Field Out/System Supply 2.5 kV; System In/System Supply 500 V.\\n8. Environmental conditions: \\n    Operating temperature: temperature limits –40 to +70 °C.\\n    Storage temperature: temperature limits –45 to +80 °C.\\n9. Safety description: Associated apparatus and non-sparking electrical equipment.\\nUo = 26.7 V, Io = 92 mA, Po = 610 mW at terminals A-Z.\\nUm = 250 Vrms or Vdc, -40 °C ≤ Ta ≤ 70 °C.\\n10. Mounting: On custom Termination Board.\\n    Weight: about 50 g.\\n    Dimensions: Width 10 mm, Depth 80 mm, Height 120 mm.\\n\",\\n\"user_interface\": \"USER INTERFACE\\n1. Front Panel: Two LEDs are visible on the Front Panel.\\n    Green LED: indicates the presence of power supply.\\n    Red LED: indicates the presence of a fault.\\n    Image1: PICTURES/IMG1237_R00.png\\n2. Field Connections: Field connections, located on the Termination Board, are indicated as A, B, C, and Z.\\n    A: Positive terminal.\\n\\n    Z: Negative terminal.\\n    C: Not used.\\n    B: Not used.\\n\",\\n\"serial_interface\": \"SERIAL INTERFACE\\n1. Identification Parameters: The following parameters allows the full identification of the module:\\n    Product Code: X1-IS-AO-02-S = 10242 (decimal).\\n    Model Family: IS-AO = 10 (decimal).\\n    HW Revision: A progressive positive number indicating the hardware revision.\\n    SW Revision: A progressive positive number indicating the software revision.\\n    Device Id: A progressive positive number indicating the module Serial Number.\\n2. Status Parameter: The following parameter indicates the module internal status:\\n    Module Status: <br\\\\>bit0: Device Malfunction (0: device ok, 1: device fault)\\n<br\\\\>bit1: Configuration Changed Flag (0: no change, 1: config changed)\\n3. Time Parameters: The following parameter indicates the module mission time:\\n    Mission Time: Mission time (days) since the first installation.\\n4. Configuration Parameters: The module allows the configuration of the following parameters:\\n    Load Current Fault Enable: Load current fault switch.\\n    Load Current Minimum: Load current minimum threshold (10 µA).\\n    Load Current Maximum: Load current maximum threshold (10 µA).\\n    Load Resistance Fault Enable: Load current fault switch.\\n    Load Resistance Minimum: Load resistance minimum threshold (Ω).\\n    Load Resistance Maximum: Load resistance minimum threshold (Ω).\\n    Load Voltage Fault Enable: Load voltage fault switch.\\n    Load Voltage Minimum: Load voltage minimum threshold (V).\\n    Load Voltage Maximum: Load voltage maximum threshold (V).\\n    Fault Mirror Enable: The presence of the field fault can be mirrored to the I/O Card. When activated, the module transforms into high impedance towards the system.\\n5. Monitoring Parameters: The module allows the monitoring of the following parameters:\\n    Internal Temperature: Temperature measured inside the module.\\n    Load Current: Load current (µA).\\n    Load Voltage: Load voltage (mV).\\n    Load Resistance: Load resistance (Ω).\\n    Fault Status: Current fault status.\\n    System-Side Voltage: System-side (I/O card) voltage (mV).\\n6. Modbus Addresses: The Gateway family X1-GW allows the communication to the module through MODBUS protocol. Address, type, factory values and access rights of the available parameters are reported in the following table: \\nModbus Table:\\n[\\n    {\\n        \"address\": \"1\",\\n        \"parameter\": \"Product Code\",\\n        \"type\": \"Uint16\",\\n        \"factory\": \"10242\",\\n        \"access\": \"R\"\\n    },\\n    {\\n        \"address\": \"2\",\\n        \"parameter\": \"Model Family\",\\n        \"type\": \"Uint8\",\\n        \"factory\": \"10\",\\n        \"access\": \"R\"\\n    },\\n    {\\n        \"address\": \"3\",\\n        \"parameter\": \"HW Revision\",\\n        \"type\": \"Uint16\",\\n        \"factory\": \"Module HW rev.\",\\n        \"access\": \"R\"\\n    },\\n    {\\n        \"address\": \"4\",\\n        \"parameter\": \"SW Revision\",\\n        \"type\": \"Uint16\",\\n        \"factory\": \"Module SW rev.\",\\n        \"access\": \"R\"\\n    },\\n    {\\n        \"address\": \"5+6\",\\n        \"parameter\": \"Device Id\",\\n        \"type\": \"Uint32\",\\n        \"factory\": \"Module S/N\",\\n        \"access\": \"R\"\\n    },\\n    {\\n        \"address\": \"8\",\\n        \"parameter\": \"Module Status\",\\n        \"type\": \"Uint8\",\\n        \"factory\": \"-\",\\n        \"access\": \"R\"\\n    },\\n    {\\n        \"address\": \"9\",\\n        \"parameter\": \"Mission Time\",\\n        \"type\": \"Uint16\",\\n        \"factory\": \"-\",\\n        \"access\": \"R\"\\n    },\\n    {\\n        \"address\": \"12\",\\n        \"parameter\": \"Load Current Fault Enable (0: OFF, 1: ON)\",\\n        \"type\": \"Uint8\",\\n        \"factory\": \"1 (ON)\",\\n        \"access\": \"RW\"\\n    },\\n    {\\n        \"address\": \"13\",\\n        \"parameter\": \"Load Current Minimum (10 \\\\u00b5A)\",\\n        \"type\": \"Uint16\",\\n        \"factory\": \"5 (= 50 \\\\u00b5A)\",\\n        \"access\": \"RW\"\\n    },\\n    {\\n        \"address\": \"14\",\\n        \"parameter\": \"Load Current Maximum (10 \\\\u00b5A)\",\\n        \"type\": \"Uint16\",\\n        \"factory\": \"2200 (= 22 mA)\",\\n        \"access\": \"RW\"\\n    },\\n    {\\n        \"address\": \"15\",\\n        \"parameter\": \"Load Resistance Fault Enable (0: OFF, 1: ON)\",\\n        \"type\": \"Uint8\",\\n        \"factory\": \"1 (ON)\",\\n        \"access\": \"RW\"\\n    },\\n    {\\n        \"address\": \"16\",\\n        \"parameter\": \"Load Resistance Minimum (\\\\u03a9)\",\\n        \"type\": \"Uint16\",\\n        \"factory\": \"0 (= 0 \\\\u03a9)\",\\n        \"access\": \"RW\"\\n    },\\n    {\\n        \"address\": \"17\",\\n        \"parameter\": \"Load Resistance Maximum (\\\\u03a9)\",\\n        \"type\": \"Uint16\",\\n        \"factory\": \"3200 (= 3.2 k\\\\u03a9)\",\\n        \"access\": \"RW\"\\n    },\\n    {\\n        \"address\": \"18\",\\n        \"parameter\": \"Load Voltage Fault Enable (0: OFF, 1: ON)\",\\n        \"type\": \"Uint8\",\\n        \"factory\": \"0 (OFF)\",\\n        \"access\": \"RW\"\\n    },\\n    {\\n        \"address\": \"19\",\\n        \"parameter\": \"Load Voltage Minimum (V)\",\\n        \"type\": \"Uint8\",\\n        \"factory\": \"0\",\\n        \"access\": \"RW\"\\n    },\\n    {\\n        \"address\": \"20\",\\n        \"parameter\": \"Load Voltage Maximum (V)\",\\n        \"type\": \"Uint8\",\\n        \"factory\": \"0\",\\n        \"access\": \"RW\"\\n    },\\n    {\\n        \"address\": \"21\",\\n        \"parameter\": \"Fault Mirror Enable (0: OFF, 1: ON)\",\\n        \"type\": \"Uint8\",\\n        \"factory\": \"1 (ON)\",\\n        \"access\": \"RW\"\\n    },\\n    {\\n        \"address\": \"84\",\\n        \"parameter\": \"Internal Temperature (\\\\u00b0C)\",\\n        \"type\": \"Sint8\",\\n        \"factory\": \"-\",\\n        \"access\": \"R\"\\n    },\\n    {\\n        \"address\": \"85\",\\n        \"parameter\": \"Load Current (\\\\u00b5A)\",\\n        \"type\": \"Uint16\",\\n        \"factory\": \"-\",\\n        \"access\": \"R\"\\n    },\\n    {\\n        \"address\": \"86\",\\n        \"parameter\": \"Load Voltage (mV)\",\\n        \"type\": \"Uint16\",\\n        \"factory\": \"-\",\\n        \"access\": \"R\"\\n    },\\n    {\\n        \"address\": \"87\",\\n        \"parameter\": \"Load Resistance (\\\\u03a9)\",\\n        \"type\": \"Uint16\",\\n        \"factory\": \"-\",\\n        \"access\": \"R\"\\n    },\\n    {\\n        \"address\": \"91\",\\n        \"parameter\": \"Fault Status (0: absent, 1: present)\",\\n        \"type\": \"Uint8\",\\n        \"factory\": \"-\",\\n        \"access\": \"R\"\\n    },\\n    {\\n        \"address\": \"93\",\\n        \"parameter\": \"System-Side Voltage (mV)\",\\n        \"type\": \"Uint16\",\\n        \"factory\": \"-\",\\n        \"access\": \"R\"\\n    }\\n]\\n\",\\n\"safety\": \"SAFETY INFORMATION\\n1. User responsibility: The plant operator is responsible for planning, installation, commissioning, operation, maintenance and decommissioning of the product during its entire life cycle.\\nPersonnel must have the appropriate knowledge, skills and competences to perform the related operations. Carefully read and understand the instruction manual.\\n2. Intended use: The device is intended to be used only for the function described in this manual. Ignoring these instructions will void any warranty and absolve the manufacturer from any liability.\\nRead this manual in conjunction with instruction manual of the X1 series termination board used in the application. Other documents like datasheets, manuals, drawings, declarations of conformity and certificates, when applicable, complete this document. Please visit www.gminternational.com.\\n3. Improper use: If the device is not used according to its intended use or not properly installed, this may result in the risk of damage to the unit or severe personal injury.\\n4. General requirements: The device is suitable for installation on X1 series termination boards (X1-TB-*), with any orientation over the entire ambient temperature range. Modules can be plugged and unplugged to termination boards without suffering or causing any damage.\\nThe device must be connected to SELV or PELV supplies. All circuits connected to the devices must comply with the overvoltage category II (or better) according to IEC/EN 60664-1. \\nThe enclosure provides, according to IEC/EN 60529, an IP20 minimum degree of protection (or similar to NEMA Standard 250 type 1). The equipment shall only be used in an area of at least pollution degree 2, as defined in IEC/EN 60664-1. The end user is responsible to ensure that the operating temperature of the module is not exceeded in the end use application.\\n5. Requirements as zone 2 / div. 2 electrical equipment: The device must be installed, operated and maintained only by qualified personnel, in accordance to the relevant national/international installation standards (e.g. IEC/EN60079-14 Explosive atmospheres - Part 14: Electrical installations design, selection and erection), following the established installation rules.\\nWhen installed in EU Zone 2, the unit shall be installed in an enclosure that provides a minimum ingress protection of IP54 in accordance with IEC/EN 60079-0. When installed in a Class I, Zone 2 Hazardous Location, the unit shall be mounted in a supplemental AEx or Ex enclosure that provides a degree of protection not less than IP54 in accordance with UL/CSA 60079-0. When installed in a Class I, Division 2 Hazardous Location, the unit shall be mounted in a supplemental enclosure that provides a degree of protection not less than IP54, with a door or cover accessible only by the use of a tool.\\nWarning - explosion hazard: do not connect or disconnect when energized, unless area is known to be nonhazardous. / Avertissement - risque d’explosion: ne pas brancher ni débrancher sous tension, à moins de savoir que l’emplacement n’est pas dangereux.\\n6. Requirements as intrinsically safe associated apparatus: The device must be installed, operated and maintained only by qualified personnel, in accordance to the relevant national/international installation standards (e.g. IEC/EN60079-14 Explosive atmospheres - Part 14: Electrical installations design, selection and erection), following the established installation rules.\\nThe device must not be connected to control equipment that uses or generates more than 250 Vrms or Vdc with respect to earth ground.\\nIsolation in accordance with EN/IEC 60079-11 clause 6.3.13 is provided between non-intrinsically safe circuits and intrinsically safe circuits.\\n7. Maintenance and repair: The device must be protected against dirt, dust, extreme mechanical (e.g. vibration, impact and shock) and thermal stress, and casual contacts. If enclosure needs to be cleaned use only a cloth lightly moistened by a mixture of detergent in water. Any penetration of cleaning liquid must be avoided to prevent damage to the unit. Any unauthorized modification must be avoided. \\nThe device cannot be repaired by the end user and must be returned to the manufacturer or his authorized representative. Any unauthorized modification must be avoided.\\n8. Approvals: IECEx certificate: IECEx FMG 23.0018X\\nIECEx marking: Ex ec [ia Ga] IIC T4 Gc; [Ex ia Da] IIIC; [Ex ia Ma] I\\nIECEx standards: IEC 60079-0; IEC 60079-7; IEC 60079-11\\nATEX certificate: FM23ATEX0038X\\nATEX marking: II 3(1)G Ex ec [ia Ga] IIC T4 Gc; II (1)D [Ex ia Da] IIIC; I (M1) [Ex ia Ma] I\\nATEX standards: EN 60079-0; EN 60079-7; EN 60079-11\\nUKEX certificate: FM23UKEX0039X\\nUKEX marking: II 3(1)G Ex ec [ia Ga] IIC T4 Gc; II (1)D [Ex ia Da] IIIC; I (M1) [Ex ia Ma] I\\nUKEX standards: EN 60079-0; EN 60079-7; EN 60079-11\\nFM certificate: FM23US0073X\\nFM marking: NI-AIS / I / 2 / ABCD / T4, AIS / I,II,III / 1 / ABCDEFG, I / 2 / AEx ec [ia] / IIC / T4 (TBD)\\nFM standards: Class 3600, 3610, 3810, 3611, ANSI/ISA-60079-0, ANSI/ISA-60079-11, ANSI/ISA-60079-15 (TBD)\\nFM-C certificate: FM23CA0055X\\nFM-C marking: NI-AIS / I / 2 / ABCD / T4, AIS / I,II,III / 1 / ABCDEFG, I / 2 / Ex ec [ia] / IIC / T4 (TBD)\\nFM-C standards: C22.2 No.142, C22.2 No.157, C22.2 No.213, C22.2 No. 60079-0, C22.2 No. 60079-11, C22.2 No. 60079-15 (TBD)\\n\\nOther approvals can be found on www.gminternational.com website.\\n9. Intrinsic Safety Parameters: In the system safety analysis, check the suitability of the intrinsically safe device and that its maximum allowable voltage, current, power (Ui, Ii, Pi) are not exceeded by the safety parameters (Uo, Io, Po) of the associated apparatus connected to it. Check that added connecting cable and field device capacitance and inductance do not exceed the limits (Co, Lo, Lo/Ro) given in the Associated Apparatus parameters for the effective group.\\nWhen used with separate powered intrinsically safe devices, check that maximum allowable voltage, current (Ui, Ii, Pi) of the associated apparatus are not exceeded by the safety parameters (Uo, Io, Po) of the intrinsically safe device connected to it, where applicable. Check that added connecting cable and associated apparatus capacitance and inductance do not exceed the limits (Co, Lo, Lo/Ro) given in the field device parameters for the effective group, where applicable.\\nFor installations in which both the Ci and Li of the intrinsically safe apparatus exceeds 1% of the Co and Lo parameters of the associated apparatus (excluding the cable), then 50% of Co and Lo parameters are applicable and shall not be exceeded (50% of the Co and Lo become the limits which must include the cable such that Ci device + C cable ≤ 50% of Co and Li device + L cable ≤ 50% of Lo). The reduced capacitance of the external circuit (including cable) shall not be greater than 1 μF for Groups I, IIA, IIB and 600 nF for Group IIC.\\nIf the cable parameters are unknown, the following value may be used: capacitance 200 pF per meter (60 pF per foot), inductance 1 µH per meter (0.20 µH per foot).\\n\\n10. Application: Isolating Driver\\nTerminals: A-Z\\nI.S. Parameters: Uo = 26.7 V, Io = 92 mA, Po = 610 mW\\nCharacteristic: Linear\\n    10.1. Param Table:\\n[\\n    {\\n        \"group\": \"IIC\",\\n        \"co\": \"0.091\",\\n        \"lo\": \"4.2\",\\n        \"lo_ro\": \"58\"\\n    },\\n    {\\n        \"group\": \"IIB\",\\n        \"co\": \"0.718\",\\n        \"lo\": \"16.9\",\\n        \"lo_ro\": \"233\"\\n    },\\n    {\\n        \"group\": \"IIA\",\\n        \"co\": \"2.38\",\\n        \"lo\": \"33.9\",\\n        \"lo_ro\": \"466\"\\n    },\\n    {\\n        \"group\": \"I\",\\n        \"co\": \"4.24\",\\n        \"lo\": \"55.7\",\\n        \"lo_ro\": \"765\"\\n    },\\n    {\\n        \"group\": \"IIIC\",\\n        \"co\": \"0.718\",\\n        \"lo\": \"16.9\",\\n        \"lo_ro\": \"233\"\\n    }\\n]\\n\"\\n}\\n '))]\n"
     ]
    }
   ],
   "source": [
    "print(graph_documents)"
   ]
  },
  {
   "cell_type": "code",
   "execution_count": 10,
   "metadata": {},
   "outputs": [
    {
     "name": "stdout",
     "output_type": "stream",
     "text": [
      "Node properties:\n",
      "INSTRUCTION MANUAL {id: STRING, text: STRING}\n",
      "Characteristics {id: STRING, text: STRING}\n",
      "Technical Data {id: STRING, text: STRING}\n",
      "Productnode {id: STRING, models: STRING, use: STRING, name: STRING, description: STRING, install_area: STRING, field_area: STRING, family: STRING}\n",
      "Featurenode {id: STRING, source_text: STRING, description: STRING, title: STRING}\n",
      "Interfacenode {id: STRING, source_text: STRING}\n",
      "Installationnode {id: STRING, installation_details: STRING, source_text: STRING}\n",
      "Certificationnode {id: STRING, standards: STRING, certification_number: STRING}\n",
      "Safetynode {id: STRING, source_text: STRING}\n",
      "Ordernode {id: STRING, source_text: STRING}\n",
      "Relationship properties:\n",
      "\n",
      "The relationships:\n",
      "(:INSTRUCTION MANUAL)-[:has_Characteristics]->(:Characteristics)\n",
      "(:INSTRUCTION MANUAL)-[:has_Technical Data]->(:Technical Data)\n",
      "(:Productnode)-[:HASFEATURE]->(:Featurenode)\n",
      "(:Productnode)-[:HASTECHNICALDATA]->(:Featurenode)\n",
      "(:Productnode)-[:HASUSERINTERFACE]->(:Interfacenode)\n",
      "(:Productnode)-[:HASSERIALINTERFACE]->(:Interfacenode)\n",
      "(:Productnode)-[:HASINSTALLATION]->(:Installationnode)\n",
      "(:Productnode)-[:HASCERTIFICATION]->(:Certificationnode)\n",
      "(:Productnode)-[:HASSAFETYREQUIREMENT]->(:Safetynode)\n",
      "(:Productnode)-[:HASORDERCODE]->(:Ordernode)\n"
     ]
    }
   ],
   "source": [
    "\n",
    "neo4j_uri = os.getenv(\"NEO4J_URI1\")\n",
    "neo4j_username = os.getenv(\"NEO4J_USERNAME\")\n",
    "neo4j_password = os.getenv(\"NEO4J_PASSWORD1\")\n",
    "graph = Neo4jGraph(url=neo4j_uri, username=neo4j_username, password=neo4j_password)\n",
    "print(graph.schema)"
   ]
  },
  {
   "cell_type": "code",
   "execution_count": 5,
   "metadata": {},
   "outputs": [],
   "source": [
    "from langchain_neo4j import GraphCypherQAChain\n",
    "from langchain_together import ChatTogether\n",
    "import together\n",
    "import os\n",
    "\n",
    "neo4j_uri = os.getenv(\"NEO4J_URI1\")\n",
    "neo4j_username = os.getenv(\"NEO4J_USERNAME\")\n",
    "neo4j_password = os.getenv(\"NEO4J_PASSWORD1\")\n",
    "graph = Neo4jGraph(url=neo4j_uri, username=neo4j_username, password=neo4j_password)\n",
    "\n",
    "\n",
    "# Configura Together AI con la API Key presa da .env\n",
    "together.api_key = os.getenv(\"TOGETHER_API_KEY\")\n",
    "# Modello AI supportato da Together AI\n",
    "llm = ChatOpenAI(model=\"gpt-4o\")\n",
    "#ChatTogether(model=\"meta-llama/Llama-3.3-70B-Instruct-Turbo\", temperature=0) ,\n",
    "#ChatTogether(model=\"deepseek-ai/DeepSeek-V3\", temperature=0.5) \n",
    "# Creazione della catena di interrogazione\n",
    "chain = GraphCypherQAChain.from_llm(\n",
    "    graph=graph, llm=llm, verbose=True, allow_dangerous_requests=True\n",
    ")\n",
    "\n",
    "\n"
   ]
  },
  {
   "cell_type": "code",
   "execution_count": 6,
   "metadata": {},
   "outputs": [
    {
     "name": "stderr",
     "output_type": "stream",
     "text": [
      "/var/folders/bx/13v8fyy9619c2s895y535c9c0000gn/T/ipykernel_53668/3984024642.py:2: LangChainDeprecationWarning: The method `Chain.run` was deprecated in langchain 0.1.0 and will be removed in 1.0. Use :meth:`~invoke` instead.\n",
      "  response = chain.run({\" chi sono i membri dei Bts?\"})\n"
     ]
    },
    {
     "name": "stdout",
     "output_type": "stream",
     "text": [
      "\n",
      "\n",
      "\u001b[1m> Entering new GraphCypherQAChain chain...\u001b[0m\n",
      "Generated Cypher:\n",
      "\u001b[32;1m\u001b[1;3mcypher\n",
      "\n",
      "\u001b[0m\n"
     ]
    },
    {
     "ename": "CypherSyntaxError",
     "evalue": "{code: Neo.ClientError.Statement.SyntaxError} {message: Unexpected end of input: expected CYPHER, EXPLAIN, PROFILE or Query (line 1, column 1 (offset: 0))\n\"cypher\"\n ^}",
     "output_type": "error",
     "traceback": [
      "\u001b[31m---------------------------------------------------------------------------\u001b[39m",
      "\u001b[31mGqlError\u001b[39m                                  Traceback (most recent call last)",
      "\u001b[31mGqlError\u001b[39m: {gql_status: 42N45} {gql_status_description: error: syntax error or access rule violation - unexpected end of input. Unexpected end of input, expected 'CYPHER', 'EXPLAIN', 'PROFILE' or a query.} {message: 42N45: Unexpected end of input, expected 'CYPHER', 'EXPLAIN', 'PROFILE' or a query.} {diagnostic_record: {'_classification': 'CLIENT_ERROR', '_position': {'line': 1, 'offset': 0, 'column': 1}, 'OPERATION': '', 'OPERATION_CODE': '0', 'CURRENT_SCHEMA': '/'}} {raw_classification: CLIENT_ERROR}",
      "\nThe above exception was the direct cause of the following exception:\n",
      "\u001b[31mCypherSyntaxError\u001b[39m                         Traceback (most recent call last)",
      "\u001b[36mCell\u001b[39m\u001b[36m \u001b[39m\u001b[32mIn[6]\u001b[39m\u001b[32m, line 2\u001b[39m\n\u001b[32m      1\u001b[39m \u001b[38;5;66;03m# Esegui la query\u001b[39;00m\n\u001b[32m----> \u001b[39m\u001b[32m2\u001b[39m response = \u001b[43mchain\u001b[49m\u001b[43m.\u001b[49m\u001b[43mrun\u001b[49m\u001b[43m(\u001b[49m\u001b[43m{\u001b[49m\u001b[33;43m\"\u001b[39;49m\u001b[33;43m chi sono i membri dei Bts?\u001b[39;49m\u001b[33;43m\"\u001b[39;49m\u001b[43m}\u001b[49m\u001b[43m)\u001b[49m\n\u001b[32m      3\u001b[39m \u001b[38;5;28mprint\u001b[39m(response)\n",
      "\u001b[36mFile \u001b[39m\u001b[32m~/Desktop/AINEXXO/vscode/kg_qa/lib/python3.11/site-packages/langchain_core/_api/deprecation.py:181\u001b[39m, in \u001b[36mdeprecated.<locals>.deprecate.<locals>.warning_emitting_wrapper\u001b[39m\u001b[34m(*args, **kwargs)\u001b[39m\n\u001b[32m    179\u001b[39m     warned = \u001b[38;5;28;01mTrue\u001b[39;00m\n\u001b[32m    180\u001b[39m     emit_warning()\n\u001b[32m--> \u001b[39m\u001b[32m181\u001b[39m \u001b[38;5;28;01mreturn\u001b[39;00m \u001b[43mwrapped\u001b[49m\u001b[43m(\u001b[49m\u001b[43m*\u001b[49m\u001b[43margs\u001b[49m\u001b[43m,\u001b[49m\u001b[43m \u001b[49m\u001b[43m*\u001b[49m\u001b[43m*\u001b[49m\u001b[43mkwargs\u001b[49m\u001b[43m)\u001b[49m\n",
      "\u001b[36mFile \u001b[39m\u001b[32m~/Desktop/AINEXXO/vscode/kg_qa/lib/python3.11/site-packages/langchain/chains/base.py:606\u001b[39m, in \u001b[36mChain.run\u001b[39m\u001b[34m(self, callbacks, tags, metadata, *args, **kwargs)\u001b[39m\n\u001b[32m    604\u001b[39m     \u001b[38;5;28;01mif\u001b[39;00m \u001b[38;5;28mlen\u001b[39m(args) != \u001b[32m1\u001b[39m:\n\u001b[32m    605\u001b[39m         \u001b[38;5;28;01mraise\u001b[39;00m \u001b[38;5;167;01mValueError\u001b[39;00m(\u001b[33m\"\u001b[39m\u001b[33m`run` supports only one positional argument.\u001b[39m\u001b[33m\"\u001b[39m)\n\u001b[32m--> \u001b[39m\u001b[32m606\u001b[39m     \u001b[38;5;28;01mreturn\u001b[39;00m \u001b[38;5;28;43mself\u001b[39;49m\u001b[43m(\u001b[49m\u001b[43margs\u001b[49m\u001b[43m[\u001b[49m\u001b[32;43m0\u001b[39;49m\u001b[43m]\u001b[49m\u001b[43m,\u001b[49m\u001b[43m \u001b[49m\u001b[43mcallbacks\u001b[49m\u001b[43m=\u001b[49m\u001b[43mcallbacks\u001b[49m\u001b[43m,\u001b[49m\u001b[43m \u001b[49m\u001b[43mtags\u001b[49m\u001b[43m=\u001b[49m\u001b[43mtags\u001b[49m\u001b[43m,\u001b[49m\u001b[43m \u001b[49m\u001b[43mmetadata\u001b[49m\u001b[43m=\u001b[49m\u001b[43mmetadata\u001b[49m\u001b[43m)\u001b[49m[\n\u001b[32m    607\u001b[39m         _output_key\n\u001b[32m    608\u001b[39m     ]\n\u001b[32m    610\u001b[39m \u001b[38;5;28;01mif\u001b[39;00m kwargs \u001b[38;5;129;01mand\u001b[39;00m \u001b[38;5;129;01mnot\u001b[39;00m args:\n\u001b[32m    611\u001b[39m     \u001b[38;5;28;01mreturn\u001b[39;00m \u001b[38;5;28mself\u001b[39m(kwargs, callbacks=callbacks, tags=tags, metadata=metadata)[\n\u001b[32m    612\u001b[39m         _output_key\n\u001b[32m    613\u001b[39m     ]\n",
      "\u001b[36mFile \u001b[39m\u001b[32m~/Desktop/AINEXXO/vscode/kg_qa/lib/python3.11/site-packages/langchain_core/_api/deprecation.py:181\u001b[39m, in \u001b[36mdeprecated.<locals>.deprecate.<locals>.warning_emitting_wrapper\u001b[39m\u001b[34m(*args, **kwargs)\u001b[39m\n\u001b[32m    179\u001b[39m     warned = \u001b[38;5;28;01mTrue\u001b[39;00m\n\u001b[32m    180\u001b[39m     emit_warning()\n\u001b[32m--> \u001b[39m\u001b[32m181\u001b[39m \u001b[38;5;28;01mreturn\u001b[39;00m \u001b[43mwrapped\u001b[49m\u001b[43m(\u001b[49m\u001b[43m*\u001b[49m\u001b[43margs\u001b[49m\u001b[43m,\u001b[49m\u001b[43m \u001b[49m\u001b[43m*\u001b[49m\u001b[43m*\u001b[49m\u001b[43mkwargs\u001b[49m\u001b[43m)\u001b[49m\n",
      "\u001b[36mFile \u001b[39m\u001b[32m~/Desktop/AINEXXO/vscode/kg_qa/lib/python3.11/site-packages/langchain/chains/base.py:389\u001b[39m, in \u001b[36mChain.__call__\u001b[39m\u001b[34m(self, inputs, return_only_outputs, callbacks, tags, metadata, run_name, include_run_info)\u001b[39m\n\u001b[32m    357\u001b[39m \u001b[38;5;250m\u001b[39m\u001b[33;03m\"\"\"Execute the chain.\u001b[39;00m\n\u001b[32m    358\u001b[39m \n\u001b[32m    359\u001b[39m \u001b[33;03mArgs:\u001b[39;00m\n\u001b[32m   (...)\u001b[39m\u001b[32m    380\u001b[39m \u001b[33;03m        `Chain.output_keys`.\u001b[39;00m\n\u001b[32m    381\u001b[39m \u001b[33;03m\"\"\"\u001b[39;00m\n\u001b[32m    382\u001b[39m config = {\n\u001b[32m    383\u001b[39m     \u001b[33m\"\u001b[39m\u001b[33mcallbacks\u001b[39m\u001b[33m\"\u001b[39m: callbacks,\n\u001b[32m    384\u001b[39m     \u001b[33m\"\u001b[39m\u001b[33mtags\u001b[39m\u001b[33m\"\u001b[39m: tags,\n\u001b[32m    385\u001b[39m     \u001b[33m\"\u001b[39m\u001b[33mmetadata\u001b[39m\u001b[33m\"\u001b[39m: metadata,\n\u001b[32m    386\u001b[39m     \u001b[33m\"\u001b[39m\u001b[33mrun_name\u001b[39m\u001b[33m\"\u001b[39m: run_name,\n\u001b[32m    387\u001b[39m }\n\u001b[32m--> \u001b[39m\u001b[32m389\u001b[39m \u001b[38;5;28;01mreturn\u001b[39;00m \u001b[38;5;28;43mself\u001b[39;49m\u001b[43m.\u001b[49m\u001b[43minvoke\u001b[49m\u001b[43m(\u001b[49m\n\u001b[32m    390\u001b[39m \u001b[43m    \u001b[49m\u001b[43minputs\u001b[49m\u001b[43m,\u001b[49m\n\u001b[32m    391\u001b[39m \u001b[43m    \u001b[49m\u001b[43mcast\u001b[49m\u001b[43m(\u001b[49m\u001b[43mRunnableConfig\u001b[49m\u001b[43m,\u001b[49m\u001b[43m \u001b[49m\u001b[43m{\u001b[49m\u001b[43mk\u001b[49m\u001b[43m:\u001b[49m\u001b[43m \u001b[49m\u001b[43mv\u001b[49m\u001b[43m \u001b[49m\u001b[38;5;28;43;01mfor\u001b[39;49;00m\u001b[43m \u001b[49m\u001b[43mk\u001b[49m\u001b[43m,\u001b[49m\u001b[43m \u001b[49m\u001b[43mv\u001b[49m\u001b[43m \u001b[49m\u001b[38;5;129;43;01min\u001b[39;49;00m\u001b[43m \u001b[49m\u001b[43mconfig\u001b[49m\u001b[43m.\u001b[49m\u001b[43mitems\u001b[49m\u001b[43m(\u001b[49m\u001b[43m)\u001b[49m\u001b[43m \u001b[49m\u001b[38;5;28;43;01mif\u001b[39;49;00m\u001b[43m \u001b[49m\u001b[43mv\u001b[49m\u001b[43m \u001b[49m\u001b[38;5;129;43;01mis\u001b[39;49;00m\u001b[43m \u001b[49m\u001b[38;5;129;43;01mnot\u001b[39;49;00m\u001b[43m \u001b[49m\u001b[38;5;28;43;01mNone\u001b[39;49;00m\u001b[43m}\u001b[49m\u001b[43m)\u001b[49m\u001b[43m,\u001b[49m\n\u001b[32m    392\u001b[39m \u001b[43m    \u001b[49m\u001b[43mreturn_only_outputs\u001b[49m\u001b[43m=\u001b[49m\u001b[43mreturn_only_outputs\u001b[49m\u001b[43m,\u001b[49m\n\u001b[32m    393\u001b[39m \u001b[43m    \u001b[49m\u001b[43minclude_run_info\u001b[49m\u001b[43m=\u001b[49m\u001b[43minclude_run_info\u001b[49m\u001b[43m,\u001b[49m\n\u001b[32m    394\u001b[39m \u001b[43m\u001b[49m\u001b[43m)\u001b[49m\n",
      "\u001b[36mFile \u001b[39m\u001b[32m~/Desktop/AINEXXO/vscode/kg_qa/lib/python3.11/site-packages/langchain/chains/base.py:170\u001b[39m, in \u001b[36mChain.invoke\u001b[39m\u001b[34m(self, input, config, **kwargs)\u001b[39m\n\u001b[32m    168\u001b[39m \u001b[38;5;28;01mexcept\u001b[39;00m \u001b[38;5;167;01mBaseException\u001b[39;00m \u001b[38;5;28;01mas\u001b[39;00m e:\n\u001b[32m    169\u001b[39m     run_manager.on_chain_error(e)\n\u001b[32m--> \u001b[39m\u001b[32m170\u001b[39m     \u001b[38;5;28;01mraise\u001b[39;00m e\n\u001b[32m    171\u001b[39m run_manager.on_chain_end(outputs)\n\u001b[32m    173\u001b[39m \u001b[38;5;28;01mif\u001b[39;00m include_run_info:\n",
      "\u001b[36mFile \u001b[39m\u001b[32m~/Desktop/AINEXXO/vscode/kg_qa/lib/python3.11/site-packages/langchain/chains/base.py:160\u001b[39m, in \u001b[36mChain.invoke\u001b[39m\u001b[34m(self, input, config, **kwargs)\u001b[39m\n\u001b[32m    157\u001b[39m \u001b[38;5;28;01mtry\u001b[39;00m:\n\u001b[32m    158\u001b[39m     \u001b[38;5;28mself\u001b[39m._validate_inputs(inputs)\n\u001b[32m    159\u001b[39m     outputs = (\n\u001b[32m--> \u001b[39m\u001b[32m160\u001b[39m         \u001b[38;5;28;43mself\u001b[39;49m\u001b[43m.\u001b[49m\u001b[43m_call\u001b[49m\u001b[43m(\u001b[49m\u001b[43minputs\u001b[49m\u001b[43m,\u001b[49m\u001b[43m \u001b[49m\u001b[43mrun_manager\u001b[49m\u001b[43m=\u001b[49m\u001b[43mrun_manager\u001b[49m\u001b[43m)\u001b[49m\n\u001b[32m    161\u001b[39m         \u001b[38;5;28;01mif\u001b[39;00m new_arg_supported\n\u001b[32m    162\u001b[39m         \u001b[38;5;28;01melse\u001b[39;00m \u001b[38;5;28mself\u001b[39m._call(inputs)\n\u001b[32m    163\u001b[39m     )\n\u001b[32m    165\u001b[39m     final_outputs: Dict[\u001b[38;5;28mstr\u001b[39m, Any] = \u001b[38;5;28mself\u001b[39m.prep_outputs(\n\u001b[32m    166\u001b[39m         inputs, outputs, return_only_outputs\n\u001b[32m    167\u001b[39m     )\n\u001b[32m    168\u001b[39m \u001b[38;5;28;01mexcept\u001b[39;00m \u001b[38;5;167;01mBaseException\u001b[39;00m \u001b[38;5;28;01mas\u001b[39;00m e:\n",
      "\u001b[36mFile \u001b[39m\u001b[32m~/Desktop/AINEXXO/vscode/kg_qa/lib/python3.11/site-packages/langchain_neo4j/chains/graph_qa/cypher.py:412\u001b[39m, in \u001b[36mGraphCypherQAChain._call\u001b[39m\u001b[34m(self, inputs, run_manager)\u001b[39m\n\u001b[32m    409\u001b[39m \u001b[38;5;66;03m# Retrieve and limit the number of results\u001b[39;00m\n\u001b[32m    410\u001b[39m \u001b[38;5;66;03m# Generated Cypher be null if query corrector identifies invalid schema\u001b[39;00m\n\u001b[32m    411\u001b[39m \u001b[38;5;28;01mif\u001b[39;00m generated_cypher:\n\u001b[32m--> \u001b[39m\u001b[32m412\u001b[39m     context = \u001b[38;5;28;43mself\u001b[39;49m\u001b[43m.\u001b[49m\u001b[43mgraph\u001b[49m\u001b[43m.\u001b[49m\u001b[43mquery\u001b[49m\u001b[43m(\u001b[49m\u001b[43mgenerated_cypher\u001b[49m\u001b[43m)\u001b[49m[: \u001b[38;5;28mself\u001b[39m.top_k]\n\u001b[32m    413\u001b[39m \u001b[38;5;28;01melse\u001b[39;00m:\n\u001b[32m    414\u001b[39m     context = []\n",
      "\u001b[36mFile \u001b[39m\u001b[32m~/Desktop/AINEXXO/vscode/kg_qa/lib/python3.11/site-packages/langchain_neo4j/graphs/neo4j_graph.py:456\u001b[39m, in \u001b[36mNeo4jGraph.query\u001b[39m\u001b[34m(self, query, params, session_params)\u001b[39m\n\u001b[32m    454\u001b[39m \u001b[38;5;28;01mif\u001b[39;00m \u001b[38;5;129;01mnot\u001b[39;00m session_params:\n\u001b[32m    455\u001b[39m     \u001b[38;5;28;01mtry\u001b[39;00m:\n\u001b[32m--> \u001b[39m\u001b[32m456\u001b[39m         data, _, _ = \u001b[38;5;28;43mself\u001b[39;49m\u001b[43m.\u001b[49m\u001b[43m_driver\u001b[49m\u001b[43m.\u001b[49m\u001b[43mexecute_query\u001b[49m\u001b[43m(\u001b[49m\n\u001b[32m    457\u001b[39m \u001b[43m            \u001b[49m\u001b[43mQuery\u001b[49m\u001b[43m(\u001b[49m\u001b[43mtext\u001b[49m\u001b[43m=\u001b[49m\u001b[43mquery\u001b[49m\u001b[43m,\u001b[49m\u001b[43m \u001b[49m\u001b[43mtimeout\u001b[49m\u001b[43m=\u001b[49m\u001b[38;5;28;43mself\u001b[39;49m\u001b[43m.\u001b[49m\u001b[43mtimeout\u001b[49m\u001b[43m)\u001b[49m\u001b[43m,\u001b[49m\n\u001b[32m    458\u001b[39m \u001b[43m            \u001b[49m\u001b[43mdatabase_\u001b[49m\u001b[43m=\u001b[49m\u001b[38;5;28;43mself\u001b[39;49m\u001b[43m.\u001b[49m\u001b[43m_database\u001b[49m\u001b[43m,\u001b[49m\n\u001b[32m    459\u001b[39m \u001b[43m            \u001b[49m\u001b[43mparameters_\u001b[49m\u001b[43m=\u001b[49m\u001b[43mparams\u001b[49m\u001b[43m,\u001b[49m\n\u001b[32m    460\u001b[39m \u001b[43m        \u001b[49m\u001b[43m)\u001b[49m\n\u001b[32m    461\u001b[39m         json_data = [r.data() \u001b[38;5;28;01mfor\u001b[39;00m r \u001b[38;5;129;01min\u001b[39;00m data]\n\u001b[32m    462\u001b[39m         \u001b[38;5;28;01mif\u001b[39;00m \u001b[38;5;28mself\u001b[39m.sanitize:\n",
      "\u001b[36mFile \u001b[39m\u001b[32m~/Desktop/AINEXXO/vscode/kg_qa/lib/python3.11/site-packages/neo4j/_sync/driver.py:970\u001b[39m, in \u001b[36mDriver.execute_query\u001b[39m\u001b[34m(self, query_, parameters_, routing_, database_, impersonated_user_, bookmark_manager_, auth_, result_transformer_, **kwargs)\u001b[39m\n\u001b[32m    966\u001b[39m     \u001b[38;5;28;01mraise\u001b[39;00m \u001b[38;5;167;01mValueError\u001b[39;00m(\n\u001b[32m    967\u001b[39m         \u001b[33mf\u001b[39m\u001b[33m\"\u001b[39m\u001b[33mInvalid routing control value: \u001b[39m\u001b[38;5;132;01m{\u001b[39;00mrouting_\u001b[38;5;132;01m!r}\u001b[39;00m\u001b[33m\"\u001b[39m\n\u001b[32m    968\u001b[39m     )\n\u001b[32m    969\u001b[39m \u001b[38;5;28;01mwith\u001b[39;00m session._pipelined_begin:\n\u001b[32m--> \u001b[39m\u001b[32m970\u001b[39m     \u001b[38;5;28;01mreturn\u001b[39;00m \u001b[43msession\u001b[49m\u001b[43m.\u001b[49m\u001b[43m_run_transaction\u001b[49m\u001b[43m(\u001b[49m\n\u001b[32m    971\u001b[39m \u001b[43m        \u001b[49m\u001b[43maccess_mode\u001b[49m\u001b[43m,\u001b[49m\n\u001b[32m    972\u001b[39m \u001b[43m        \u001b[49m\u001b[43mTelemetryAPI\u001b[49m\u001b[43m.\u001b[49m\u001b[43mDRIVER\u001b[49m\u001b[43m,\u001b[49m\n\u001b[32m    973\u001b[39m \u001b[43m        \u001b[49m\u001b[43mwork\u001b[49m\u001b[43m,\u001b[49m\n\u001b[32m    974\u001b[39m \u001b[43m        \u001b[49m\u001b[43m(\u001b[49m\u001b[43mquery_str\u001b[49m\u001b[43m,\u001b[49m\u001b[43m \u001b[49m\u001b[43mparameters\u001b[49m\u001b[43m,\u001b[49m\u001b[43m \u001b[49m\u001b[43mresult_transformer_\u001b[49m\u001b[43m)\u001b[49m\u001b[43m,\u001b[49m\n\u001b[32m    975\u001b[39m \u001b[43m        \u001b[49m\u001b[43m{\u001b[49m\u001b[43m}\u001b[49m\u001b[43m,\u001b[49m\n\u001b[32m    976\u001b[39m \u001b[43m    \u001b[49m\u001b[43m)\u001b[49m\n",
      "\u001b[36mFile \u001b[39m\u001b[32m~/Desktop/AINEXXO/vscode/kg_qa/lib/python3.11/site-packages/neo4j/_sync/work/session.py:583\u001b[39m, in \u001b[36mSession._run_transaction\u001b[39m\u001b[34m(self, access_mode, api, transaction_function, args, kwargs)\u001b[39m\n\u001b[32m    581\u001b[39m tx = \u001b[38;5;28mself\u001b[39m._transaction\n\u001b[32m    582\u001b[39m \u001b[38;5;28;01mtry\u001b[39;00m:\n\u001b[32m--> \u001b[39m\u001b[32m583\u001b[39m     result = \u001b[43mtransaction_function\u001b[49m\u001b[43m(\u001b[49m\u001b[43mtx\u001b[49m\u001b[43m,\u001b[49m\u001b[43m \u001b[49m\u001b[43m*\u001b[49m\u001b[43margs\u001b[49m\u001b[43m,\u001b[49m\u001b[43m \u001b[49m\u001b[43m*\u001b[49m\u001b[43m*\u001b[49m\u001b[43mkwargs\u001b[49m\u001b[43m)\u001b[49m\n\u001b[32m    584\u001b[39m \u001b[38;5;28;01mexcept\u001b[39;00m asyncio.CancelledError:\n\u001b[32m    585\u001b[39m     \u001b[38;5;66;03m# if cancellation callback has not been called yet:\u001b[39;00m\n\u001b[32m    586\u001b[39m     \u001b[38;5;28;01mif\u001b[39;00m \u001b[38;5;28mself\u001b[39m._transaction \u001b[38;5;129;01mis\u001b[39;00m \u001b[38;5;129;01mnot\u001b[39;00m \u001b[38;5;28;01mNone\u001b[39;00m:\n",
      "\u001b[36mFile \u001b[39m\u001b[32m~/Desktop/AINEXXO/vscode/kg_qa/lib/python3.11/site-packages/neo4j/_work/query.py:144\u001b[39m, in \u001b[36munit_of_work.<locals>.wrapper.<locals>.wrapped\u001b[39m\u001b[34m(*args, **kwargs)\u001b[39m\n\u001b[32m    143\u001b[39m \u001b[38;5;28;01mdef\u001b[39;00m\u001b[38;5;250m \u001b[39m\u001b[34mwrapped\u001b[39m(*args, **kwargs):\n\u001b[32m--> \u001b[39m\u001b[32m144\u001b[39m     \u001b[38;5;28;01mreturn\u001b[39;00m \u001b[43mf\u001b[49m\u001b[43m(\u001b[49m\u001b[43m*\u001b[49m\u001b[43margs\u001b[49m\u001b[43m,\u001b[49m\u001b[43m \u001b[49m\u001b[43m*\u001b[49m\u001b[43m*\u001b[49m\u001b[43mkwargs\u001b[49m\u001b[43m)\u001b[49m\n",
      "\u001b[36mFile \u001b[39m\u001b[32m~/Desktop/AINEXXO/vscode/kg_qa/lib/python3.11/site-packages/neo4j/_sync/driver.py:1306\u001b[39m, in \u001b[36m_work\u001b[39m\u001b[34m(tx, query, parameters, transformer)\u001b[39m\n\u001b[32m   1300\u001b[39m \u001b[38;5;28;01mdef\u001b[39;00m\u001b[38;5;250m \u001b[39m\u001b[34m_work\u001b[39m(\n\u001b[32m   1301\u001b[39m     tx: ManagedTransaction,\n\u001b[32m   1302\u001b[39m     query: te.LiteralString,\n\u001b[32m   1303\u001b[39m     parameters: \u001b[38;5;28mdict\u001b[39m[\u001b[38;5;28mstr\u001b[39m, t.Any],\n\u001b[32m   1304\u001b[39m     transformer: t.Callable[[Result], t.Union[_T]],\n\u001b[32m   1305\u001b[39m ) -> _T:\n\u001b[32m-> \u001b[39m\u001b[32m1306\u001b[39m     res = \u001b[43mtx\u001b[49m\u001b[43m.\u001b[49m\u001b[43mrun\u001b[49m\u001b[43m(\u001b[49m\u001b[43mquery\u001b[49m\u001b[43m,\u001b[49m\u001b[43m \u001b[49m\u001b[43mparameters\u001b[49m\u001b[43m)\u001b[49m\n\u001b[32m   1307\u001b[39m     \u001b[38;5;28;01mreturn\u001b[39;00m transformer(res)\n",
      "\u001b[36mFile \u001b[39m\u001b[32m~/Desktop/AINEXXO/vscode/kg_qa/lib/python3.11/site-packages/neo4j/_sync/work/transaction.py:206\u001b[39m, in \u001b[36mTransactionBase.run\u001b[39m\u001b[34m(self, query, parameters, **kwparameters)\u001b[39m\n\u001b[32m    203\u001b[39m \u001b[38;5;28mself\u001b[39m._results.append(result)\n\u001b[32m    205\u001b[39m parameters = \u001b[38;5;28mdict\u001b[39m(parameters \u001b[38;5;129;01mor\u001b[39;00m {}, **kwparameters)\n\u001b[32m--> \u001b[39m\u001b[32m206\u001b[39m \u001b[43mresult\u001b[49m\u001b[43m.\u001b[49m\u001b[43m_tx_ready_run\u001b[49m\u001b[43m(\u001b[49m\u001b[43mquery\u001b[49m\u001b[43m,\u001b[49m\u001b[43m \u001b[49m\u001b[43mparameters\u001b[49m\u001b[43m)\u001b[49m\n\u001b[32m    208\u001b[39m \u001b[38;5;28;01mreturn\u001b[39;00m result\n",
      "\u001b[36mFile \u001b[39m\u001b[32m~/Desktop/AINEXXO/vscode/kg_qa/lib/python3.11/site-packages/neo4j/_sync/work/result.py:177\u001b[39m, in \u001b[36mResult._tx_ready_run\u001b[39m\u001b[34m(self, query, parameters)\u001b[39m\n\u001b[32m    173\u001b[39m \u001b[38;5;28;01mdef\u001b[39;00m\u001b[38;5;250m \u001b[39m\u001b[34m_tx_ready_run\u001b[39m(\u001b[38;5;28mself\u001b[39m, query, parameters):\n\u001b[32m    174\u001b[39m     \u001b[38;5;66;03m# BEGIN+RUN does not carry any extra on the RUN message.\u001b[39;00m\n\u001b[32m    175\u001b[39m     \u001b[38;5;66;03m# BEGIN {extra}\u001b[39;00m\n\u001b[32m    176\u001b[39m     \u001b[38;5;66;03m# RUN \"query\" {parameters} {extra}\u001b[39;00m\n\u001b[32m--> \u001b[39m\u001b[32m177\u001b[39m     \u001b[38;5;28;43mself\u001b[39;49m\u001b[43m.\u001b[49m\u001b[43m_run\u001b[49m\u001b[43m(\u001b[49m\u001b[43mquery\u001b[49m\u001b[43m,\u001b[49m\u001b[43m \u001b[49m\u001b[43mparameters\u001b[49m\u001b[43m,\u001b[49m\u001b[43m \u001b[49m\u001b[38;5;28;43;01mNone\u001b[39;49;00m\u001b[43m,\u001b[49m\u001b[43m \u001b[49m\u001b[38;5;28;43;01mNone\u001b[39;49;00m\u001b[43m,\u001b[49m\u001b[43m \u001b[49m\u001b[38;5;28;43;01mNone\u001b[39;49;00m\u001b[43m,\u001b[49m\u001b[43m \u001b[49m\u001b[38;5;28;43;01mNone\u001b[39;49;00m\u001b[43m,\u001b[49m\u001b[43m \u001b[49m\u001b[38;5;28;43;01mNone\u001b[39;49;00m\u001b[43m,\u001b[49m\u001b[43m \u001b[49m\u001b[38;5;28;43;01mNone\u001b[39;49;00m\u001b[43m)\u001b[49m\n",
      "\u001b[36mFile \u001b[39m\u001b[32m~/Desktop/AINEXXO/vscode/kg_qa/lib/python3.11/site-packages/neo4j/_sync/work/result.py:236\u001b[39m, in \u001b[36mResult._run\u001b[39m\u001b[34m(self, query, parameters, db, imp_user, access_mode, bookmarks, notifications_min_severity, notifications_disabled_classifications)\u001b[39m\n\u001b[32m    234\u001b[39m \u001b[38;5;28mself\u001b[39m._pull()\n\u001b[32m    235\u001b[39m \u001b[38;5;28mself\u001b[39m._connection.send_all()\n\u001b[32m--> \u001b[39m\u001b[32m236\u001b[39m \u001b[38;5;28;43mself\u001b[39;49m\u001b[43m.\u001b[49m\u001b[43m_attach\u001b[49m\u001b[43m(\u001b[49m\u001b[43m)\u001b[49m\n",
      "\u001b[36mFile \u001b[39m\u001b[32m~/Desktop/AINEXXO/vscode/kg_qa/lib/python3.11/site-packages/neo4j/_sync/work/result.py:430\u001b[39m, in \u001b[36mResult._attach\u001b[39m\u001b[34m(self)\u001b[39m\n\u001b[32m    428\u001b[39m \u001b[38;5;28;01mif\u001b[39;00m \u001b[38;5;28mself\u001b[39m._exhausted \u001b[38;5;129;01mis\u001b[39;00m \u001b[38;5;28;01mFalse\u001b[39;00m:\n\u001b[32m    429\u001b[39m     \u001b[38;5;28;01mwhile\u001b[39;00m \u001b[38;5;28mself\u001b[39m._attached \u001b[38;5;129;01mis\u001b[39;00m \u001b[38;5;28;01mFalse\u001b[39;00m:\n\u001b[32m--> \u001b[39m\u001b[32m430\u001b[39m         \u001b[38;5;28;43mself\u001b[39;49m\u001b[43m.\u001b[49m\u001b[43m_connection\u001b[49m\u001b[43m.\u001b[49m\u001b[43mfetch_message\u001b[49m\u001b[43m(\u001b[49m\u001b[43m)\u001b[49m\n",
      "\u001b[36mFile \u001b[39m\u001b[32m~/Desktop/AINEXXO/vscode/kg_qa/lib/python3.11/site-packages/neo4j/_sync/io/_common.py:184\u001b[39m, in \u001b[36mConnectionErrorHandler.__getattr__.<locals>.outer.<locals>.inner\u001b[39m\u001b[34m(*args, **kwargs)\u001b[39m\n\u001b[32m    182\u001b[39m \u001b[38;5;28;01mdef\u001b[39;00m\u001b[38;5;250m \u001b[39m\u001b[34minner\u001b[39m(*args, **kwargs):\n\u001b[32m    183\u001b[39m     \u001b[38;5;28;01mtry\u001b[39;00m:\n\u001b[32m--> \u001b[39m\u001b[32m184\u001b[39m         \u001b[43mfunc\u001b[49m\u001b[43m(\u001b[49m\u001b[43m*\u001b[49m\u001b[43margs\u001b[49m\u001b[43m,\u001b[49m\u001b[43m \u001b[49m\u001b[43m*\u001b[49m\u001b[43m*\u001b[49m\u001b[43mkwargs\u001b[49m\u001b[43m)\u001b[49m\n\u001b[32m    185\u001b[39m     \u001b[38;5;28;01mexcept\u001b[39;00m (Neo4jError, ServiceUnavailable, SessionExpired) \u001b[38;5;28;01mas\u001b[39;00m exc:\n\u001b[32m    186\u001b[39m         \u001b[38;5;28;01massert\u001b[39;00m \u001b[38;5;129;01mnot\u001b[39;00m asyncio.iscoroutinefunction(\u001b[38;5;28mself\u001b[39m.__on_error)\n",
      "\u001b[36mFile \u001b[39m\u001b[32m~/Desktop/AINEXXO/vscode/kg_qa/lib/python3.11/site-packages/neo4j/_sync/io/_bolt.py:864\u001b[39m, in \u001b[36mBolt.fetch_message\u001b[39m\u001b[34m(self)\u001b[39m\n\u001b[32m    860\u001b[39m \u001b[38;5;66;03m# Receive exactly one message\u001b[39;00m\n\u001b[32m    861\u001b[39m tag, fields = \u001b[38;5;28mself\u001b[39m.inbox.pop(\n\u001b[32m    862\u001b[39m     hydration_hooks=\u001b[38;5;28mself\u001b[39m.responses[\u001b[32m0\u001b[39m].hydration_hooks\n\u001b[32m    863\u001b[39m )\n\u001b[32m--> \u001b[39m\u001b[32m864\u001b[39m res = \u001b[38;5;28;43mself\u001b[39;49m\u001b[43m.\u001b[49m\u001b[43m_process_message\u001b[49m\u001b[43m(\u001b[49m\u001b[43mtag\u001b[49m\u001b[43m,\u001b[49m\u001b[43m \u001b[49m\u001b[43mfields\u001b[49m\u001b[43m)\u001b[49m\n\u001b[32m    865\u001b[39m \u001b[38;5;28mself\u001b[39m.idle_since = monotonic()\n\u001b[32m    866\u001b[39m \u001b[38;5;28;01mreturn\u001b[39;00m res\n",
      "\u001b[36mFile \u001b[39m\u001b[32m~/Desktop/AINEXXO/vscode/kg_qa/lib/python3.11/site-packages/neo4j/_sync/io/_bolt5.py:1208\u001b[39m, in \u001b[36mBolt5x7._process_message\u001b[39m\u001b[34m(self, tag, fields)\u001b[39m\n\u001b[32m   1206\u001b[39m \u001b[38;5;28mself\u001b[39m._enrich_error_diagnostic_record(summary_metadata)\n\u001b[32m   1207\u001b[39m \u001b[38;5;28;01mtry\u001b[39;00m:\n\u001b[32m-> \u001b[39m\u001b[32m1208\u001b[39m     \u001b[43mresponse\u001b[49m\u001b[43m.\u001b[49m\u001b[43mon_failure\u001b[49m\u001b[43m(\u001b[49m\u001b[43msummary_metadata\u001b[49m\u001b[43m \u001b[49m\u001b[38;5;129;43;01mor\u001b[39;49;00m\u001b[43m \u001b[49m\u001b[43m{\u001b[49m\u001b[43m}\u001b[49m\u001b[43m)\u001b[49m\n\u001b[32m   1209\u001b[39m \u001b[38;5;28;01mexcept\u001b[39;00m (ServiceUnavailable, DatabaseUnavailable):\n\u001b[32m   1210\u001b[39m     \u001b[38;5;28;01mif\u001b[39;00m \u001b[38;5;28mself\u001b[39m.pool:\n",
      "\u001b[36mFile \u001b[39m\u001b[32m~/Desktop/AINEXXO/vscode/kg_qa/lib/python3.11/site-packages/neo4j/_sync/io/_common.py:254\u001b[39m, in \u001b[36mResponse.on_failure\u001b[39m\u001b[34m(self, metadata)\u001b[39m\n\u001b[32m    252\u001b[39m handler = \u001b[38;5;28mself\u001b[39m.handlers.get(\u001b[33m\"\u001b[39m\u001b[33mon_summary\u001b[39m\u001b[33m\"\u001b[39m)\n\u001b[32m    253\u001b[39m Util.callback(handler)\n\u001b[32m--> \u001b[39m\u001b[32m254\u001b[39m \u001b[38;5;28;01mraise\u001b[39;00m \u001b[38;5;28mself\u001b[39m._hydrate_error(metadata)\n",
      "\u001b[31mCypherSyntaxError\u001b[39m: {code: Neo.ClientError.Statement.SyntaxError} {message: Unexpected end of input: expected CYPHER, EXPLAIN, PROFILE or Query (line 1, column 1 (offset: 0))\n\"cypher\"\n ^}"
     ]
    }
   ],
   "source": [
    "# Esegui la query\n",
    "response = chain.run({\" chi sono i membri dei Bts?\"})\n",
    "print(response)"
   ]
  },
  {
   "cell_type": "code",
   "execution_count": 20,
   "metadata": {},
   "outputs": [
    {
     "name": "stdout",
     "output_type": "stream",
     "text": [
      "\n",
      "\n",
      "\u001b[1m> Entering new GraphCypherQAChain chain...\u001b[0m\n",
      "Generated Cypher:\n",
      "\u001b[32;1m\u001b[1;3mcypher\n",
      "MATCH (g:Group {id: 'Bts'})-[:YEAR_FORMED]->(y:Year)\n",
      "RETURN y.id AS YearFormed\n",
      "\u001b[0m\n",
      "Full Context:\n",
      "\u001b[32;1m\u001b[1;3m[{'YearFormed': '2013'}]\u001b[0m\n",
      "\n",
      "\u001b[1m> Finished chain.\u001b[0m\n",
      "{'query': 'In che anno si sono formati i Bts?', 'result': 'I BTS si sono formati nel 2013.'}\n"
     ]
    }
   ],
   "source": [
    "# Esegui la query\n",
    "response = chain.invoke({\"query\": \"In che anno si sono formati i Bts?\"})\n",
    "print(response)"
   ]
  },
  {
   "cell_type": "markdown",
   "metadata": {},
   "source": [
    "# Prove d'uso di groq e TogetherAI"
   ]
  },
  {
   "cell_type": "code",
   "execution_count": 13,
   "metadata": {},
   "outputs": [
    {
     "name": "stdout",
     "output_type": "stream",
     "text": [
      "{\n",
      "  \"title\": \"Morning Routine\",\n",
      "  \"summary\": \"Starting the day with breakfast and checking emails\",\n",
      "  \"actionItems\": [\n",
      "    \"Cook scrambled eggs and toast\",\n",
      "    \"Brew a cup of coffee\",\n",
      "    \"Check emails for urgent messages\"\n",
      "  ]\n",
      "}\n"
     ]
    },
    {
     "data": {
      "text/plain": [
       "{'title': 'Morning Routine',\n",
       " 'summary': 'Starting the day with breakfast and checking emails',\n",
       " 'actionItems': ['Cook scrambled eggs and toast',\n",
       "  'Brew a cup of coffee',\n",
       "  'Check emails for urgent messages']}"
      ]
     },
     "execution_count": 13,
     "metadata": {},
     "output_type": "execute_result"
    }
   ],
   "source": [
    "import json\n",
    "from together import Together\n",
    "from pydantic import BaseModel, Field\n",
    "import together\n",
    "\n",
    "together = Together()\n",
    "\n",
    "# Define the schema for the output\n",
    "class VoiceNote(BaseModel):\n",
    "    title: str = Field(description=\"A title for the voice note\")\n",
    "    summary: str = Field(description=\"A short one sentence summary of the voice note.\")\n",
    "    actionItems: list[str] = Field(description=\"A list of action items from the voice note\")\n",
    "\n",
    "def main():\n",
    "    transcript = (\n",
    "        \"Good morning! It's 7:00 AM, and I'm just waking up. Today is going to be a busy day, \"\n",
    "        \"so let's get started. First, I need to make a quick breakfast. I think I'll have some \"\n",
    "        \"scrambled eggs and toast with a cup of coffee. While I'm cooking, I'll also check my \"\n",
    "        \"emails to see if there's anything urgent.\"\n",
    "    )\n",
    "\n",
    "    # Call the LLM with the JSON schema\n",
    "    extract = together.chat.completions.create(\n",
    "        messages=[\n",
    "            {\n",
    "                \"role\": \"system\",\n",
    "                \"content\": \"The following is a voice message transcript. Only answer in JSON.\",\n",
    "            },\n",
    "            {\n",
    "                \"role\": \"user\",\n",
    "                \"content\": transcript,\n",
    "            },\n",
    "        ],\n",
    "        model=\"meta-llama/Meta-Llama-3.1-8B-Instruct-Turbo\",\n",
    "        response_format={\n",
    "            \"type\": \"json_object\",\n",
    "            \"schema\": VoiceNote.model_json_schema(),\n",
    "        },\n",
    "    )\n",
    "\n",
    "    output = json.loads(extract.choices[0].message.content)\n",
    "    print(json.dumps(output, indent=2))\n",
    "    return output\n",
    "\n",
    "main()"
   ]
  },
  {
   "cell_type": "code",
   "execution_count": 14,
   "metadata": {},
   "outputs": [
    {
     "name": "stdout",
     "output_type": "stream",
     "text": [
      "recipe_name='Pasta al Sugo' ingredients=[Ingredient(name='Spaghetti', quantity='500', quantity_unit='g'), Ingredient(name='Ground Beef', quantity='500', quantity_unit='g'), Ingredient(name='Onion', quantity='1', quantity_unit='medium'), Ingredient(name='Carrot', quantity='1', quantity_unit='medium'), Ingredient(name='Celery', quantity='1', quantity_unit='stalk'), Ingredient(name='Tomato Paste', quantity='2', quantity_unit='tbsp'), Ingredient(name='Red Wine', quantity='1', quantity_unit='cup'), Ingredient(name='Beef Broth', quantity='2', quantity_unit='cups'), Ingredient(name='Tomatoes', quantity='2', quantity_unit='cans (28 oz each)'), Ingredient(name='Olive Oil', quantity='2', quantity_unit='tbsp'), Ingredient(name='Salt', quantity='to taste', quantity_unit=None), Ingredient(name='Black Pepper', quantity='to taste', quantity_unit=None), Ingredient(name='Fresh Basil', quantity='chopped', quantity_unit=None)] directions=['Chop the onion, carrot, and celery.', 'Heat the olive oil in a large pot over medium heat.', 'Add the chopped vegetables and cook until they are softened.', 'Add the ground beef and cook until it is browned, breaking it up into small pieces as it cooks.', 'Add the tomato paste and cook for 1-2 minutes.', 'Add the red wine and bring to a boil, scraping up any browned bits from the bottom of the pot.', 'Add the beef broth and tomatoes, and bring to a boil.', 'Reduce the heat to low and simmer, covered, for 2-3 hours.', 'Season with salt and black pepper to taste.', 'Cook the spaghetti in boiling salted water until it is al dente.', 'Drain the spaghetti and serve with the sugo sauce, topped with chopped fresh basil.']\n",
      "Recipe: Pasta al Sugo\n",
      "\n",
      "Ingredients:\n",
      "- Spaghetti: 500 g\n",
      "- Ground Beef: 500 g\n",
      "- Onion: 1 medium\n",
      "- Carrot: 1 medium\n",
      "- Celery: 1 stalk\n",
      "- Tomato Paste: 2 tbsp\n",
      "- Red Wine: 1 cup\n",
      "- Beef Broth: 2 cups\n",
      "- Tomatoes: 2 cans (28 oz each)\n",
      "- Olive Oil: 2 tbsp\n",
      "- Salt: to taste \n",
      "- Black Pepper: to taste \n",
      "- Fresh Basil: chopped \n",
      "\n",
      "Directions:\n",
      "1. Chop the onion, carrot, and celery.\n",
      "2. Heat the olive oil in a large pot over medium heat.\n",
      "3. Add the chopped vegetables and cook until they are softened.\n",
      "4. Add the ground beef and cook until it is browned, breaking it up into small pieces as it cooks.\n",
      "5. Add the tomato paste and cook for 1-2 minutes.\n",
      "6. Add the red wine and bring to a boil, scraping up any browned bits from the bottom of the pot.\n",
      "7. Add the beef broth and tomatoes, and bring to a boil.\n",
      "8. Reduce the heat to low and simmer, covered, for 2-3 hours.\n",
      "9. Season with salt and black pepper to taste.\n",
      "10. Cook the spaghetti in boiling salted water until it is al dente.\n",
      "11. Drain the spaghetti and serve with the sugo sauce, topped with chopped fresh basil.\n"
     ]
    }
   ],
   "source": [
    "from typing import List, Optional\n",
    "import json\n",
    "\n",
    "from pydantic import BaseModel\n",
    "from groq import Groq\n",
    "\n",
    "groq = Groq()\n",
    "\n",
    "\n",
    "# Data model for LLM to generate\n",
    "class Ingredient(BaseModel):\n",
    "    name: str\n",
    "    quantity: str\n",
    "    quantity_unit: Optional[str]\n",
    "\n",
    "\n",
    "class Recipe(BaseModel):\n",
    "    recipe_name: str\n",
    "    ingredients: List[Ingredient]\n",
    "    directions: List[str]\n",
    "\n",
    "\n",
    "def get_recipe(recipe_name: str) -> Recipe:\n",
    "    chat_completion = groq.chat.completions.create(\n",
    "        messages=[\n",
    "            {\n",
    "                \"role\": \"system\",\n",
    "                \"content\": \"You are a recipe database that outputs recipes in JSON.\\n\"\n",
    "                # Pass the json schema to the model. Pretty printing improves results.\n",
    "                f\" The JSON object must use the schema: {json.dumps(Recipe.model_json_schema(), indent=2)}\",\n",
    "            },\n",
    "            {\n",
    "                \"role\": \"user\",\n",
    "                \"content\": f\"Fetch a recipe for {recipe_name}\",\n",
    "            },\n",
    "        ],\n",
    "        model=\"llama3-70b-8192\",\n",
    "        temperature=0,\n",
    "        # Streaming is not supported in JSON mode\n",
    "        stream=False,\n",
    "        # Enable JSON mode by setting the response format\n",
    "        response_format={\"type\": \"json_object\"},\n",
    "    )\n",
    "    return Recipe.model_validate_json(chat_completion.choices[0].message.content)\n",
    "\n",
    "\n",
    "def print_recipe(recipe: Recipe):\n",
    "    print(\"Recipe:\", recipe.recipe_name)\n",
    "\n",
    "    print(\"\\nIngredients:\")\n",
    "    for ingredient in recipe.ingredients:\n",
    "        print(\n",
    "            f\"- {ingredient.name}: {ingredient.quantity} {ingredient.quantity_unit or ''}\"\n",
    "        )\n",
    "    print(\"\\nDirections:\")\n",
    "    for step, direction in enumerate(recipe.directions, start=1):\n",
    "        print(f\"{step}. {direction}\")\n",
    "\n",
    "\n",
    "recipe = get_recipe(\"pasta al sugo\")\n",
    "print(recipe)\n",
    "print_recipe(recipe)\n"
   ]
  }
 ],
 "metadata": {
  "kernelspec": {
   "display_name": "kg_qa",
   "language": "python",
   "name": "python3"
  },
  "language_info": {
   "codemirror_mode": {
    "name": "ipython",
    "version": 3
   },
   "file_extension": ".py",
   "mimetype": "text/x-python",
   "name": "python",
   "nbconvert_exporter": "python",
   "pygments_lexer": "ipython3",
   "version": "3.11.11"
  }
 },
 "nbformat": 4,
 "nbformat_minor": 2
}
